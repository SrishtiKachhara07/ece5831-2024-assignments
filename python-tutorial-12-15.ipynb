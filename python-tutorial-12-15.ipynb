{
 "cells": [
  {
   "cell_type": "markdown",
   "metadata": {},
   "source": [
    "\n",
    "# Section 12. Working with files"
   ]
  },
  {
   "cell_type": "markdown",
   "metadata": {},
   "source": [
    "## Python Read Text File"
   ]
  },
  {
   "cell_type": "code",
   "execution_count": 2,
   "metadata": {},
   "outputs": [],
   "source": [
    "with open('readme.txt') as f:\n",
    "    lines = f.readlines()"
   ]
  },
  {
   "cell_type": "markdown",
   "metadata": {},
   "source": [
    "### Reading a text file examples"
   ]
  },
  {
   "cell_type": "code",
   "execution_count": 1,
   "metadata": {},
   "outputs": [
    {
     "name": "stdout",
     "output_type": "stream",
     "text": [
      "The Zen of Python, by Tim Peters\n",
      "\n",
      "Beautiful is better than ugly.\n",
      "Explicit is better than implicit.\n",
      "Simple is better than complex.\n",
      "Complex is better than complicated.\n",
      "Flat is better than nested.\n",
      "Sparse is better than dense.\n",
      "Readability counts.\n",
      "Special cases aren't special enough to break the rules.\n",
      "Although practicality beats purity.\n",
      "Errors should never pass silently.\n",
      "Unless explicitly silenced.\n",
      "In the face of ambiguity, refuse the temptation to guess.\n",
      "There should be one-- and preferably only one --obvious way to do it.\n",
      "Although that way may not be obvious at first unless you're Dutch.\n",
      "Now is better than never.\n",
      "Although never is often better than *right* now.\n",
      "If the implementation is hard to explain, it's a bad idea.\n",
      "If the implementation is easy to explain, it may be a good idea.\n",
      "Namespaces are one honking great idea -- let's do more of those!\n"
     ]
    }
   ],
   "source": [
    "with open('the-zen-of-python.txt') as f:\n",
    "    contents = f.read()\n",
    "    print(contents)"
   ]
  },
  {
   "cell_type": "code",
   "execution_count": 4,
   "metadata": {},
   "outputs": [
    {
     "name": "stdout",
     "output_type": "stream",
     "text": [
      "Beautiful is better than ugly.\n",
      "\n",
      "Explicit is better than implicit.\n",
      "\n",
      "Simple is better than complex.\n",
      "\n",
      "Complex is better than complicated.\n",
      "\n",
      "Flat is better than nested.\n",
      "\n",
      "Sparse is better than dense.\n",
      "\n",
      "Readability counts.\n",
      "\n",
      "Special cases aren't special enough to break the rules.\n",
      "\n",
      "Although practicality beats purity.\n",
      "\n",
      "Errors should never pass silently.\n",
      "\n",
      "Unless explicitly silenced.\n",
      "\n",
      "In the face of ambiguity, refuse the temptation to guess.\n",
      "\n",
      "There should be one-- and preferably only one --obvious way to do it.\n",
      "\n",
      "Although that way may not be obvious at first unless you're Dutch.\n",
      "\n",
      "Now is better than never.\n",
      "\n",
      "Although never is often better than *right* now.\n",
      "\n",
      "If the implementation is hard to explain, it's a bad idea.\n",
      "\n",
      "If the implementation is easy to explain, it may be a good idea.\n",
      "\n",
      "Namespaces are one honking great idea -- let's do more of those!\n"
     ]
    }
   ],
   "source": [
    "with open('the-zen-of-python.txt') as f:\n",
    "    [print(line) for line in f.readlines()]"
   ]
  },
  {
   "cell_type": "code",
   "execution_count": 5,
   "metadata": {},
   "outputs": [
    {
     "name": "stdout",
     "output_type": "stream",
     "text": [
      "Beautiful is better than ugly.\n",
      "Explicit is better than implicit.\n",
      "Simple is better than complex.\n",
      "Complex is better than complicated.\n",
      "Flat is better than nested.\n",
      "Sparse is better than dense.\n",
      "Readability counts.\n",
      "Special cases aren't special enough to break the rules.\n",
      "Although practicality beats purity.\n",
      "Errors should never pass silently.\n",
      "Unless explicitly silenced.\n",
      "In the face of ambiguity, refuse the temptation to guess.\n",
      "There should be one-- and preferably only one --obvious way to do it.\n",
      "Although that way may not be obvious at first unless you're Dutch.\n",
      "Now is better than never.\n",
      "Although never is often better than *right* now.\n",
      "If the implementation is hard to explain, it's a bad idea.\n",
      "If the implementation is easy to explain, it may be a good idea.\n",
      "Namespaces are one honking great idea -- let's do more of those!\n"
     ]
    }
   ],
   "source": [
    "with open('the-zen-of-python.txt') as f:\n",
    "    [print(line.strip()) for line in f.readlines()]"
   ]
  },
  {
   "cell_type": "code",
   "execution_count": 6,
   "metadata": {},
   "outputs": [
    {
     "name": "stdout",
     "output_type": "stream",
     "text": [
      "Beautiful is better than ugly.\n",
      "Explicit is better than implicit.\n",
      "Simple is better than complex.\n",
      "Complex is better than complicated.\n",
      "Flat is better than nested.\n",
      "Sparse is better than dense.\n",
      "Readability counts.\n",
      "Special cases aren't special enough to break the rules.\n",
      "Although practicality beats purity.\n",
      "Errors should never pass silently.\n",
      "Unless explicitly silenced.\n",
      "In the face of ambiguity, refuse the temptation to guess.\n",
      "There should be one-- and preferably only one --obvious way to do it.\n",
      "Although that way may not be obvious at first unless you're Dutch.\n",
      "Now is better than never.\n",
      "Although never is often better than *right* now.\n",
      "If the implementation is hard to explain, it's a bad idea.\n",
      "If the implementation is easy to explain, it may be a good idea.\n",
      "Namespaces are one honking great idea -- let's do more of those!\n"
     ]
    }
   ],
   "source": [
    "with open('the-zen-of-python.txt') as f:\n",
    "    while True:\n",
    "        line = f.readline()\n",
    "        if not line:\n",
    "            break\n",
    "        print(line.strip())"
   ]
  },
  {
   "cell_type": "markdown",
   "metadata": {},
   "source": [
    "### A more concise way to read a text file line by line"
   ]
  },
  {
   "cell_type": "code",
   "execution_count": 7,
   "metadata": {},
   "outputs": [
    {
     "name": "stdout",
     "output_type": "stream",
     "text": [
      "Beautiful is better than ugly.\n",
      "Explicit is better than implicit.\n",
      "Simple is better than complex.\n",
      "Complex is better than complicated.\n",
      "Flat is better than nested.\n",
      "Sparse is better than dense.\n",
      "Readability counts.\n",
      "Special cases aren't special enough to break the rules.\n",
      "Although practicality beats purity.\n",
      "Errors should never pass silently.\n",
      "Unless explicitly silenced.\n",
      "In the face of ambiguity, refuse the temptation to guess.\n",
      "There should be one-- and preferably only one --obvious way to do it.\n",
      "Although that way may not be obvious at first unless you're Dutch.\n",
      "Now is better than never.\n",
      "Although never is often better than *right* now.\n",
      "If the implementation is hard to explain, it's a bad idea.\n",
      "If the implementation is easy to explain, it may be a good idea.\n",
      "Namespaces are one honking great idea -- let's do more of those!\n"
     ]
    }
   ],
   "source": [
    "with open('the-zen-of-python.txt') as f:\n",
    "    for line in f:\n",
    "        print(line.strip())"
   ]
  },
  {
   "cell_type": "markdown",
   "metadata": {},
   "source": [
    "### Read UTF-8 text files"
   ]
  },
  {
   "cell_type": "code",
   "execution_count": 8,
   "metadata": {},
   "outputs": [
    {
     "name": "stdout",
     "output_type": "stream",
     "text": [
      "成功を収める人とは人が投げてきたレンガでしっかりした基盤を築くことができる人のことである。人生で何度も何度も失敗を繰り返してきました。だからこそ、私は成功を収めることができたのです。\n",
      "どれだけ高く登れたかで人を評価しません。尻餅をついたあと、どれだけ変わったかで評価をするのです。\n",
      "成功を収める人とは人が投げてきたレンガでしっかりした基盤を築くことができる人のことである。\n"
     ]
    }
   ],
   "source": [
    "with open('quotes.txt', encoding='utf8') as f:\n",
    "    for line in f:\n",
    "        print(line.strip())"
   ]
  },
  {
   "cell_type": "markdown",
   "metadata": {},
   "source": [
    "## Python Write Text File"
   ]
  },
  {
   "cell_type": "code",
   "execution_count": 3,
   "metadata": {},
   "outputs": [],
   "source": [
    "with open('readme1.txt', 'w') as f:\n",
    "    f.write('readme')"
   ]
  },
  {
   "cell_type": "code",
   "execution_count": 4,
   "metadata": {},
   "outputs": [],
   "source": [
    "#Writing text file examples\n",
    "lines = ['Readme', 'How to write text files in Python']\n",
    "with open('readme.txt', 'w') as f:\n",
    "    for line in lines:\n",
    "        f.write(line)\n",
    "        f.write('\\n')"
   ]
  },
  {
   "cell_type": "code",
   "execution_count": 5,
   "metadata": {},
   "outputs": [],
   "source": [
    "lines = ['Readme', 'How to write text files in Python']\n",
    "with open('readme.txt', 'w') as f:\n",
    "    f.writelines(lines)"
   ]
  },
  {
   "cell_type": "code",
   "execution_count": 6,
   "metadata": {},
   "outputs": [],
   "source": [
    "lines = ['Readme', 'How to write text files in Python']\n",
    "with open('readme.txt', 'w') as f:\n",
    "    f.write('\\n'.join(lines))"
   ]
  },
  {
   "cell_type": "code",
   "execution_count": 7,
   "metadata": {},
   "outputs": [],
   "source": [
    "# Appending text files\n",
    "more_lines = ['', 'Hello World', 'The End']\n",
    "\n",
    "with open('readme.txt', 'a') as f:\n",
    "    f.write('\\n'.join(more_lines))"
   ]
  },
  {
   "cell_type": "markdown",
   "metadata": {},
   "source": [
    "### Writing to a UTF-8 text file"
   ]
  },
  {
   "cell_type": "code",
   "execution_count": 8,
   "metadata": {},
   "outputs": [],
   "source": [
    "quote = '成功を収める人とは人が投げてきたレンガでしっかりした基盤を築くことができる人のことである。'\n",
    "\n",
    "with open('quotes1.txt', 'w', encoding='utf-8') as f:\n",
    "    f.write(quote)"
   ]
  },
  {
   "cell_type": "markdown",
   "metadata": {},
   "source": [
    "# Python Create Text File"
   ]
  },
  {
   "cell_type": "code",
   "execution_count": 9,
   "metadata": {},
   "outputs": [],
   "source": [
    "with open('readme.txt', 'w') as f:\n",
    "    f.write('Create a new text file!')"
   ]
  },
  {
   "cell_type": "code",
   "execution_count": 10,
   "metadata": {},
   "outputs": [
    {
     "name": "stdout",
     "output_type": "stream",
     "text": [
      "The 'docs' directory does not exist\n"
     ]
    }
   ],
   "source": [
    "\n",
    "try:\n",
    "    with open('docs/readme.txt', 'w') as f:\n",
    "        f.write('Create a new text file!')\n",
    "except FileNotFoundError:\n",
    "    print(\"The 'docs' directory does not exist\")\n"
   ]
  },
  {
   "cell_type": "code",
   "execution_count": 13,
   "metadata": {},
   "outputs": [],
   "source": [
    "with open('readme123.txt', 'x') as f:\n",
    "    f.write('Create a new text file!, Hello!')"
   ]
  },
  {
   "cell_type": "markdown",
   "metadata": {},
   "source": [
    "# Python Check If File Exists"
   ]
  },
  {
   "cell_type": "markdown",
   "metadata": {},
   "source": [
    "###  1) Using os.path.exists() function to check if a file exists"
   ]
  },
  {
   "cell_type": "code",
   "execution_count": 14,
   "metadata": {},
   "outputs": [
    {
     "name": "stdout",
     "output_type": "stream",
     "text": [
      "True\n"
     ]
    }
   ],
   "source": [
    "import os.path\n",
    "\n",
    "file_exists = os.path.exists('readme.txt')\n",
    "\n",
    "print(file_exists)"
   ]
  },
  {
   "cell_type": "code",
   "execution_count": 15,
   "metadata": {},
   "outputs": [
    {
     "data": {
      "text/plain": [
       "False"
      ]
     },
     "execution_count": 15,
     "metadata": {},
     "output_type": "execute_result"
    }
   ],
   "source": [
    "# using os.path\n",
    "from os.path import exists as file_exists\n",
    "\n",
    "file_exists('readme.txt')"
   ]
  },
  {
   "cell_type": "code",
   "execution_count": 17,
   "metadata": {},
   "outputs": [
    {
     "name": "stdout",
     "output_type": "stream",
     "text": [
      "The file readme.txt exists\n"
     ]
    }
   ],
   "source": [
    "#using Pathlib\n",
    "from pathlib import Path\n",
    "\n",
    "path_to_file = 'readme.txt'\n",
    "path = Path(path_to_file)\n",
    "\n",
    "if path.is_file():\n",
    "    print(f'The file {path_to_file} exists')\n",
    "else:\n",
    "    print(f'The file {path_to_file} does not exist')"
   ]
  },
  {
   "cell_type": "markdown",
   "metadata": {},
   "source": [
    "# Python Read CSV File\n"
   ]
  },
  {
   "cell_type": "code",
   "execution_count": 18,
   "metadata": {},
   "outputs": [
    {
     "name": "stdout",
     "output_type": "stream",
     "text": [
      "['name', 'area', 'country_code2', 'country_code3']\n",
      "['Afghanistan', '652090.00', 'AF', 'AFG']\n",
      "['Albania', '28748.00', 'AL', 'ALB']\n",
      "['Algeria', '2381741.00', 'DZ', 'DZA']\n",
      "['American Samoa', '199.00', 'AS', 'ASM']\n",
      "['Andorra', '468.00', 'AD', 'AND']\n",
      "['Angola', '1246700.00', 'AO', 'AGO']\n",
      "['Anguilla', '96.00', 'AI', 'AIA']\n",
      "['Antarctica', '13120000.00', 'AQ', 'ATA']\n",
      "['Antigua and Barbuda', '442.00', 'AG', 'ATG']\n",
      "['Argentina', '2780400.00', 'AR', 'ARG']\n",
      "['Armenia', '29800.00', 'AM', 'ARM']\n",
      "['Aruba', '193.00', 'AW', 'ABW']\n",
      "['Australia', '7741220.00', 'AU', 'AUS']\n",
      "['Austria', '83859.00', 'AT', 'AUT']\n",
      "['Azerbaijan', '86600.00', 'AZ', 'AZE']\n",
      "['Bahamas', '13878.00', 'BS', 'BHS']\n",
      "['Bahrain', '694.00', 'BH', 'BHR']\n",
      "['Bangladesh', '143998.00', 'BD', 'BGD']\n",
      "['Barbados', '430.00', 'BB', 'BRB']\n",
      "['Belarus', '207600.00', 'BY', 'BLR']\n",
      "['Belgium', '30518.00', 'BE', 'BEL']\n",
      "['Belize', '22696.00', 'BZ', 'BLZ']\n",
      "['Benin', '112622.00', 'BJ', 'BEN']\n",
      "['Bermuda', '53.00', 'BM', 'BMU']\n",
      "['Bhutan', '47000.00', 'BT', 'BTN']\n",
      "['Bolivia', '1098581.00', 'BO', 'BOL']\n",
      "['Bosnia and Herzegovina', '51197.00', 'BA', 'BIH']\n",
      "['Botswana', '581730.00', 'BW', 'BWA']\n",
      "['Bouvet Island', '59.00', 'BV', 'BVT']\n",
      "['Brazil', '8547403.00', 'BR', 'BRA']\n",
      "['British Indian Ocean Territory', '78.00', 'IO', 'IOT']\n",
      "['Brunei', '5765.00', 'BN', 'BRN']\n",
      "['Bulgaria', '110994.00', 'BG', 'BGR']\n",
      "['Burkina Faso', '274000.00', 'BF', 'BFA']\n",
      "['Burundi', '27834.00', 'BI', 'BDI']\n",
      "['Cambodia', '181035.00', 'KH', 'KHM']\n",
      "['Cameroon', '475442.00', 'CM', 'CMR']\n",
      "['Canada', '9970610.00', 'CA', 'CAN']\n",
      "['Cape Verde', '4033.00', 'CV', 'CPV']\n",
      "['Cayman Islands', '264.00', 'KY', 'CYM']\n",
      "['Central African Republic', '622984.00', 'CF', 'CAF']\n",
      "['Chad', '1284000.00', 'TD', 'TCD']\n",
      "['Chile', '756626.00', 'CL', 'CHL']\n",
      "['China', '9572900.00', 'CN', 'CHN']\n",
      "['Christmas Island', '135.00', 'CX', 'CXR']\n",
      "['Cocos (Keeling) Islands', '14.00', 'CC', 'CCK']\n",
      "['Colombia', '1138914.00', 'CO', 'COL']\n",
      "['Comoros', '1862.00', 'KM', 'COM']\n",
      "['Congo', '342000.00', 'CG', 'COG']\n",
      "['Cook Islands', '236.00', 'CK', 'COK']\n",
      "['Costa Rica', '51100.00', 'CR', 'CRI']\n",
      "['Côte d’Ivoire', '322463.00', 'CI', 'CIV']\n",
      "['Croatia', '56538.00', 'HR', 'HRV']\n",
      "['Cuba', '110861.00', 'CU', 'CUB']\n",
      "['Cyprus', '9251.00', 'CY', 'CYP']\n",
      "['Czech Republic', '78866.00', 'CZ', 'CZE']\n",
      "['Denmark', '43094.00', 'DK', 'DNK']\n",
      "['Djibouti', '23200.00', 'DJ', 'DJI']\n",
      "['Dominica', '751.00', 'DM', 'DMA']\n",
      "['Dominican Republic', '48511.00', 'DO', 'DOM']\n",
      "['East Timor', '14874.00', 'TP', 'TMP']\n",
      "['Ecuador', '283561.00', 'EC', 'ECU']\n",
      "['Egypt', '1001449.00', 'EG', 'EGY']\n",
      "['El Salvador', '21041.00', 'SV', 'SLV']\n",
      "['Equatorial Guinea', '28051.00', 'GQ', 'GNQ']\n",
      "['Eritrea', '117600.00', 'ER', 'ERI']\n",
      "['Estonia', '45227.00', 'EE', 'EST']\n",
      "['Ethiopia', '1104300.00', 'ET', 'ETH']\n",
      "['Falkland Islands', '12173.00', 'FK', 'FLK']\n",
      "['Faroe Islands', '1399.00', 'FO', 'FRO']\n",
      "['Federated States of Micronesia', '702.00', 'FM', 'FSM']\n",
      "['Fiji Islands', '18274.00', 'FJ', 'FJI']\n",
      "['Finland', '338145.00', 'FI', 'FIN']\n",
      "['France', '551500.00', 'FR', 'FRA']\n",
      "['French Guiana', '90000.00', 'GF', 'GUF']\n",
      "['French Polynesia', '4000.00', 'PF', 'PYF']\n",
      "['French Southern territories', '7780.00', 'TF', 'ATF']\n",
      "['Gabon', '267668.00', 'GA', 'GAB']\n",
      "['Gambia', '11295.00', 'GM', 'GMB']\n",
      "['Georgia', '69700.00', 'GE', 'GEO']\n",
      "['Germany', '357022.00', 'DE', 'DEU']\n",
      "['Ghana', '238533.00', 'GH', 'GHA']\n",
      "['Gibraltar', '6.00', 'GI', 'GIB']\n",
      "['Greece', '131626.00', 'GR', 'GRC']\n",
      "['Greenland', '2166090.00', 'GL', 'GRL']\n",
      "['Grenada', '344.00', 'GD', 'GRD']\n",
      "['Guadeloupe', '1705.00', 'GP', 'GLP']\n",
      "['Guam', '549.00', 'GU', 'GUM']\n",
      "['Guatemala', '108889.00', 'GT', 'GTM']\n",
      "['Guinea', '245857.00', 'GN', 'GIN']\n",
      "['Guinea-Bissau', '36125.00', 'GW', 'GNB']\n",
      "['Guyana', '214969.00', 'GY', 'GUY']\n",
      "['Haiti', '27750.00', 'HT', 'HTI']\n",
      "['Heard Island and McDonald Islands', '359.00', 'HM', 'HMD']\n",
      "['Holy See (Vatican City State)', '0.40', 'VA', 'VAT']\n",
      "['Honduras', '112088.00', 'HN', 'HND']\n",
      "['Hong Kong', '1075.00', 'HK', 'HKG']\n",
      "['Hungary', '93030.00', 'HU', 'HUN']\n",
      "['Iceland', '103000.00', 'IS', 'ISL']\n",
      "['India', '3287263.00', 'IN', 'IND']\n",
      "['Indonesia', '1904569.00', 'ID', 'IDN']\n",
      "['Iran', '1648195.00', 'IR', 'IRN']\n",
      "['Iraq', '438317.00', 'IQ', 'IRQ']\n",
      "['Ireland', '70273.00', 'IE', 'IRL']\n",
      "['Israel', '21056.00', 'IL', 'ISR']\n",
      "['Italy', '301316.00', 'IT', 'ITA']\n",
      "['Jamaica', '10990.00', 'JM', 'JAM']\n",
      "['Japan', '377829.00', 'JP', 'JPN']\n",
      "['Jordan', '88946.00', 'JO', 'JOR']\n",
      "['Kazakstan', '2724900.00', 'KZ', 'KAZ']\n",
      "['Kenya', '580367.00', 'KE', 'KEN']\n",
      "['Kiribati', '726.00', 'KI', 'KIR']\n",
      "['Kuwait', '17818.00', 'KW', 'KWT']\n",
      "['Kyrgyzstan', '199900.00', 'KG', 'KGZ']\n",
      "['Laos', '236800.00', 'LA', 'LAO']\n",
      "['Latvia', '64589.00', 'LV', 'LVA']\n",
      "['Lebanon', '10400.00', 'LB', 'LBN']\n",
      "['Lesotho', '30355.00', 'LS', 'LSO']\n",
      "['Liberia', '111369.00', 'LR', 'LBR']\n",
      "['Libyan Arab Jamahiriya', '1759540.00', 'LY', 'LBY']\n",
      "['Liechtenstein', '160.00', 'LI', 'LIE']\n",
      "['Lithuania', '65301.00', 'LT', 'LTU']\n",
      "['Luxembourg', '2586.00', 'LU', 'LUX']\n",
      "['Macao', '18.00', 'MO', 'MAC']\n",
      "['Macedonia', '25713.00', 'MK', 'MKD']\n",
      "['Madagascar', '587041.00', 'MG', 'MDG']\n",
      "['Malawi', '118484.00', 'MW', 'MWI']\n",
      "['Malaysia', '329758.00', 'MY', 'MYS']\n",
      "['Maldives', '298.00', 'MV', 'MDV']\n",
      "['Mali', '1240192.00', 'ML', 'MLI']\n",
      "['Malta', '316.00', 'MT', 'MLT']\n",
      "['Marshall Islands', '181.00', 'MH', 'MHL']\n",
      "['Martinique', '1102.00', 'MQ', 'MTQ']\n",
      "['Mauritania', '1025520.00', 'MR', 'MRT']\n",
      "['Mauritius', '2040.00', 'MU', 'MUS']\n",
      "['Mayotte', '373.00', 'YT', 'MYT']\n",
      "['Mexico', '1958201.00', 'MX', 'MEX']\n",
      "['Moldova', '33851.00', 'MD', 'MDA']\n",
      "['Monaco', '1.50', 'MC', 'MCO']\n",
      "['Mongolia', '1566500.00', 'MN', 'MNG']\n",
      "['Montserrat', '102.00', 'MS', 'MSR']\n",
      "['Morocco', '446550.00', 'MA', 'MAR']\n",
      "['Mozambique', '801590.00', 'MZ', 'MOZ']\n",
      "['Myanmar', '676578.00', 'MM', 'MMR']\n",
      "['Namibia', '824292.00', 'NA', 'NAM']\n",
      "['Nauru', '21.00', 'NR', 'NRU']\n",
      "['Nepal', '147181.00', 'NP', 'NPL']\n",
      "['Netherlands', '41526.00', 'NL', 'NLD']\n",
      "['Netherlands Antilles', '800.00', 'AN', 'ANT']\n",
      "['New Caledonia', '18575.00', 'NC', 'NCL']\n",
      "['New Zealand', '270534.00', 'NZ', 'NZL']\n",
      "['Nicaragua', '130000.00', 'NI', 'NIC']\n",
      "['Niger', '1267000.00', 'NE', 'NER']\n",
      "['Nigeria', '923768.00', 'NG', 'NGA']\n",
      "['Niue', '260.00', 'NU', 'NIU']\n",
      "['Norfolk Island', '36.00', 'NF', 'NFK']\n",
      "['North Korea', '120538.00', 'KP', 'PRK']\n",
      "['Northern Mariana Islands', '464.00', 'MP', 'MNP']\n",
      "['Norway', '323877.00', 'NO', 'NOR']\n",
      "['Oman', '309500.00', 'OM', 'OMN']\n",
      "['Pakistan', '796095.00', 'PK', 'PAK']\n",
      "['Palau', '459.00', 'PW', 'PLW']\n",
      "['Palestine', '6257.00', 'PS', 'PSE']\n",
      "['Panama', '75517.00', 'PA', 'PAN']\n",
      "['Papua New Guinea', '462840.00', 'PG', 'PNG']\n",
      "['Paraguay', '406752.00', 'PY', 'PRY']\n",
      "['Peru', '1285216.00', 'PE', 'PER']\n",
      "['Philippines', '300000.00', 'PH', 'PHL']\n",
      "['Pitcairn', '49.00', 'PN', 'PCN']\n",
      "['Poland', '323250.00', 'PL', 'POL']\n",
      "['Portugal', '91982.00', 'PT', 'PRT']\n",
      "['Puerto Rico', '8875.00', 'PR', 'PRI']\n",
      "['Qatar', '11000.00', 'QA', 'QAT']\n",
      "['Réunion', '2510.00', 'RE', 'REU']\n",
      "['Romania', '238391.00', 'RO', 'ROM']\n",
      "['Russian Federation', '17075400.00', 'RU', 'RUS']\n",
      "['Rwanda', '26338.00', 'RW', 'RWA']\n",
      "['Saint Helena', '314.00', 'SH', 'SHN']\n",
      "['Saint Kitts and Nevis', '261.00', 'KN', 'KNA']\n",
      "['Saint Lucia', '622.00', 'LC', 'LCA']\n",
      "['Saint Pierre and Miquelon', '242.00', 'PM', 'SPM']\n",
      "['Saint Vincent and the Grenadines', '388.00', 'VC', 'VCT']\n",
      "['Samoa', '2831.00', 'WS', 'WSM']\n",
      "['San Marino', '61.00', 'SM', 'SMR']\n",
      "['Sao Tome and Principe', '964.00', 'ST', 'STP']\n",
      "['Saudi Arabia', '2149690.00', 'SA', 'SAU']\n",
      "['Senegal', '196722.00', 'SN', 'SEN']\n",
      "['Seychelles', '455.00', 'SC', 'SYC']\n",
      "['Sierra Leone', '71740.00', 'SL', 'SLE']\n",
      "['Singapore', '618.00', 'SG', 'SGP']\n",
      "['Slovakia', '49012.00', 'SK', 'SVK']\n",
      "['Slovenia', '20256.00', 'SI', 'SVN']\n",
      "['Solomon Islands', '28896.00', 'SB', 'SLB']\n",
      "['Somalia', '637657.00', 'SO', 'SOM']\n",
      "['South Africa', '1221037.00', 'ZA', 'ZAF']\n",
      "['South Georgia and the South Sandwich Islands', '3903.00', 'GS', 'SGS']\n",
      "['South Korea', '99434.00', 'KR', 'KOR']\n",
      "['Spain', '505992.00', 'ES', 'ESP']\n",
      "['Sri Lanka', '65610.00', 'LK', 'LKA']\n",
      "['Sudan', '2505813.00', 'SD', 'SDN']\n",
      "['Suriname', '163265.00', 'SR', 'SUR']\n",
      "['Svalbard and Jan Mayen', '62422.00', 'SJ', 'SJM']\n",
      "['Swaziland', '17364.00', 'SZ', 'SWZ']\n",
      "['Sweden', '449964.00', 'SE', 'SWE']\n",
      "['Switzerland', '41284.00', 'CH', 'CHE']\n",
      "['Syria', '185180.00', 'SY', 'SYR']\n",
      "['Taiwan', '36188.00', 'TW', 'TWN']\n",
      "['Tajikistan', '143100.00', 'TJ', 'TJK']\n",
      "['Tanzania', '883749.00', 'TZ', 'TZA']\n",
      "['Thailand', '513115.00', 'TH', 'THA']\n",
      "['The Democratic Republic of the Congo', '2344858.00', 'CD', 'COD']\n",
      "['Togo', '56785.00', 'TG', 'TGO']\n",
      "['Tokelau', '12.00', 'TK', 'TKL']\n",
      "['Tonga', '650.00', 'TO', 'TON']\n",
      "['Trinidad and Tobago', '5130.00', 'TT', 'TTO']\n",
      "['Tunisia', '163610.00', 'TN', 'TUN']\n",
      "['Turkey', '774815.00', 'TR', 'TUR']\n",
      "['Turkmenistan', '488100.00', 'TM', 'TKM']\n",
      "['Turks and Caicos Islands', '430.00', 'TC', 'TCA']\n",
      "['Tuvalu', '26.00', 'TV', 'TUV']\n",
      "['Uganda', '241038.00', 'UG', 'UGA']\n",
      "['Ukraine', '603700.00', 'UA', 'UKR']\n",
      "['United Arab Emirates', '83600.00', 'AE', 'ARE']\n",
      "['United Kingdom', '242900.00', 'GB', 'GBR']\n",
      "['United States', '9363520.00', 'US', 'USA']\n",
      "['United States Minor Outlying Islands', '16.00', 'UM', 'UMI']\n",
      "['Uruguay', '175016.00', 'UY', 'URY']\n",
      "['Uzbekistan', '447400.00', 'UZ', 'UZB']\n",
      "['Vanuatu', '12189.00', 'VU', 'VUT']\n",
      "['Venezuela', '912050.00', 'VE', 'VEN']\n",
      "['Vietnam', '331689.00', 'VN', 'VNM']\n",
      "['Virgin Islands, British', '151.00', 'VG', 'VGB']\n",
      "['Virgin Islands, U.S.', '347.00', 'VI', 'VIR']\n",
      "['Wallis and Futuna', '200.00', 'WF', 'WLF']\n",
      "['Western Sahara', '266000.00', 'EH', 'ESH']\n",
      "['Yemen', '527968.00', 'YE', 'YEM']\n",
      "['Yugoslavia', '102173.00', 'YU', 'YUG']\n",
      "['Zambia', '752618.00', 'ZM', 'ZMB']\n",
      "['Zimbabwe', '390757.00', 'ZW', 'ZWE']\n"
     ]
    }
   ],
   "source": [
    "import csv\n",
    "\n",
    "with open('country.csv', encoding=\"utf8\") as f:\n",
    "    csv_reader = csv.reader(f)\n",
    "    for line in csv_reader:\n",
    "        print(line)"
   ]
  },
  {
   "cell_type": "code",
   "execution_count": 19,
   "metadata": {},
   "outputs": [
    {
     "name": "stdout",
     "output_type": "stream",
     "text": [
      "Header:\n",
      "['name', 'area', 'country_code2', 'country_code3']\n",
      "Data:\n",
      "['Afghanistan', '652090.00', 'AF', 'AFG']\n",
      "['Albania', '28748.00', 'AL', 'ALB']\n",
      "['Algeria', '2381741.00', 'DZ', 'DZA']\n",
      "['American Samoa', '199.00', 'AS', 'ASM']\n",
      "['Andorra', '468.00', 'AD', 'AND']\n",
      "['Angola', '1246700.00', 'AO', 'AGO']\n",
      "['Anguilla', '96.00', 'AI', 'AIA']\n",
      "['Antarctica', '13120000.00', 'AQ', 'ATA']\n",
      "['Antigua and Barbuda', '442.00', 'AG', 'ATG']\n",
      "['Argentina', '2780400.00', 'AR', 'ARG']\n",
      "['Armenia', '29800.00', 'AM', 'ARM']\n",
      "['Aruba', '193.00', 'AW', 'ABW']\n",
      "['Australia', '7741220.00', 'AU', 'AUS']\n",
      "['Austria', '83859.00', 'AT', 'AUT']\n",
      "['Azerbaijan', '86600.00', 'AZ', 'AZE']\n",
      "['Bahamas', '13878.00', 'BS', 'BHS']\n",
      "['Bahrain', '694.00', 'BH', 'BHR']\n",
      "['Bangladesh', '143998.00', 'BD', 'BGD']\n",
      "['Barbados', '430.00', 'BB', 'BRB']\n",
      "['Belarus', '207600.00', 'BY', 'BLR']\n",
      "['Belgium', '30518.00', 'BE', 'BEL']\n",
      "['Belize', '22696.00', 'BZ', 'BLZ']\n",
      "['Benin', '112622.00', 'BJ', 'BEN']\n",
      "['Bermuda', '53.00', 'BM', 'BMU']\n",
      "['Bhutan', '47000.00', 'BT', 'BTN']\n",
      "['Bolivia', '1098581.00', 'BO', 'BOL']\n",
      "['Bosnia and Herzegovina', '51197.00', 'BA', 'BIH']\n",
      "['Botswana', '581730.00', 'BW', 'BWA']\n",
      "['Bouvet Island', '59.00', 'BV', 'BVT']\n",
      "['Brazil', '8547403.00', 'BR', 'BRA']\n",
      "['British Indian Ocean Territory', '78.00', 'IO', 'IOT']\n",
      "['Brunei', '5765.00', 'BN', 'BRN']\n",
      "['Bulgaria', '110994.00', 'BG', 'BGR']\n",
      "['Burkina Faso', '274000.00', 'BF', 'BFA']\n",
      "['Burundi', '27834.00', 'BI', 'BDI']\n",
      "['Cambodia', '181035.00', 'KH', 'KHM']\n",
      "['Cameroon', '475442.00', 'CM', 'CMR']\n",
      "['Canada', '9970610.00', 'CA', 'CAN']\n",
      "['Cape Verde', '4033.00', 'CV', 'CPV']\n",
      "['Cayman Islands', '264.00', 'KY', 'CYM']\n",
      "['Central African Republic', '622984.00', 'CF', 'CAF']\n",
      "['Chad', '1284000.00', 'TD', 'TCD']\n",
      "['Chile', '756626.00', 'CL', 'CHL']\n",
      "['China', '9572900.00', 'CN', 'CHN']\n",
      "['Christmas Island', '135.00', 'CX', 'CXR']\n",
      "['Cocos (Keeling) Islands', '14.00', 'CC', 'CCK']\n",
      "['Colombia', '1138914.00', 'CO', 'COL']\n",
      "['Comoros', '1862.00', 'KM', 'COM']\n",
      "['Congo', '342000.00', 'CG', 'COG']\n",
      "['Cook Islands', '236.00', 'CK', 'COK']\n",
      "['Costa Rica', '51100.00', 'CR', 'CRI']\n",
      "['Côte d’Ivoire', '322463.00', 'CI', 'CIV']\n",
      "['Croatia', '56538.00', 'HR', 'HRV']\n",
      "['Cuba', '110861.00', 'CU', 'CUB']\n",
      "['Cyprus', '9251.00', 'CY', 'CYP']\n",
      "['Czech Republic', '78866.00', 'CZ', 'CZE']\n",
      "['Denmark', '43094.00', 'DK', 'DNK']\n",
      "['Djibouti', '23200.00', 'DJ', 'DJI']\n",
      "['Dominica', '751.00', 'DM', 'DMA']\n",
      "['Dominican Republic', '48511.00', 'DO', 'DOM']\n",
      "['East Timor', '14874.00', 'TP', 'TMP']\n",
      "['Ecuador', '283561.00', 'EC', 'ECU']\n",
      "['Egypt', '1001449.00', 'EG', 'EGY']\n",
      "['El Salvador', '21041.00', 'SV', 'SLV']\n",
      "['Equatorial Guinea', '28051.00', 'GQ', 'GNQ']\n",
      "['Eritrea', '117600.00', 'ER', 'ERI']\n",
      "['Estonia', '45227.00', 'EE', 'EST']\n",
      "['Ethiopia', '1104300.00', 'ET', 'ETH']\n",
      "['Falkland Islands', '12173.00', 'FK', 'FLK']\n",
      "['Faroe Islands', '1399.00', 'FO', 'FRO']\n",
      "['Federated States of Micronesia', '702.00', 'FM', 'FSM']\n",
      "['Fiji Islands', '18274.00', 'FJ', 'FJI']\n",
      "['Finland', '338145.00', 'FI', 'FIN']\n",
      "['France', '551500.00', 'FR', 'FRA']\n",
      "['French Guiana', '90000.00', 'GF', 'GUF']\n",
      "['French Polynesia', '4000.00', 'PF', 'PYF']\n",
      "['French Southern territories', '7780.00', 'TF', 'ATF']\n",
      "['Gabon', '267668.00', 'GA', 'GAB']\n",
      "['Gambia', '11295.00', 'GM', 'GMB']\n",
      "['Georgia', '69700.00', 'GE', 'GEO']\n",
      "['Germany', '357022.00', 'DE', 'DEU']\n",
      "['Ghana', '238533.00', 'GH', 'GHA']\n",
      "['Gibraltar', '6.00', 'GI', 'GIB']\n",
      "['Greece', '131626.00', 'GR', 'GRC']\n",
      "['Greenland', '2166090.00', 'GL', 'GRL']\n",
      "['Grenada', '344.00', 'GD', 'GRD']\n",
      "['Guadeloupe', '1705.00', 'GP', 'GLP']\n",
      "['Guam', '549.00', 'GU', 'GUM']\n",
      "['Guatemala', '108889.00', 'GT', 'GTM']\n",
      "['Guinea', '245857.00', 'GN', 'GIN']\n",
      "['Guinea-Bissau', '36125.00', 'GW', 'GNB']\n",
      "['Guyana', '214969.00', 'GY', 'GUY']\n",
      "['Haiti', '27750.00', 'HT', 'HTI']\n",
      "['Heard Island and McDonald Islands', '359.00', 'HM', 'HMD']\n",
      "['Holy See (Vatican City State)', '0.40', 'VA', 'VAT']\n",
      "['Honduras', '112088.00', 'HN', 'HND']\n",
      "['Hong Kong', '1075.00', 'HK', 'HKG']\n",
      "['Hungary', '93030.00', 'HU', 'HUN']\n",
      "['Iceland', '103000.00', 'IS', 'ISL']\n",
      "['India', '3287263.00', 'IN', 'IND']\n",
      "['Indonesia', '1904569.00', 'ID', 'IDN']\n",
      "['Iran', '1648195.00', 'IR', 'IRN']\n",
      "['Iraq', '438317.00', 'IQ', 'IRQ']\n",
      "['Ireland', '70273.00', 'IE', 'IRL']\n",
      "['Israel', '21056.00', 'IL', 'ISR']\n",
      "['Italy', '301316.00', 'IT', 'ITA']\n",
      "['Jamaica', '10990.00', 'JM', 'JAM']\n",
      "['Japan', '377829.00', 'JP', 'JPN']\n",
      "['Jordan', '88946.00', 'JO', 'JOR']\n",
      "['Kazakstan', '2724900.00', 'KZ', 'KAZ']\n",
      "['Kenya', '580367.00', 'KE', 'KEN']\n",
      "['Kiribati', '726.00', 'KI', 'KIR']\n",
      "['Kuwait', '17818.00', 'KW', 'KWT']\n",
      "['Kyrgyzstan', '199900.00', 'KG', 'KGZ']\n",
      "['Laos', '236800.00', 'LA', 'LAO']\n",
      "['Latvia', '64589.00', 'LV', 'LVA']\n",
      "['Lebanon', '10400.00', 'LB', 'LBN']\n",
      "['Lesotho', '30355.00', 'LS', 'LSO']\n",
      "['Liberia', '111369.00', 'LR', 'LBR']\n",
      "['Libyan Arab Jamahiriya', '1759540.00', 'LY', 'LBY']\n",
      "['Liechtenstein', '160.00', 'LI', 'LIE']\n",
      "['Lithuania', '65301.00', 'LT', 'LTU']\n",
      "['Luxembourg', '2586.00', 'LU', 'LUX']\n",
      "['Macao', '18.00', 'MO', 'MAC']\n",
      "['Macedonia', '25713.00', 'MK', 'MKD']\n",
      "['Madagascar', '587041.00', 'MG', 'MDG']\n",
      "['Malawi', '118484.00', 'MW', 'MWI']\n",
      "['Malaysia', '329758.00', 'MY', 'MYS']\n",
      "['Maldives', '298.00', 'MV', 'MDV']\n",
      "['Mali', '1240192.00', 'ML', 'MLI']\n",
      "['Malta', '316.00', 'MT', 'MLT']\n",
      "['Marshall Islands', '181.00', 'MH', 'MHL']\n",
      "['Martinique', '1102.00', 'MQ', 'MTQ']\n",
      "['Mauritania', '1025520.00', 'MR', 'MRT']\n",
      "['Mauritius', '2040.00', 'MU', 'MUS']\n",
      "['Mayotte', '373.00', 'YT', 'MYT']\n",
      "['Mexico', '1958201.00', 'MX', 'MEX']\n",
      "['Moldova', '33851.00', 'MD', 'MDA']\n",
      "['Monaco', '1.50', 'MC', 'MCO']\n",
      "['Mongolia', '1566500.00', 'MN', 'MNG']\n",
      "['Montserrat', '102.00', 'MS', 'MSR']\n",
      "['Morocco', '446550.00', 'MA', 'MAR']\n",
      "['Mozambique', '801590.00', 'MZ', 'MOZ']\n",
      "['Myanmar', '676578.00', 'MM', 'MMR']\n",
      "['Namibia', '824292.00', 'NA', 'NAM']\n",
      "['Nauru', '21.00', 'NR', 'NRU']\n",
      "['Nepal', '147181.00', 'NP', 'NPL']\n",
      "['Netherlands', '41526.00', 'NL', 'NLD']\n",
      "['Netherlands Antilles', '800.00', 'AN', 'ANT']\n",
      "['New Caledonia', '18575.00', 'NC', 'NCL']\n",
      "['New Zealand', '270534.00', 'NZ', 'NZL']\n",
      "['Nicaragua', '130000.00', 'NI', 'NIC']\n",
      "['Niger', '1267000.00', 'NE', 'NER']\n",
      "['Nigeria', '923768.00', 'NG', 'NGA']\n",
      "['Niue', '260.00', 'NU', 'NIU']\n",
      "['Norfolk Island', '36.00', 'NF', 'NFK']\n",
      "['North Korea', '120538.00', 'KP', 'PRK']\n",
      "['Northern Mariana Islands', '464.00', 'MP', 'MNP']\n",
      "['Norway', '323877.00', 'NO', 'NOR']\n",
      "['Oman', '309500.00', 'OM', 'OMN']\n",
      "['Pakistan', '796095.00', 'PK', 'PAK']\n",
      "['Palau', '459.00', 'PW', 'PLW']\n",
      "['Palestine', '6257.00', 'PS', 'PSE']\n",
      "['Panama', '75517.00', 'PA', 'PAN']\n",
      "['Papua New Guinea', '462840.00', 'PG', 'PNG']\n",
      "['Paraguay', '406752.00', 'PY', 'PRY']\n",
      "['Peru', '1285216.00', 'PE', 'PER']\n",
      "['Philippines', '300000.00', 'PH', 'PHL']\n",
      "['Pitcairn', '49.00', 'PN', 'PCN']\n",
      "['Poland', '323250.00', 'PL', 'POL']\n",
      "['Portugal', '91982.00', 'PT', 'PRT']\n",
      "['Puerto Rico', '8875.00', 'PR', 'PRI']\n",
      "['Qatar', '11000.00', 'QA', 'QAT']\n",
      "['Réunion', '2510.00', 'RE', 'REU']\n",
      "['Romania', '238391.00', 'RO', 'ROM']\n",
      "['Russian Federation', '17075400.00', 'RU', 'RUS']\n",
      "['Rwanda', '26338.00', 'RW', 'RWA']\n",
      "['Saint Helena', '314.00', 'SH', 'SHN']\n",
      "['Saint Kitts and Nevis', '261.00', 'KN', 'KNA']\n",
      "['Saint Lucia', '622.00', 'LC', 'LCA']\n",
      "['Saint Pierre and Miquelon', '242.00', 'PM', 'SPM']\n",
      "['Saint Vincent and the Grenadines', '388.00', 'VC', 'VCT']\n",
      "['Samoa', '2831.00', 'WS', 'WSM']\n",
      "['San Marino', '61.00', 'SM', 'SMR']\n",
      "['Sao Tome and Principe', '964.00', 'ST', 'STP']\n",
      "['Saudi Arabia', '2149690.00', 'SA', 'SAU']\n",
      "['Senegal', '196722.00', 'SN', 'SEN']\n",
      "['Seychelles', '455.00', 'SC', 'SYC']\n",
      "['Sierra Leone', '71740.00', 'SL', 'SLE']\n",
      "['Singapore', '618.00', 'SG', 'SGP']\n",
      "['Slovakia', '49012.00', 'SK', 'SVK']\n",
      "['Slovenia', '20256.00', 'SI', 'SVN']\n",
      "['Solomon Islands', '28896.00', 'SB', 'SLB']\n",
      "['Somalia', '637657.00', 'SO', 'SOM']\n",
      "['South Africa', '1221037.00', 'ZA', 'ZAF']\n",
      "['South Georgia and the South Sandwich Islands', '3903.00', 'GS', 'SGS']\n",
      "['South Korea', '99434.00', 'KR', 'KOR']\n",
      "['Spain', '505992.00', 'ES', 'ESP']\n",
      "['Sri Lanka', '65610.00', 'LK', 'LKA']\n",
      "['Sudan', '2505813.00', 'SD', 'SDN']\n",
      "['Suriname', '163265.00', 'SR', 'SUR']\n",
      "['Svalbard and Jan Mayen', '62422.00', 'SJ', 'SJM']\n",
      "['Swaziland', '17364.00', 'SZ', 'SWZ']\n",
      "['Sweden', '449964.00', 'SE', 'SWE']\n",
      "['Switzerland', '41284.00', 'CH', 'CHE']\n",
      "['Syria', '185180.00', 'SY', 'SYR']\n",
      "['Taiwan', '36188.00', 'TW', 'TWN']\n",
      "['Tajikistan', '143100.00', 'TJ', 'TJK']\n",
      "['Tanzania', '883749.00', 'TZ', 'TZA']\n",
      "['Thailand', '513115.00', 'TH', 'THA']\n",
      "['The Democratic Republic of the Congo', '2344858.00', 'CD', 'COD']\n",
      "['Togo', '56785.00', 'TG', 'TGO']\n",
      "['Tokelau', '12.00', 'TK', 'TKL']\n",
      "['Tonga', '650.00', 'TO', 'TON']\n",
      "['Trinidad and Tobago', '5130.00', 'TT', 'TTO']\n",
      "['Tunisia', '163610.00', 'TN', 'TUN']\n",
      "['Turkey', '774815.00', 'TR', 'TUR']\n",
      "['Turkmenistan', '488100.00', 'TM', 'TKM']\n",
      "['Turks and Caicos Islands', '430.00', 'TC', 'TCA']\n",
      "['Tuvalu', '26.00', 'TV', 'TUV']\n",
      "['Uganda', '241038.00', 'UG', 'UGA']\n",
      "['Ukraine', '603700.00', 'UA', 'UKR']\n",
      "['United Arab Emirates', '83600.00', 'AE', 'ARE']\n",
      "['United Kingdom', '242900.00', 'GB', 'GBR']\n",
      "['United States', '9363520.00', 'US', 'USA']\n",
      "['United States Minor Outlying Islands', '16.00', 'UM', 'UMI']\n",
      "['Uruguay', '175016.00', 'UY', 'URY']\n",
      "['Uzbekistan', '447400.00', 'UZ', 'UZB']\n",
      "['Vanuatu', '12189.00', 'VU', 'VUT']\n",
      "['Venezuela', '912050.00', 'VE', 'VEN']\n",
      "['Vietnam', '331689.00', 'VN', 'VNM']\n",
      "['Virgin Islands, British', '151.00', 'VG', 'VGB']\n",
      "['Virgin Islands, U.S.', '347.00', 'VI', 'VIR']\n",
      "['Wallis and Futuna', '200.00', 'WF', 'WLF']\n",
      "['Western Sahara', '266000.00', 'EH', 'ESH']\n",
      "['Yemen', '527968.00', 'YE', 'YEM']\n",
      "['Yugoslavia', '102173.00', 'YU', 'YUG']\n",
      "['Zambia', '752618.00', 'ZM', 'ZMB']\n",
      "['Zimbabwe', '390757.00', 'ZW', 'ZWE']\n"
     ]
    }
   ],
   "source": [
    "import csv\n",
    "\n",
    "with open('country.csv', encoding=\"utf8\") as f:\n",
    "    csv_reader = csv.reader(f)\n",
    "    for line_no, line in enumerate(csv_reader, 1):\n",
    "        if line_no == 1:\n",
    "            print('Header:')\n",
    "            print(line)  \n",
    "            print('Data:')\n",
    "        else:\n",
    "            print(line)  \n"
   ]
  },
  {
   "cell_type": "code",
   "execution_count": 20,
   "metadata": {},
   "outputs": [
    {
     "name": "stdout",
     "output_type": "stream",
     "text": [
      "['Afghanistan', '652090.00', 'AF', 'AFG']\n",
      "['Albania', '28748.00', 'AL', 'ALB']\n",
      "['Algeria', '2381741.00', 'DZ', 'DZA']\n",
      "['American Samoa', '199.00', 'AS', 'ASM']\n",
      "['Andorra', '468.00', 'AD', 'AND']\n",
      "['Angola', '1246700.00', 'AO', 'AGO']\n",
      "['Anguilla', '96.00', 'AI', 'AIA']\n",
      "['Antarctica', '13120000.00', 'AQ', 'ATA']\n",
      "['Antigua and Barbuda', '442.00', 'AG', 'ATG']\n",
      "['Argentina', '2780400.00', 'AR', 'ARG']\n",
      "['Armenia', '29800.00', 'AM', 'ARM']\n",
      "['Aruba', '193.00', 'AW', 'ABW']\n",
      "['Australia', '7741220.00', 'AU', 'AUS']\n",
      "['Austria', '83859.00', 'AT', 'AUT']\n",
      "['Azerbaijan', '86600.00', 'AZ', 'AZE']\n",
      "['Bahamas', '13878.00', 'BS', 'BHS']\n",
      "['Bahrain', '694.00', 'BH', 'BHR']\n",
      "['Bangladesh', '143998.00', 'BD', 'BGD']\n",
      "['Barbados', '430.00', 'BB', 'BRB']\n",
      "['Belarus', '207600.00', 'BY', 'BLR']\n",
      "['Belgium', '30518.00', 'BE', 'BEL']\n",
      "['Belize', '22696.00', 'BZ', 'BLZ']\n",
      "['Benin', '112622.00', 'BJ', 'BEN']\n",
      "['Bermuda', '53.00', 'BM', 'BMU']\n",
      "['Bhutan', '47000.00', 'BT', 'BTN']\n",
      "['Bolivia', '1098581.00', 'BO', 'BOL']\n",
      "['Bosnia and Herzegovina', '51197.00', 'BA', 'BIH']\n",
      "['Botswana', '581730.00', 'BW', 'BWA']\n",
      "['Bouvet Island', '59.00', 'BV', 'BVT']\n",
      "['Brazil', '8547403.00', 'BR', 'BRA']\n",
      "['British Indian Ocean Territory', '78.00', 'IO', 'IOT']\n",
      "['Brunei', '5765.00', 'BN', 'BRN']\n",
      "['Bulgaria', '110994.00', 'BG', 'BGR']\n",
      "['Burkina Faso', '274000.00', 'BF', 'BFA']\n",
      "['Burundi', '27834.00', 'BI', 'BDI']\n",
      "['Cambodia', '181035.00', 'KH', 'KHM']\n",
      "['Cameroon', '475442.00', 'CM', 'CMR']\n",
      "['Canada', '9970610.00', 'CA', 'CAN']\n",
      "['Cape Verde', '4033.00', 'CV', 'CPV']\n",
      "['Cayman Islands', '264.00', 'KY', 'CYM']\n",
      "['Central African Republic', '622984.00', 'CF', 'CAF']\n",
      "['Chad', '1284000.00', 'TD', 'TCD']\n",
      "['Chile', '756626.00', 'CL', 'CHL']\n",
      "['China', '9572900.00', 'CN', 'CHN']\n",
      "['Christmas Island', '135.00', 'CX', 'CXR']\n",
      "['Cocos (Keeling) Islands', '14.00', 'CC', 'CCK']\n",
      "['Colombia', '1138914.00', 'CO', 'COL']\n",
      "['Comoros', '1862.00', 'KM', 'COM']\n",
      "['Congo', '342000.00', 'CG', 'COG']\n",
      "['Cook Islands', '236.00', 'CK', 'COK']\n",
      "['Costa Rica', '51100.00', 'CR', 'CRI']\n",
      "['Côte d’Ivoire', '322463.00', 'CI', 'CIV']\n",
      "['Croatia', '56538.00', 'HR', 'HRV']\n",
      "['Cuba', '110861.00', 'CU', 'CUB']\n",
      "['Cyprus', '9251.00', 'CY', 'CYP']\n",
      "['Czech Republic', '78866.00', 'CZ', 'CZE']\n",
      "['Denmark', '43094.00', 'DK', 'DNK']\n",
      "['Djibouti', '23200.00', 'DJ', 'DJI']\n",
      "['Dominica', '751.00', 'DM', 'DMA']\n",
      "['Dominican Republic', '48511.00', 'DO', 'DOM']\n",
      "['East Timor', '14874.00', 'TP', 'TMP']\n",
      "['Ecuador', '283561.00', 'EC', 'ECU']\n",
      "['Egypt', '1001449.00', 'EG', 'EGY']\n",
      "['El Salvador', '21041.00', 'SV', 'SLV']\n",
      "['Equatorial Guinea', '28051.00', 'GQ', 'GNQ']\n",
      "['Eritrea', '117600.00', 'ER', 'ERI']\n",
      "['Estonia', '45227.00', 'EE', 'EST']\n",
      "['Ethiopia', '1104300.00', 'ET', 'ETH']\n",
      "['Falkland Islands', '12173.00', 'FK', 'FLK']\n",
      "['Faroe Islands', '1399.00', 'FO', 'FRO']\n",
      "['Federated States of Micronesia', '702.00', 'FM', 'FSM']\n",
      "['Fiji Islands', '18274.00', 'FJ', 'FJI']\n",
      "['Finland', '338145.00', 'FI', 'FIN']\n",
      "['France', '551500.00', 'FR', 'FRA']\n",
      "['French Guiana', '90000.00', 'GF', 'GUF']\n",
      "['French Polynesia', '4000.00', 'PF', 'PYF']\n",
      "['French Southern territories', '7780.00', 'TF', 'ATF']\n",
      "['Gabon', '267668.00', 'GA', 'GAB']\n",
      "['Gambia', '11295.00', 'GM', 'GMB']\n",
      "['Georgia', '69700.00', 'GE', 'GEO']\n",
      "['Germany', '357022.00', 'DE', 'DEU']\n",
      "['Ghana', '238533.00', 'GH', 'GHA']\n",
      "['Gibraltar', '6.00', 'GI', 'GIB']\n",
      "['Greece', '131626.00', 'GR', 'GRC']\n",
      "['Greenland', '2166090.00', 'GL', 'GRL']\n",
      "['Grenada', '344.00', 'GD', 'GRD']\n",
      "['Guadeloupe', '1705.00', 'GP', 'GLP']\n",
      "['Guam', '549.00', 'GU', 'GUM']\n",
      "['Guatemala', '108889.00', 'GT', 'GTM']\n",
      "['Guinea', '245857.00', 'GN', 'GIN']\n",
      "['Guinea-Bissau', '36125.00', 'GW', 'GNB']\n",
      "['Guyana', '214969.00', 'GY', 'GUY']\n",
      "['Haiti', '27750.00', 'HT', 'HTI']\n",
      "['Heard Island and McDonald Islands', '359.00', 'HM', 'HMD']\n",
      "['Holy See (Vatican City State)', '0.40', 'VA', 'VAT']\n",
      "['Honduras', '112088.00', 'HN', 'HND']\n",
      "['Hong Kong', '1075.00', 'HK', 'HKG']\n",
      "['Hungary', '93030.00', 'HU', 'HUN']\n",
      "['Iceland', '103000.00', 'IS', 'ISL']\n",
      "['India', '3287263.00', 'IN', 'IND']\n",
      "['Indonesia', '1904569.00', 'ID', 'IDN']\n",
      "['Iran', '1648195.00', 'IR', 'IRN']\n",
      "['Iraq', '438317.00', 'IQ', 'IRQ']\n",
      "['Ireland', '70273.00', 'IE', 'IRL']\n",
      "['Israel', '21056.00', 'IL', 'ISR']\n",
      "['Italy', '301316.00', 'IT', 'ITA']\n",
      "['Jamaica', '10990.00', 'JM', 'JAM']\n",
      "['Japan', '377829.00', 'JP', 'JPN']\n",
      "['Jordan', '88946.00', 'JO', 'JOR']\n",
      "['Kazakstan', '2724900.00', 'KZ', 'KAZ']\n",
      "['Kenya', '580367.00', 'KE', 'KEN']\n",
      "['Kiribati', '726.00', 'KI', 'KIR']\n",
      "['Kuwait', '17818.00', 'KW', 'KWT']\n",
      "['Kyrgyzstan', '199900.00', 'KG', 'KGZ']\n",
      "['Laos', '236800.00', 'LA', 'LAO']\n",
      "['Latvia', '64589.00', 'LV', 'LVA']\n",
      "['Lebanon', '10400.00', 'LB', 'LBN']\n",
      "['Lesotho', '30355.00', 'LS', 'LSO']\n",
      "['Liberia', '111369.00', 'LR', 'LBR']\n",
      "['Libyan Arab Jamahiriya', '1759540.00', 'LY', 'LBY']\n",
      "['Liechtenstein', '160.00', 'LI', 'LIE']\n",
      "['Lithuania', '65301.00', 'LT', 'LTU']\n",
      "['Luxembourg', '2586.00', 'LU', 'LUX']\n",
      "['Macao', '18.00', 'MO', 'MAC']\n",
      "['Macedonia', '25713.00', 'MK', 'MKD']\n",
      "['Madagascar', '587041.00', 'MG', 'MDG']\n",
      "['Malawi', '118484.00', 'MW', 'MWI']\n",
      "['Malaysia', '329758.00', 'MY', 'MYS']\n",
      "['Maldives', '298.00', 'MV', 'MDV']\n",
      "['Mali', '1240192.00', 'ML', 'MLI']\n",
      "['Malta', '316.00', 'MT', 'MLT']\n",
      "['Marshall Islands', '181.00', 'MH', 'MHL']\n",
      "['Martinique', '1102.00', 'MQ', 'MTQ']\n",
      "['Mauritania', '1025520.00', 'MR', 'MRT']\n",
      "['Mauritius', '2040.00', 'MU', 'MUS']\n",
      "['Mayotte', '373.00', 'YT', 'MYT']\n",
      "['Mexico', '1958201.00', 'MX', 'MEX']\n",
      "['Moldova', '33851.00', 'MD', 'MDA']\n",
      "['Monaco', '1.50', 'MC', 'MCO']\n",
      "['Mongolia', '1566500.00', 'MN', 'MNG']\n",
      "['Montserrat', '102.00', 'MS', 'MSR']\n",
      "['Morocco', '446550.00', 'MA', 'MAR']\n",
      "['Mozambique', '801590.00', 'MZ', 'MOZ']\n",
      "['Myanmar', '676578.00', 'MM', 'MMR']\n",
      "['Namibia', '824292.00', 'NA', 'NAM']\n",
      "['Nauru', '21.00', 'NR', 'NRU']\n",
      "['Nepal', '147181.00', 'NP', 'NPL']\n",
      "['Netherlands', '41526.00', 'NL', 'NLD']\n",
      "['Netherlands Antilles', '800.00', 'AN', 'ANT']\n",
      "['New Caledonia', '18575.00', 'NC', 'NCL']\n",
      "['New Zealand', '270534.00', 'NZ', 'NZL']\n",
      "['Nicaragua', '130000.00', 'NI', 'NIC']\n",
      "['Niger', '1267000.00', 'NE', 'NER']\n",
      "['Nigeria', '923768.00', 'NG', 'NGA']\n",
      "['Niue', '260.00', 'NU', 'NIU']\n",
      "['Norfolk Island', '36.00', 'NF', 'NFK']\n",
      "['North Korea', '120538.00', 'KP', 'PRK']\n",
      "['Northern Mariana Islands', '464.00', 'MP', 'MNP']\n",
      "['Norway', '323877.00', 'NO', 'NOR']\n",
      "['Oman', '309500.00', 'OM', 'OMN']\n",
      "['Pakistan', '796095.00', 'PK', 'PAK']\n",
      "['Palau', '459.00', 'PW', 'PLW']\n",
      "['Palestine', '6257.00', 'PS', 'PSE']\n",
      "['Panama', '75517.00', 'PA', 'PAN']\n",
      "['Papua New Guinea', '462840.00', 'PG', 'PNG']\n",
      "['Paraguay', '406752.00', 'PY', 'PRY']\n",
      "['Peru', '1285216.00', 'PE', 'PER']\n",
      "['Philippines', '300000.00', 'PH', 'PHL']\n",
      "['Pitcairn', '49.00', 'PN', 'PCN']\n",
      "['Poland', '323250.00', 'PL', 'POL']\n",
      "['Portugal', '91982.00', 'PT', 'PRT']\n",
      "['Puerto Rico', '8875.00', 'PR', 'PRI']\n",
      "['Qatar', '11000.00', 'QA', 'QAT']\n",
      "['Réunion', '2510.00', 'RE', 'REU']\n",
      "['Romania', '238391.00', 'RO', 'ROM']\n",
      "['Russian Federation', '17075400.00', 'RU', 'RUS']\n",
      "['Rwanda', '26338.00', 'RW', 'RWA']\n",
      "['Saint Helena', '314.00', 'SH', 'SHN']\n",
      "['Saint Kitts and Nevis', '261.00', 'KN', 'KNA']\n",
      "['Saint Lucia', '622.00', 'LC', 'LCA']\n",
      "['Saint Pierre and Miquelon', '242.00', 'PM', 'SPM']\n",
      "['Saint Vincent and the Grenadines', '388.00', 'VC', 'VCT']\n",
      "['Samoa', '2831.00', 'WS', 'WSM']\n",
      "['San Marino', '61.00', 'SM', 'SMR']\n",
      "['Sao Tome and Principe', '964.00', 'ST', 'STP']\n",
      "['Saudi Arabia', '2149690.00', 'SA', 'SAU']\n",
      "['Senegal', '196722.00', 'SN', 'SEN']\n",
      "['Seychelles', '455.00', 'SC', 'SYC']\n",
      "['Sierra Leone', '71740.00', 'SL', 'SLE']\n",
      "['Singapore', '618.00', 'SG', 'SGP']\n",
      "['Slovakia', '49012.00', 'SK', 'SVK']\n",
      "['Slovenia', '20256.00', 'SI', 'SVN']\n",
      "['Solomon Islands', '28896.00', 'SB', 'SLB']\n",
      "['Somalia', '637657.00', 'SO', 'SOM']\n",
      "['South Africa', '1221037.00', 'ZA', 'ZAF']\n",
      "['South Georgia and the South Sandwich Islands', '3903.00', 'GS', 'SGS']\n",
      "['South Korea', '99434.00', 'KR', 'KOR']\n",
      "['Spain', '505992.00', 'ES', 'ESP']\n",
      "['Sri Lanka', '65610.00', 'LK', 'LKA']\n",
      "['Sudan', '2505813.00', 'SD', 'SDN']\n",
      "['Suriname', '163265.00', 'SR', 'SUR']\n",
      "['Svalbard and Jan Mayen', '62422.00', 'SJ', 'SJM']\n",
      "['Swaziland', '17364.00', 'SZ', 'SWZ']\n",
      "['Sweden', '449964.00', 'SE', 'SWE']\n",
      "['Switzerland', '41284.00', 'CH', 'CHE']\n",
      "['Syria', '185180.00', 'SY', 'SYR']\n",
      "['Taiwan', '36188.00', 'TW', 'TWN']\n",
      "['Tajikistan', '143100.00', 'TJ', 'TJK']\n",
      "['Tanzania', '883749.00', 'TZ', 'TZA']\n",
      "['Thailand', '513115.00', 'TH', 'THA']\n",
      "['The Democratic Republic of the Congo', '2344858.00', 'CD', 'COD']\n",
      "['Togo', '56785.00', 'TG', 'TGO']\n",
      "['Tokelau', '12.00', 'TK', 'TKL']\n",
      "['Tonga', '650.00', 'TO', 'TON']\n",
      "['Trinidad and Tobago', '5130.00', 'TT', 'TTO']\n",
      "['Tunisia', '163610.00', 'TN', 'TUN']\n",
      "['Turkey', '774815.00', 'TR', 'TUR']\n",
      "['Turkmenistan', '488100.00', 'TM', 'TKM']\n",
      "['Turks and Caicos Islands', '430.00', 'TC', 'TCA']\n",
      "['Tuvalu', '26.00', 'TV', 'TUV']\n",
      "['Uganda', '241038.00', 'UG', 'UGA']\n",
      "['Ukraine', '603700.00', 'UA', 'UKR']\n",
      "['United Arab Emirates', '83600.00', 'AE', 'ARE']\n",
      "['United Kingdom', '242900.00', 'GB', 'GBR']\n",
      "['United States', '9363520.00', 'US', 'USA']\n",
      "['United States Minor Outlying Islands', '16.00', 'UM', 'UMI']\n",
      "['Uruguay', '175016.00', 'UY', 'URY']\n",
      "['Uzbekistan', '447400.00', 'UZ', 'UZB']\n",
      "['Vanuatu', '12189.00', 'VU', 'VUT']\n",
      "['Venezuela', '912050.00', 'VE', 'VEN']\n",
      "['Vietnam', '331689.00', 'VN', 'VNM']\n",
      "['Virgin Islands, British', '151.00', 'VG', 'VGB']\n",
      "['Virgin Islands, U.S.', '347.00', 'VI', 'VIR']\n",
      "['Wallis and Futuna', '200.00', 'WF', 'WLF']\n",
      "['Western Sahara', '266000.00', 'EH', 'ESH']\n",
      "['Yemen', '527968.00', 'YE', 'YEM']\n",
      "['Yugoslavia', '102173.00', 'YU', 'YUG']\n",
      "['Zambia', '752618.00', 'ZM', 'ZMB']\n",
      "['Zimbabwe', '390757.00', 'ZW', 'ZWE']\n"
     ]
    }
   ],
   "source": [
    "import csv\n",
    "\n",
    "with open('country.csv', encoding=\"utf8\") as f:\n",
    "    csv_reader = csv.reader(f)\n",
    "\n",
    "    # skip the first row\n",
    "    next(csv_reader)\n",
    "\n",
    "    # show the data\n",
    "    for line in csv_reader:\n",
    "        print(line)\n"
   ]
  },
  {
   "cell_type": "code",
   "execution_count": 21,
   "metadata": {},
   "outputs": [
    {
     "name": "stdout",
     "output_type": "stream",
     "text": [
      "148956306.9\n"
     ]
    }
   ],
   "source": [
    "import csv\n",
    "\n",
    "total_area = 0\n",
    "\n",
    "# calculate the total area of all countries\n",
    "\n",
    "with open('country.csv', encoding=\"utf8\") as f:\n",
    "    csv_reader = csv.reader(f)\n",
    "\n",
    "    # skip the header\n",
    "    next(csv_reader)\n",
    "\n",
    "    # calculate total\n",
    "    for line in csv_reader:\n",
    "        total_area += float(line[1])\n",
    "\n",
    "print(total_area)"
   ]
  },
  {
   "cell_type": "markdown",
   "metadata": {},
   "source": [
    "### Reading a CSV file using the DictReader class"
   ]
  },
  {
   "cell_type": "code",
   "execution_count": 22,
   "metadata": {},
   "outputs": [
    {
     "name": "stdout",
     "output_type": "stream",
     "text": [
      "The area of Albania is 28748.00 km2\n",
      "The area of Algeria is 2381741.00 km2\n",
      "The area of American Samoa is 199.00 km2\n",
      "The area of Andorra is 468.00 km2\n",
      "The area of Angola is 1246700.00 km2\n",
      "The area of Anguilla is 96.00 km2\n",
      "The area of Antarctica is 13120000.00 km2\n",
      "The area of Antigua and Barbuda is 442.00 km2\n",
      "The area of Argentina is 2780400.00 km2\n",
      "The area of Armenia is 29800.00 km2\n",
      "The area of Aruba is 193.00 km2\n",
      "The area of Australia is 7741220.00 km2\n",
      "The area of Austria is 83859.00 km2\n",
      "The area of Azerbaijan is 86600.00 km2\n",
      "The area of Bahamas is 13878.00 km2\n",
      "The area of Bahrain is 694.00 km2\n",
      "The area of Bangladesh is 143998.00 km2\n",
      "The area of Barbados is 430.00 km2\n",
      "The area of Belarus is 207600.00 km2\n",
      "The area of Belgium is 30518.00 km2\n",
      "The area of Belize is 22696.00 km2\n",
      "The area of Benin is 112622.00 km2\n",
      "The area of Bermuda is 53.00 km2\n",
      "The area of Bhutan is 47000.00 km2\n",
      "The area of Bolivia is 1098581.00 km2\n",
      "The area of Bosnia and Herzegovina is 51197.00 km2\n",
      "The area of Botswana is 581730.00 km2\n",
      "The area of Bouvet Island is 59.00 km2\n",
      "The area of Brazil is 8547403.00 km2\n",
      "The area of British Indian Ocean Territory is 78.00 km2\n",
      "The area of Brunei is 5765.00 km2\n",
      "The area of Bulgaria is 110994.00 km2\n",
      "The area of Burkina Faso is 274000.00 km2\n",
      "The area of Burundi is 27834.00 km2\n",
      "The area of Cambodia is 181035.00 km2\n",
      "The area of Cameroon is 475442.00 km2\n",
      "The area of Canada is 9970610.00 km2\n",
      "The area of Cape Verde is 4033.00 km2\n",
      "The area of Cayman Islands is 264.00 km2\n",
      "The area of Central African Republic is 622984.00 km2\n",
      "The area of Chad is 1284000.00 km2\n",
      "The area of Chile is 756626.00 km2\n",
      "The area of China is 9572900.00 km2\n",
      "The area of Christmas Island is 135.00 km2\n",
      "The area of Cocos (Keeling) Islands is 14.00 km2\n",
      "The area of Colombia is 1138914.00 km2\n",
      "The area of Comoros is 1862.00 km2\n",
      "The area of Congo is 342000.00 km2\n",
      "The area of Cook Islands is 236.00 km2\n",
      "The area of Costa Rica is 51100.00 km2\n",
      "The area of Côte d’Ivoire is 322463.00 km2\n",
      "The area of Croatia is 56538.00 km2\n",
      "The area of Cuba is 110861.00 km2\n",
      "The area of Cyprus is 9251.00 km2\n",
      "The area of Czech Republic is 78866.00 km2\n",
      "The area of Denmark is 43094.00 km2\n",
      "The area of Djibouti is 23200.00 km2\n",
      "The area of Dominica is 751.00 km2\n",
      "The area of Dominican Republic is 48511.00 km2\n",
      "The area of East Timor is 14874.00 km2\n",
      "The area of Ecuador is 283561.00 km2\n",
      "The area of Egypt is 1001449.00 km2\n",
      "The area of El Salvador is 21041.00 km2\n",
      "The area of Equatorial Guinea is 28051.00 km2\n",
      "The area of Eritrea is 117600.00 km2\n",
      "The area of Estonia is 45227.00 km2\n",
      "The area of Ethiopia is 1104300.00 km2\n",
      "The area of Falkland Islands is 12173.00 km2\n",
      "The area of Faroe Islands is 1399.00 km2\n",
      "The area of Federated States of Micronesia is 702.00 km2\n",
      "The area of Fiji Islands is 18274.00 km2\n",
      "The area of Finland is 338145.00 km2\n",
      "The area of France is 551500.00 km2\n",
      "The area of French Guiana is 90000.00 km2\n",
      "The area of French Polynesia is 4000.00 km2\n",
      "The area of French Southern territories is 7780.00 km2\n",
      "The area of Gabon is 267668.00 km2\n",
      "The area of Gambia is 11295.00 km2\n",
      "The area of Georgia is 69700.00 km2\n",
      "The area of Germany is 357022.00 km2\n",
      "The area of Ghana is 238533.00 km2\n",
      "The area of Gibraltar is 6.00 km2\n",
      "The area of Greece is 131626.00 km2\n",
      "The area of Greenland is 2166090.00 km2\n",
      "The area of Grenada is 344.00 km2\n",
      "The area of Guadeloupe is 1705.00 km2\n",
      "The area of Guam is 549.00 km2\n",
      "The area of Guatemala is 108889.00 km2\n",
      "The area of Guinea is 245857.00 km2\n",
      "The area of Guinea-Bissau is 36125.00 km2\n",
      "The area of Guyana is 214969.00 km2\n",
      "The area of Haiti is 27750.00 km2\n",
      "The area of Heard Island and McDonald Islands is 359.00 km2\n",
      "The area of Holy See (Vatican City State) is 0.40 km2\n",
      "The area of Honduras is 112088.00 km2\n",
      "The area of Hong Kong is 1075.00 km2\n",
      "The area of Hungary is 93030.00 km2\n",
      "The area of Iceland is 103000.00 km2\n",
      "The area of India is 3287263.00 km2\n",
      "The area of Indonesia is 1904569.00 km2\n",
      "The area of Iran is 1648195.00 km2\n",
      "The area of Iraq is 438317.00 km2\n",
      "The area of Ireland is 70273.00 km2\n",
      "The area of Israel is 21056.00 km2\n",
      "The area of Italy is 301316.00 km2\n",
      "The area of Jamaica is 10990.00 km2\n",
      "The area of Japan is 377829.00 km2\n",
      "The area of Jordan is 88946.00 km2\n",
      "The area of Kazakstan is 2724900.00 km2\n",
      "The area of Kenya is 580367.00 km2\n",
      "The area of Kiribati is 726.00 km2\n",
      "The area of Kuwait is 17818.00 km2\n",
      "The area of Kyrgyzstan is 199900.00 km2\n",
      "The area of Laos is 236800.00 km2\n",
      "The area of Latvia is 64589.00 km2\n",
      "The area of Lebanon is 10400.00 km2\n",
      "The area of Lesotho is 30355.00 km2\n",
      "The area of Liberia is 111369.00 km2\n",
      "The area of Libyan Arab Jamahiriya is 1759540.00 km2\n",
      "The area of Liechtenstein is 160.00 km2\n",
      "The area of Lithuania is 65301.00 km2\n",
      "The area of Luxembourg is 2586.00 km2\n",
      "The area of Macao is 18.00 km2\n",
      "The area of Macedonia is 25713.00 km2\n",
      "The area of Madagascar is 587041.00 km2\n",
      "The area of Malawi is 118484.00 km2\n",
      "The area of Malaysia is 329758.00 km2\n",
      "The area of Maldives is 298.00 km2\n",
      "The area of Mali is 1240192.00 km2\n",
      "The area of Malta is 316.00 km2\n",
      "The area of Marshall Islands is 181.00 km2\n",
      "The area of Martinique is 1102.00 km2\n",
      "The area of Mauritania is 1025520.00 km2\n",
      "The area of Mauritius is 2040.00 km2\n",
      "The area of Mayotte is 373.00 km2\n",
      "The area of Mexico is 1958201.00 km2\n",
      "The area of Moldova is 33851.00 km2\n",
      "The area of Monaco is 1.50 km2\n",
      "The area of Mongolia is 1566500.00 km2\n",
      "The area of Montserrat is 102.00 km2\n",
      "The area of Morocco is 446550.00 km2\n",
      "The area of Mozambique is 801590.00 km2\n",
      "The area of Myanmar is 676578.00 km2\n",
      "The area of Namibia is 824292.00 km2\n",
      "The area of Nauru is 21.00 km2\n",
      "The area of Nepal is 147181.00 km2\n",
      "The area of Netherlands is 41526.00 km2\n",
      "The area of Netherlands Antilles is 800.00 km2\n",
      "The area of New Caledonia is 18575.00 km2\n",
      "The area of New Zealand is 270534.00 km2\n",
      "The area of Nicaragua is 130000.00 km2\n",
      "The area of Niger is 1267000.00 km2\n",
      "The area of Nigeria is 923768.00 km2\n",
      "The area of Niue is 260.00 km2\n",
      "The area of Norfolk Island is 36.00 km2\n",
      "The area of North Korea is 120538.00 km2\n",
      "The area of Northern Mariana Islands is 464.00 km2\n",
      "The area of Norway is 323877.00 km2\n",
      "The area of Oman is 309500.00 km2\n",
      "The area of Pakistan is 796095.00 km2\n",
      "The area of Palau is 459.00 km2\n",
      "The area of Palestine is 6257.00 km2\n",
      "The area of Panama is 75517.00 km2\n",
      "The area of Papua New Guinea is 462840.00 km2\n",
      "The area of Paraguay is 406752.00 km2\n",
      "The area of Peru is 1285216.00 km2\n",
      "The area of Philippines is 300000.00 km2\n",
      "The area of Pitcairn is 49.00 km2\n",
      "The area of Poland is 323250.00 km2\n",
      "The area of Portugal is 91982.00 km2\n",
      "The area of Puerto Rico is 8875.00 km2\n",
      "The area of Qatar is 11000.00 km2\n",
      "The area of Réunion is 2510.00 km2\n",
      "The area of Romania is 238391.00 km2\n",
      "The area of Russian Federation is 17075400.00 km2\n",
      "The area of Rwanda is 26338.00 km2\n",
      "The area of Saint Helena is 314.00 km2\n",
      "The area of Saint Kitts and Nevis is 261.00 km2\n",
      "The area of Saint Lucia is 622.00 km2\n",
      "The area of Saint Pierre and Miquelon is 242.00 km2\n",
      "The area of Saint Vincent and the Grenadines is 388.00 km2\n",
      "The area of Samoa is 2831.00 km2\n",
      "The area of San Marino is 61.00 km2\n",
      "The area of Sao Tome and Principe is 964.00 km2\n",
      "The area of Saudi Arabia is 2149690.00 km2\n",
      "The area of Senegal is 196722.00 km2\n",
      "The area of Seychelles is 455.00 km2\n",
      "The area of Sierra Leone is 71740.00 km2\n",
      "The area of Singapore is 618.00 km2\n",
      "The area of Slovakia is 49012.00 km2\n",
      "The area of Slovenia is 20256.00 km2\n",
      "The area of Solomon Islands is 28896.00 km2\n",
      "The area of Somalia is 637657.00 km2\n",
      "The area of South Africa is 1221037.00 km2\n",
      "The area of South Georgia and the South Sandwich Islands is 3903.00 km2\n",
      "The area of South Korea is 99434.00 km2\n",
      "The area of Spain is 505992.00 km2\n",
      "The area of Sri Lanka is 65610.00 km2\n",
      "The area of Sudan is 2505813.00 km2\n",
      "The area of Suriname is 163265.00 km2\n",
      "The area of Svalbard and Jan Mayen is 62422.00 km2\n",
      "The area of Swaziland is 17364.00 km2\n",
      "The area of Sweden is 449964.00 km2\n",
      "The area of Switzerland is 41284.00 km2\n",
      "The area of Syria is 185180.00 km2\n",
      "The area of Taiwan is 36188.00 km2\n",
      "The area of Tajikistan is 143100.00 km2\n",
      "The area of Tanzania is 883749.00 km2\n",
      "The area of Thailand is 513115.00 km2\n",
      "The area of The Democratic Republic of the Congo is 2344858.00 km2\n",
      "The area of Togo is 56785.00 km2\n",
      "The area of Tokelau is 12.00 km2\n",
      "The area of Tonga is 650.00 km2\n",
      "The area of Trinidad and Tobago is 5130.00 km2\n",
      "The area of Tunisia is 163610.00 km2\n",
      "The area of Turkey is 774815.00 km2\n",
      "The area of Turkmenistan is 488100.00 km2\n",
      "The area of Turks and Caicos Islands is 430.00 km2\n",
      "The area of Tuvalu is 26.00 km2\n",
      "The area of Uganda is 241038.00 km2\n",
      "The area of Ukraine is 603700.00 km2\n",
      "The area of United Arab Emirates is 83600.00 km2\n",
      "The area of United Kingdom is 242900.00 km2\n",
      "The area of United States is 9363520.00 km2\n",
      "The area of United States Minor Outlying Islands is 16.00 km2\n",
      "The area of Uruguay is 175016.00 km2\n",
      "The area of Uzbekistan is 447400.00 km2\n",
      "The area of Vanuatu is 12189.00 km2\n",
      "The area of Venezuela is 912050.00 km2\n",
      "The area of Vietnam is 331689.00 km2\n",
      "The area of Virgin Islands, British is 151.00 km2\n",
      "The area of Virgin Islands, U.S. is 347.00 km2\n",
      "The area of Wallis and Futuna is 200.00 km2\n",
      "The area of Western Sahara is 266000.00 km2\n",
      "The area of Yemen is 527968.00 km2\n",
      "The area of Yugoslavia is 102173.00 km2\n",
      "The area of Zambia is 752618.00 km2\n",
      "The area of Zimbabwe is 390757.00 km2\n"
     ]
    }
   ],
   "source": [
    "import csv\n",
    "\n",
    "with open('country.csv', encoding=\"utf8\") as f:\n",
    "    csv_reader = csv.DictReader(f)\n",
    "    # skip the header\n",
    "    next(csv_reader)\n",
    "    # show the data\n",
    "    for line in csv_reader:\n",
    "        print(f\"The area of {line['name']} is {line['area']} km2\")\n"
   ]
  },
  {
   "cell_type": "code",
   "execution_count": 23,
   "metadata": {},
   "outputs": [
    {
     "name": "stdout",
     "output_type": "stream",
     "text": [
      "The area of Afghanistan is 652090.00 km2\n",
      "The area of Albania is 28748.00 km2\n",
      "The area of Algeria is 2381741.00 km2\n",
      "The area of American Samoa is 199.00 km2\n",
      "The area of Andorra is 468.00 km2\n",
      "The area of Angola is 1246700.00 km2\n",
      "The area of Anguilla is 96.00 km2\n",
      "The area of Antarctica is 13120000.00 km2\n",
      "The area of Antigua and Barbuda is 442.00 km2\n",
      "The area of Argentina is 2780400.00 km2\n",
      "The area of Armenia is 29800.00 km2\n",
      "The area of Aruba is 193.00 km2\n",
      "The area of Australia is 7741220.00 km2\n",
      "The area of Austria is 83859.00 km2\n",
      "The area of Azerbaijan is 86600.00 km2\n",
      "The area of Bahamas is 13878.00 km2\n",
      "The area of Bahrain is 694.00 km2\n",
      "The area of Bangladesh is 143998.00 km2\n",
      "The area of Barbados is 430.00 km2\n",
      "The area of Belarus is 207600.00 km2\n",
      "The area of Belgium is 30518.00 km2\n",
      "The area of Belize is 22696.00 km2\n",
      "The area of Benin is 112622.00 km2\n",
      "The area of Bermuda is 53.00 km2\n",
      "The area of Bhutan is 47000.00 km2\n",
      "The area of Bolivia is 1098581.00 km2\n",
      "The area of Bosnia and Herzegovina is 51197.00 km2\n",
      "The area of Botswana is 581730.00 km2\n",
      "The area of Bouvet Island is 59.00 km2\n",
      "The area of Brazil is 8547403.00 km2\n",
      "The area of British Indian Ocean Territory is 78.00 km2\n",
      "The area of Brunei is 5765.00 km2\n",
      "The area of Bulgaria is 110994.00 km2\n",
      "The area of Burkina Faso is 274000.00 km2\n",
      "The area of Burundi is 27834.00 km2\n",
      "The area of Cambodia is 181035.00 km2\n",
      "The area of Cameroon is 475442.00 km2\n",
      "The area of Canada is 9970610.00 km2\n",
      "The area of Cape Verde is 4033.00 km2\n",
      "The area of Cayman Islands is 264.00 km2\n",
      "The area of Central African Republic is 622984.00 km2\n",
      "The area of Chad is 1284000.00 km2\n",
      "The area of Chile is 756626.00 km2\n",
      "The area of China is 9572900.00 km2\n",
      "The area of Christmas Island is 135.00 km2\n",
      "The area of Cocos (Keeling) Islands is 14.00 km2\n",
      "The area of Colombia is 1138914.00 km2\n",
      "The area of Comoros is 1862.00 km2\n",
      "The area of Congo is 342000.00 km2\n",
      "The area of Cook Islands is 236.00 km2\n",
      "The area of Costa Rica is 51100.00 km2\n",
      "The area of Côte d’Ivoire is 322463.00 km2\n",
      "The area of Croatia is 56538.00 km2\n",
      "The area of Cuba is 110861.00 km2\n",
      "The area of Cyprus is 9251.00 km2\n",
      "The area of Czech Republic is 78866.00 km2\n",
      "The area of Denmark is 43094.00 km2\n",
      "The area of Djibouti is 23200.00 km2\n",
      "The area of Dominica is 751.00 km2\n",
      "The area of Dominican Republic is 48511.00 km2\n",
      "The area of East Timor is 14874.00 km2\n",
      "The area of Ecuador is 283561.00 km2\n",
      "The area of Egypt is 1001449.00 km2\n",
      "The area of El Salvador is 21041.00 km2\n",
      "The area of Equatorial Guinea is 28051.00 km2\n",
      "The area of Eritrea is 117600.00 km2\n",
      "The area of Estonia is 45227.00 km2\n",
      "The area of Ethiopia is 1104300.00 km2\n",
      "The area of Falkland Islands is 12173.00 km2\n",
      "The area of Faroe Islands is 1399.00 km2\n",
      "The area of Federated States of Micronesia is 702.00 km2\n",
      "The area of Fiji Islands is 18274.00 km2\n",
      "The area of Finland is 338145.00 km2\n",
      "The area of France is 551500.00 km2\n",
      "The area of French Guiana is 90000.00 km2\n",
      "The area of French Polynesia is 4000.00 km2\n",
      "The area of French Southern territories is 7780.00 km2\n",
      "The area of Gabon is 267668.00 km2\n",
      "The area of Gambia is 11295.00 km2\n",
      "The area of Georgia is 69700.00 km2\n",
      "The area of Germany is 357022.00 km2\n",
      "The area of Ghana is 238533.00 km2\n",
      "The area of Gibraltar is 6.00 km2\n",
      "The area of Greece is 131626.00 km2\n",
      "The area of Greenland is 2166090.00 km2\n",
      "The area of Grenada is 344.00 km2\n",
      "The area of Guadeloupe is 1705.00 km2\n",
      "The area of Guam is 549.00 km2\n",
      "The area of Guatemala is 108889.00 km2\n",
      "The area of Guinea is 245857.00 km2\n",
      "The area of Guinea-Bissau is 36125.00 km2\n",
      "The area of Guyana is 214969.00 km2\n",
      "The area of Haiti is 27750.00 km2\n",
      "The area of Heard Island and McDonald Islands is 359.00 km2\n",
      "The area of Holy See (Vatican City State) is 0.40 km2\n",
      "The area of Honduras is 112088.00 km2\n",
      "The area of Hong Kong is 1075.00 km2\n",
      "The area of Hungary is 93030.00 km2\n",
      "The area of Iceland is 103000.00 km2\n",
      "The area of India is 3287263.00 km2\n",
      "The area of Indonesia is 1904569.00 km2\n",
      "The area of Iran is 1648195.00 km2\n",
      "The area of Iraq is 438317.00 km2\n",
      "The area of Ireland is 70273.00 km2\n",
      "The area of Israel is 21056.00 km2\n",
      "The area of Italy is 301316.00 km2\n",
      "The area of Jamaica is 10990.00 km2\n",
      "The area of Japan is 377829.00 km2\n",
      "The area of Jordan is 88946.00 km2\n",
      "The area of Kazakstan is 2724900.00 km2\n",
      "The area of Kenya is 580367.00 km2\n",
      "The area of Kiribati is 726.00 km2\n",
      "The area of Kuwait is 17818.00 km2\n",
      "The area of Kyrgyzstan is 199900.00 km2\n",
      "The area of Laos is 236800.00 km2\n",
      "The area of Latvia is 64589.00 km2\n",
      "The area of Lebanon is 10400.00 km2\n",
      "The area of Lesotho is 30355.00 km2\n",
      "The area of Liberia is 111369.00 km2\n",
      "The area of Libyan Arab Jamahiriya is 1759540.00 km2\n",
      "The area of Liechtenstein is 160.00 km2\n",
      "The area of Lithuania is 65301.00 km2\n",
      "The area of Luxembourg is 2586.00 km2\n",
      "The area of Macao is 18.00 km2\n",
      "The area of Macedonia is 25713.00 km2\n",
      "The area of Madagascar is 587041.00 km2\n",
      "The area of Malawi is 118484.00 km2\n",
      "The area of Malaysia is 329758.00 km2\n",
      "The area of Maldives is 298.00 km2\n",
      "The area of Mali is 1240192.00 km2\n",
      "The area of Malta is 316.00 km2\n",
      "The area of Marshall Islands is 181.00 km2\n",
      "The area of Martinique is 1102.00 km2\n",
      "The area of Mauritania is 1025520.00 km2\n",
      "The area of Mauritius is 2040.00 km2\n",
      "The area of Mayotte is 373.00 km2\n",
      "The area of Mexico is 1958201.00 km2\n",
      "The area of Moldova is 33851.00 km2\n",
      "The area of Monaco is 1.50 km2\n",
      "The area of Mongolia is 1566500.00 km2\n",
      "The area of Montserrat is 102.00 km2\n",
      "The area of Morocco is 446550.00 km2\n",
      "The area of Mozambique is 801590.00 km2\n",
      "The area of Myanmar is 676578.00 km2\n",
      "The area of Namibia is 824292.00 km2\n",
      "The area of Nauru is 21.00 km2\n",
      "The area of Nepal is 147181.00 km2\n",
      "The area of Netherlands is 41526.00 km2\n",
      "The area of Netherlands Antilles is 800.00 km2\n",
      "The area of New Caledonia is 18575.00 km2\n",
      "The area of New Zealand is 270534.00 km2\n",
      "The area of Nicaragua is 130000.00 km2\n",
      "The area of Niger is 1267000.00 km2\n",
      "The area of Nigeria is 923768.00 km2\n",
      "The area of Niue is 260.00 km2\n",
      "The area of Norfolk Island is 36.00 km2\n",
      "The area of North Korea is 120538.00 km2\n",
      "The area of Northern Mariana Islands is 464.00 km2\n",
      "The area of Norway is 323877.00 km2\n",
      "The area of Oman is 309500.00 km2\n",
      "The area of Pakistan is 796095.00 km2\n",
      "The area of Palau is 459.00 km2\n",
      "The area of Palestine is 6257.00 km2\n",
      "The area of Panama is 75517.00 km2\n",
      "The area of Papua New Guinea is 462840.00 km2\n",
      "The area of Paraguay is 406752.00 km2\n",
      "The area of Peru is 1285216.00 km2\n",
      "The area of Philippines is 300000.00 km2\n",
      "The area of Pitcairn is 49.00 km2\n",
      "The area of Poland is 323250.00 km2\n",
      "The area of Portugal is 91982.00 km2\n",
      "The area of Puerto Rico is 8875.00 km2\n",
      "The area of Qatar is 11000.00 km2\n",
      "The area of Réunion is 2510.00 km2\n",
      "The area of Romania is 238391.00 km2\n",
      "The area of Russian Federation is 17075400.00 km2\n",
      "The area of Rwanda is 26338.00 km2\n",
      "The area of Saint Helena is 314.00 km2\n",
      "The area of Saint Kitts and Nevis is 261.00 km2\n",
      "The area of Saint Lucia is 622.00 km2\n",
      "The area of Saint Pierre and Miquelon is 242.00 km2\n",
      "The area of Saint Vincent and the Grenadines is 388.00 km2\n",
      "The area of Samoa is 2831.00 km2\n",
      "The area of San Marino is 61.00 km2\n",
      "The area of Sao Tome and Principe is 964.00 km2\n",
      "The area of Saudi Arabia is 2149690.00 km2\n",
      "The area of Senegal is 196722.00 km2\n",
      "The area of Seychelles is 455.00 km2\n",
      "The area of Sierra Leone is 71740.00 km2\n",
      "The area of Singapore is 618.00 km2\n",
      "The area of Slovakia is 49012.00 km2\n",
      "The area of Slovenia is 20256.00 km2\n",
      "The area of Solomon Islands is 28896.00 km2\n",
      "The area of Somalia is 637657.00 km2\n",
      "The area of South Africa is 1221037.00 km2\n",
      "The area of South Georgia and the South Sandwich Islands is 3903.00 km2\n",
      "The area of South Korea is 99434.00 km2\n",
      "The area of Spain is 505992.00 km2\n",
      "The area of Sri Lanka is 65610.00 km2\n",
      "The area of Sudan is 2505813.00 km2\n",
      "The area of Suriname is 163265.00 km2\n",
      "The area of Svalbard and Jan Mayen is 62422.00 km2\n",
      "The area of Swaziland is 17364.00 km2\n",
      "The area of Sweden is 449964.00 km2\n",
      "The area of Switzerland is 41284.00 km2\n",
      "The area of Syria is 185180.00 km2\n",
      "The area of Taiwan is 36188.00 km2\n",
      "The area of Tajikistan is 143100.00 km2\n",
      "The area of Tanzania is 883749.00 km2\n",
      "The area of Thailand is 513115.00 km2\n",
      "The area of The Democratic Republic of the Congo is 2344858.00 km2\n",
      "The area of Togo is 56785.00 km2\n",
      "The area of Tokelau is 12.00 km2\n",
      "The area of Tonga is 650.00 km2\n",
      "The area of Trinidad and Tobago is 5130.00 km2\n",
      "The area of Tunisia is 163610.00 km2\n",
      "The area of Turkey is 774815.00 km2\n",
      "The area of Turkmenistan is 488100.00 km2\n",
      "The area of Turks and Caicos Islands is 430.00 km2\n",
      "The area of Tuvalu is 26.00 km2\n",
      "The area of Uganda is 241038.00 km2\n",
      "The area of Ukraine is 603700.00 km2\n",
      "The area of United Arab Emirates is 83600.00 km2\n",
      "The area of United Kingdom is 242900.00 km2\n",
      "The area of United States is 9363520.00 km2\n",
      "The area of United States Minor Outlying Islands is 16.00 km2\n",
      "The area of Uruguay is 175016.00 km2\n",
      "The area of Uzbekistan is 447400.00 km2\n",
      "The area of Vanuatu is 12189.00 km2\n",
      "The area of Venezuela is 912050.00 km2\n",
      "The area of Vietnam is 331689.00 km2\n",
      "The area of Virgin Islands, British is 151.00 km2\n",
      "The area of Virgin Islands, U.S. is 347.00 km2\n",
      "The area of Wallis and Futuna is 200.00 km2\n",
      "The area of Western Sahara is 266000.00 km2\n",
      "The area of Yemen is 527968.00 km2\n",
      "The area of Yugoslavia is 102173.00 km2\n",
      "The area of Zambia is 752618.00 km2\n",
      "The area of Zimbabwe is 390757.00 km2\n"
     ]
    }
   ],
   "source": [
    "import csv\n",
    "\n",
    "fieldnames = ['country_name', 'area', 'code2', 'code3']\n",
    "\n",
    "with open('country.csv', encoding=\"utf8\") as f:\n",
    "    csv_reader = csv.DictReader(f, fieldnames)\n",
    "    next(csv_reader)\n",
    "    for line in csv_reader:\n",
    "        print(f\"The area of {line['country_name']} is {line['area']} km2\")\n"
   ]
  },
  {
   "cell_type": "markdown",
   "metadata": {},
   "source": [
    "# Python Write CSV File\n"
   ]
  },
  {
   "cell_type": "code",
   "execution_count": 24,
   "metadata": {},
   "outputs": [],
   "source": [
    "import csv  \n",
    "\n",
    "header = ['name', 'area', 'country_code2', 'country_code3']\n",
    "data = ['Afghanistan', 652090, 'AF', 'AFG']\n",
    "\n",
    "with open('countries.csv', 'w', encoding='UTF8') as f:\n",
    "    writer = csv.writer(f)\n",
    "\n",
    "    # write the header\n",
    "    writer.writerow(header)\n",
    "\n",
    "    # write the data\n",
    "    writer.writerow(data)\n"
   ]
  },
  {
   "cell_type": "code",
   "execution_count": 26,
   "metadata": {},
   "outputs": [],
   "source": [
    "import csv\n",
    "\n",
    "header = ['name', 'area', 'country_code2', 'country_code3']\n",
    "data = ['Afghanistan', 652090, 'AF', 'AFG']\n",
    "\n",
    "\n",
    "with open('countries.csv', 'w', encoding='UTF8', newline='') as f:\n",
    "    writer = csv.writer(f)\n",
    "\n",
    "    # write the header\n",
    "    writer.writerow(header)\n",
    "\n",
    "    # write the data\n",
    "    writer.writerow(data)"
   ]
  },
  {
   "cell_type": "markdown",
   "metadata": {},
   "source": [
    "### Writing multiple rows to CSV files"
   ]
  },
  {
   "cell_type": "code",
   "execution_count": 27,
   "metadata": {},
   "outputs": [],
   "source": [
    "import csv\n",
    "\n",
    "header = ['name', 'area', 'country_code2', 'country_code3']\n",
    "data = [\n",
    "    ['Albania', 28748, 'AL', 'ALB'],\n",
    "    ['Algeria', 2381741, 'DZ', 'DZA'],\n",
    "    ['American Samoa', 199, 'AS', 'ASM'],\n",
    "    ['Andorra', 468, 'AD', 'AND'],\n",
    "    ['Angola', 1246700, 'AO', 'AGO']\n",
    "]\n",
    "\n",
    "with open('countries.csv', 'w', encoding='UTF8', newline='') as f:\n",
    "    writer = csv.writer(f)\n",
    "\n",
    "    # write the header\n",
    "    writer.writerow(header)\n",
    "\n",
    "    # write multiple rows\n",
    "    writer.writerows(data)\n"
   ]
  },
  {
   "cell_type": "markdown",
   "metadata": {},
   "source": [
    "### Writing to CSV files using the DictWriter class"
   ]
  },
  {
   "cell_type": "code",
   "execution_count": 29,
   "metadata": {},
   "outputs": [],
   "source": [
    "import csv\n",
    "\n",
    "# csv header\n",
    "fieldnames = ['name', 'area', 'country_code2', 'country_code3']\n",
    "\n",
    "# csv data\n",
    "rows = [\n",
    "    {'name': 'Albania',\n",
    "    'area': 28748,\n",
    "    'country_code2': 'AL',\n",
    "    'country_code3': 'ALB'},\n",
    "    {'name': 'Algeria',\n",
    "    'area': 2381741,\n",
    "    'country_code2': 'DZ',\n",
    "    'country_code3': 'DZA'},\n",
    "    {'name': 'American Samoa',\n",
    "    'area': 199,\n",
    "    'country_code2': 'AS',\n",
    "    'country_code3': 'ASM'}\n",
    "]\n",
    "\n",
    "with open('countries.csv', 'w', encoding='UTF8', newline='') as f:\n",
    "    writer = csv.DictWriter(f, fieldnames=fieldnames)\n",
    "    writer.writeheader()\n",
    "    writer.writerows(rows)\n"
   ]
  },
  {
   "cell_type": "markdown",
   "metadata": {},
   "source": [
    "## Python Rename File\n"
   ]
  },
  {
   "cell_type": "code",
   "execution_count": 30,
   "metadata": {},
   "outputs": [],
   "source": [
    "import os\n",
    "\n",
    "os.rename('readme1.txt', 'notes1.txt')"
   ]
  },
  {
   "cell_type": "code",
   "execution_count": 32,
   "metadata": {},
   "outputs": [],
   "source": [
    "import os\n",
    "\n",
    "try:\n",
    "    os.rename('notes1.txt', 'readme1.txt')\n",
    "except FileNotFoundError as e:\n",
    "    print(e)\n",
    "except FileExistsError as e:\n",
    "    print(e)"
   ]
  },
  {
   "cell_type": "markdown",
   "metadata": {},
   "source": [
    "## Python Delete File\n",
    "\n"
   ]
  },
  {
   "cell_type": "code",
   "execution_count": 33,
   "metadata": {},
   "outputs": [],
   "source": [
    "import os\n",
    "\n",
    "filename = 'readme.txt'\n",
    "if os.path.exists(filename):\n",
    "    os.remove(filename)\n"
   ]
  },
  {
   "cell_type": "code",
   "execution_count": 34,
   "metadata": {},
   "outputs": [
    {
     "name": "stdout",
     "output_type": "stream",
     "text": [
      "[WinError 2] The system cannot find the file specified: 'readme.txt'\n"
     ]
    }
   ],
   "source": [
    "import os\n",
    "\n",
    "try:\n",
    "    os.remove('readme.txt')\n",
    "except FileNotFoundError as e:\n",
    "    print(e)"
   ]
  },
  {
   "cell_type": "markdown",
   "metadata": {},
   "source": [
    " # Section 13. Working Directories\n"
   ]
  },
  {
   "cell_type": "markdown",
   "metadata": {},
   "source": [
    "## Python Directory"
   ]
  },
  {
   "cell_type": "markdown",
   "metadata": {},
   "source": [
    "### Get the current working directory\n"
   ]
  },
  {
   "cell_type": "code",
   "execution_count": 1,
   "metadata": {},
   "outputs": [
    {
     "name": "stdout",
     "output_type": "stream",
     "text": [
      "c:\\Users\\Asus\\Desktop\\ece5831-2024\\HW2_srishtik\n"
     ]
    }
   ],
   "source": [
    "\n",
    "import os\n",
    "cwd = os.getcwd()\n",
    "print(cwd)"
   ]
  },
  {
   "cell_type": "markdown",
   "metadata": {},
   "source": [
    "## Join and split a path\n"
   ]
  },
  {
   "cell_type": "code",
   "execution_count": 36,
   "metadata": {},
   "outputs": [
    {
     "name": "stdout",
     "output_type": "stream",
     "text": [
      "temp\\python\n",
      "('temp', 'python')\n"
     ]
    }
   ],
   "source": [
    "\n",
    "import os\n",
    "fp = os.path.join('temp', 'python')\n",
    "print(fp)  \n",
    "pc = os.path.split(fp)\n",
    "print(pc)  \n"
   ]
  },
  {
   "cell_type": "markdown",
   "metadata": {},
   "source": [
    "## Test if a path is a directory"
   ]
  },
  {
   "cell_type": "code",
   "execution_count": 2,
   "metadata": {},
   "outputs": [
    {
     "name": "stdout",
     "output_type": "stream",
     "text": [
      "C:\\temp\n"
     ]
    }
   ],
   "source": [
    "import os\n",
    "\n",
    "dir = os.path.join(\"C:\\\\\", \"temp\")\n",
    "print(dir)\n",
    "\n",
    "if os.path.exists(dir) or os.path.isdir(dir):\n",
    "    print(f'The {dir} is a directory')"
   ]
  },
  {
   "cell_type": "markdown",
   "metadata": {},
   "source": [
    "## Create a directory\n"
   ]
  },
  {
   "cell_type": "code",
   "execution_count": 3,
   "metadata": {},
   "outputs": [
    {
     "ename": "FileNotFoundError",
     "evalue": "[WinError 3] The system cannot find the path specified: 'C:\\\\temp\\\\python'",
     "output_type": "error",
     "traceback": [
      "\u001b[1;31m---------------------------------------------------------------------------\u001b[0m",
      "\u001b[1;31mFileNotFoundError\u001b[0m                         Traceback (most recent call last)",
      "Cell \u001b[1;32mIn[3], line 5\u001b[0m\n\u001b[0;32m      3\u001b[0m \u001b[38;5;28mdir\u001b[39m \u001b[38;5;241m=\u001b[39m os\u001b[38;5;241m.\u001b[39mpath\u001b[38;5;241m.\u001b[39mjoin(\u001b[38;5;124m\"\u001b[39m\u001b[38;5;124mC:\u001b[39m\u001b[38;5;130;01m\\\\\u001b[39;00m\u001b[38;5;124m\"\u001b[39m, \u001b[38;5;124m\"\u001b[39m\u001b[38;5;124mtemp\u001b[39m\u001b[38;5;124m\"\u001b[39m, \u001b[38;5;124m\"\u001b[39m\u001b[38;5;124mpython\u001b[39m\u001b[38;5;124m\"\u001b[39m)\n\u001b[0;32m      4\u001b[0m \u001b[38;5;28;01mif\u001b[39;00m \u001b[38;5;129;01mnot\u001b[39;00m os\u001b[38;5;241m.\u001b[39mpath\u001b[38;5;241m.\u001b[39mexists(\u001b[38;5;28mdir\u001b[39m):\n\u001b[1;32m----> 5\u001b[0m     \u001b[43mos\u001b[49m\u001b[38;5;241;43m.\u001b[39;49m\u001b[43mmkdir\u001b[49m\u001b[43m(\u001b[49m\u001b[38;5;28;43mdir\u001b[39;49m\u001b[43m)\u001b[49m\n",
      "\u001b[1;31mFileNotFoundError\u001b[0m: [WinError 3] The system cannot find the path specified: 'C:\\\\temp\\\\python'"
     ]
    }
   ],
   "source": [
    "import os\n",
    "\n",
    "dir = os.path.join(\"C:\\\\\", \"temp\", \"python\")\n",
    "if not os.path.exists(dir):\n",
    "    os.mkdir(dir)\n"
   ]
  },
  {
   "cell_type": "markdown",
   "metadata": {},
   "source": [
    "## Rename a directory\n"
   ]
  },
  {
   "cell_type": "code",
   "execution_count": 42,
   "metadata": {},
   "outputs": [],
   "source": [
    "import os\n",
    "\n",
    "oldpath = os.path.join(\"C:\\\\\", \"temp\", \"python\")\n",
    "newpath = os.path.join(\"C:\\\\\", \"temp\", \"python3\")\n",
    "\n",
    "if os.path.exists(oldpath) and not os.path.exists(newpath):\n",
    "    os.rename(oldpath, newpath)\n",
    "    print(\"'{0}' was renamed to '{1}'\".format(oldpath, newpath))\n"
   ]
  },
  {
   "cell_type": "markdown",
   "metadata": {},
   "source": [
    "## Delete a directory\n"
   ]
  },
  {
   "cell_type": "code",
   "execution_count": 43,
   "metadata": {},
   "outputs": [],
   "source": [
    "import os\n",
    "\n",
    "dir = os.path.join(\"C:\\\\\",\"temp\",\"python\")\n",
    "if os.path.exists(dir):\n",
    "    os.rmdir(dir)\n",
    "    print(dir + ' is removed.')"
   ]
  },
  {
   "cell_type": "markdown",
   "metadata": {},
   "source": [
    "## Traverse a directory recursively\n"
   ]
  },
  {
   "cell_type": "code",
   "execution_count": 31,
   "metadata": {},
   "outputs": [],
   "source": [
    "import os\n",
    "\n",
    "path = \"c:\\\\temp\"\n",
    "for root, dirs, files in os.walk(path):\n",
    "    print(\"{0} has {1} files\".format(root, len(files)))"
   ]
  },
  {
   "cell_type": "markdown",
   "metadata": {},
   "source": [
    "# Python List Files\n"
   ]
  },
  {
   "cell_type": "markdown",
   "metadata": {},
   "source": [
    "## Python list file example\n"
   ]
  },
  {
   "cell_type": "code",
   "execution_count": 46,
   "metadata": {},
   "outputs": [],
   "source": [
    "import os\n",
    "\n",
    "\n",
    "path = 'D:\\\\web'\n",
    "\n",
    "html_files = []\n",
    "\n",
    "for dirpath, dirnames, filenames in os.walk(path):\n",
    "    for filename in filenames:\n",
    "        if filename.endswith('.html'):\n",
    "            html_files.append(os.path.join(dirpath, filename))\n",
    "\n",
    "for html_file in html_files:\n",
    "    print(html_file)"
   ]
  },
  {
   "cell_type": "markdown",
   "metadata": {},
   "source": [
    "dont have the folder with .html"
   ]
  },
  {
   "cell_type": "markdown",
   "metadata": {},
   "source": [
    "## Defining a reusable list files function\n"
   ]
  },
  {
   "cell_type": "code",
   "execution_count": 47,
   "metadata": {},
   "outputs": [],
   "source": [
    "import os\n",
    "\n",
    "\n",
    "def list_files(path, extentions=None):\n",
    "    \"\"\" List all files in a directory specified by path\n",
    "    Args:\n",
    "        path - the root directory path\n",
    "        extensions - a iterator of file extensions to include, pass None to get all files.\n",
    "    Returns:\n",
    "        A list of files specified by extensions\n",
    "    \"\"\"\n",
    "    filepaths = []\n",
    "    for root, _, files in os.walk(path):\n",
    "        for file in files:\n",
    "            if extentions is None:\n",
    "                filepaths.append(os.path.join(root, file))\n",
    "            else:\n",
    "                for ext in extentions:\n",
    "                    if file.endswith(ext):\n",
    "                        filepaths.append(os.path.join(root, file))\n",
    "\n",
    "    return filepaths\n",
    "\n",
    "\n",
    "if __name__ == '__main__':\n",
    "    filepaths = list_files(r'D:\\web', ('.html', '.css'))\n",
    "    for filepath in filepaths:\n",
    "        print(filepath)"
   ]
  },
  {
   "cell_type": "markdown",
   "metadata": {},
   "source": [
    "## Make list files function more efficient\n"
   ]
  },
  {
   "cell_type": "code",
   "execution_count": 48,
   "metadata": {},
   "outputs": [],
   "source": [
    "import os\n",
    "\n",
    "\n",
    "def list_files(path, extentions=None):\n",
    "    \"\"\" List all files in a directory specified by path\n",
    "    Args:\n",
    "        path - the root directory path\n",
    "        extensions - a iterator of file extensions to include, pass None to get all files.\n",
    "    Returns:\n",
    "        A list of files specified by extensions\n",
    "    \"\"\"\n",
    "    for root, _, files in os.walk(path):\n",
    "        for file in files:\n",
    "            if extentions is None:\n",
    "                yield os.path.join(root, file)\n",
    "            else:\n",
    "                for ext in extentions:\n",
    "                    if file.endswith(ext):\n",
    "                        yield os.path.join(root, file)\n",
    "\n",
    "\n",
    "if __name__ == '__main__':\n",
    "    filepaths = list_files(r'D:\\web', ('.html', '.css'))\n",
    "    for filepath in filepaths:\n",
    "        print(filepath)"
   ]
  },
  {
   "cell_type": "markdown",
   "metadata": {},
   "source": [
    "# Section 14. Third-party Packages, PIP, and Virtual Environments\n"
   ]
  },
  {
   "cell_type": "markdown",
   "metadata": {},
   "source": [
    "major.minor.patch"
   ]
  },
  {
   "cell_type": "markdown",
   "metadata": {},
   "source": [
    "pip install requests\n"
   ]
  },
  {
   "cell_type": "markdown",
   "metadata": {},
   "source": [
    "pip --V\n"
   ]
  },
  {
   "cell_type": "markdown",
   "metadata": {},
   "source": [
    "pip 20.2.4 from C:\\Users\\<username>\\AppData\\Roaming\\Python\\Python38\\site-packages\\pip (python 3.8)\n"
   ]
  },
  {
   "cell_type": "markdown",
   "metadata": {},
   "source": [
    "pip3 --V\n"
   ]
  },
  {
   "cell_type": "markdown",
   "metadata": {},
   "source": [
    "\n",
    "## for installing packages in ipynb file we need to start with !"
   ]
  },
  {
   "cell_type": "markdown",
   "metadata": {},
   "source": [
    "## Install a package\n"
   ]
  },
  {
   "cell_type": "markdown",
   "metadata": {},
   "source": [
    "pip install <package_name>\n"
   ]
  },
  {
   "cell_type": "markdown",
   "metadata": {},
   "source": [
    "pip3 install <package_name>\n"
   ]
  },
  {
   "cell_type": "markdown",
   "metadata": {},
   "source": [
    "pip install requests\n"
   ]
  },
  {
   "cell_type": "code",
   "execution_count": 58,
   "metadata": {},
   "outputs": [
    {
     "name": "stdout",
     "output_type": "stream",
     "text": [
      "200\n"
     ]
    }
   ],
   "source": [
    "import requests\n",
    "\n",
    "response = requests.get('https://pypi.org/')\n",
    "print(response.status_code)"
   ]
  },
  {
   "cell_type": "markdown",
   "metadata": {},
   "source": [
    "pip install <package_name>==<version>\n"
   ]
  },
  {
   "cell_type": "markdown",
   "metadata": {},
   "source": [
    "pip install requests==2.20.1\n"
   ]
  },
  {
   "cell_type": "markdown",
   "metadata": {},
   "source": [
    "## List installed packages\n"
   ]
  },
  {
   "cell_type": "markdown",
   "metadata": {},
   "source": [
    "pip list\n"
   ]
  },
  {
   "cell_type": "markdown",
   "metadata": {},
   "source": [
    "Package          Version\n",
    "---------------- ---------\n",
    "appdirs          1.4.4\n",
    "autopep8         1.5.4\n",
    "certifi          2020.6.20\n",
    "chardet          3.0.4\n",
    "colorama         0.4.4\n",
    "distlib          0.3.1\n",
    "filelock         3.0.12\n",
    "idna             2.10\n",
    "Pillow           8.0.0\n",
    "pip              20.2.4\n",
    "pycodestyle      2.6.0\n",
    "requests         2.24.0"
   ]
  },
  {
   "cell_type": "markdown",
   "metadata": {},
   "source": [
    "pip list --outdated\n"
   ]
  },
  {
   "cell_type": "markdown",
   "metadata": {},
   "source": [
    "Package    Version Latest Type\n",
    "---------- ------- ------ -----\n",
    "setuptools 47.1.0  50.3.2 wheel"
   ]
  },
  {
   "cell_type": "markdown",
   "metadata": {},
   "source": [
    "## Uninstall a package\n"
   ]
  },
  {
   "cell_type": "markdown",
   "metadata": {},
   "source": [
    "pip uninstall <package_name>\n"
   ]
  },
  {
   "cell_type": "markdown",
   "metadata": {},
   "source": [
    "Proceed (y/n)?\n"
   ]
  },
  {
   "cell_type": "markdown",
   "metadata": {},
   "source": [
    "pip show <package_name>\n"
   ]
  },
  {
   "cell_type": "markdown",
   "metadata": {},
   "source": [
    "Requires: urllib3, chardet, idna, certifi\n"
   ]
  },
  {
   "cell_type": "markdown",
   "metadata": {},
   "source": [
    "## Python Virtual Environments\n"
   ]
  },
  {
   "cell_type": "code",
   "execution_count": 4,
   "metadata": {},
   "outputs": [
    {
     "name": "stdout",
     "output_type": "stream",
     "text": [
      "c:\\Users\\Asus\\.conda\\envs\\ece5831-2024\n"
     ]
    }
   ],
   "source": [
    "import sys\n",
    "\n",
    "print(sys.prefix)"
   ]
  },
  {
   "cell_type": "code",
   "execution_count": 5,
   "metadata": {},
   "outputs": [
    {
     "name": "stdout",
     "output_type": "stream",
     "text": [
      "['c:\\\\Users\\\\Asus\\\\.conda\\\\envs\\\\ece5831-2024', 'c:\\\\Users\\\\Asus\\\\.conda\\\\envs\\\\ece5831-2024\\\\lib\\\\site-packages']\n"
     ]
    }
   ],
   "source": [
    "import site\n",
    "print(site.getsitepackages())"
   ]
  },
  {
   "cell_type": "markdown",
   "metadata": {},
   "source": [
    "python --version\n",
    "mkdir D:\\test_env\n",
    "cd test_env\n",
    "python -m venv project_env\n",
    "where python\n",
    "C:\\Python\\python.exe\n",
    "(project_env) D:\\test_env\\project_env\\Scripts>\n",
    "where python\n",
    "D:\\test_env\\project_env\\Scripts\\python.exe\n",
    "C:\\Python\\python.exe\n",
    "cd..\n",
    "cd..\n",
    "mkdir web_crawler\n",
    "cd web_crawler\n",
    "pip list\n",
    "Package    Version\n",
    "---------- -------\n",
    "pip        22.0.4\n",
    "setuptools 58.1.0\n",
    "pip install requests\n",
    "Package            Version\n",
    "------------------ ---------\n",
    "certifi            2022.9.24\n",
    "charset-normalizer 2.1.1\n",
    "idna               3.4\n",
    "pip                22.0.4\n",
    "requests           2.28.1\n",
    "setuptools         58.1.0\n",
    "urllib3            1.26.12\n",
    "pip freeze > requirements.txt\n",
    "certifi==2022.9.24\n",
    "charset-normalizer==2.1.1\n",
    "idna==3.4\n",
    "requests==2.28.1\n",
    "urllib3==1.26.12"
   ]
  },
  {
   "cell_type": "code",
   "execution_count": 7,
   "metadata": {},
   "outputs": [
    {
     "name": "stdout",
     "output_type": "stream",
     "text": [
      "Collecting requests\n",
      "  Using cached requests-2.32.3-py3-none-any.whl.metadata (4.6 kB)\n",
      "Collecting charset-normalizer<4,>=2 (from requests)\n",
      "  Downloading charset_normalizer-3.3.2-cp310-cp310-win_amd64.whl.metadata (34 kB)\n",
      "Collecting idna<4,>=2.5 (from requests)\n",
      "  Downloading idna-3.10-py3-none-any.whl.metadata (10 kB)\n",
      "Collecting urllib3<3,>=1.21.1 (from requests)\n",
      "  Downloading urllib3-2.2.3-py3-none-any.whl.metadata (6.5 kB)\n",
      "Collecting certifi>=2017.4.17 (from requests)\n",
      "  Downloading certifi-2024.8.30-py3-none-any.whl.metadata (2.2 kB)\n",
      "Using cached requests-2.32.3-py3-none-any.whl (64 kB)\n",
      "Downloading certifi-2024.8.30-py3-none-any.whl (167 kB)\n",
      "Downloading charset_normalizer-3.3.2-cp310-cp310-win_amd64.whl (100 kB)\n",
      "Downloading idna-3.10-py3-none-any.whl (70 kB)\n",
      "Downloading urllib3-2.2.3-py3-none-any.whl (126 kB)\n",
      "Installing collected packages: urllib3, idna, charset-normalizer, certifi, requests\n",
      "Successfully installed certifi-2024.8.30 charset-normalizer-3.3.2 idna-3.10 requests-2.32.3 urllib3-2.2.3\n"
     ]
    }
   ],
   "source": [
    "!pip install requests"
   ]
  },
  {
   "cell_type": "code",
   "execution_count": 8,
   "metadata": {},
   "outputs": [
    {
     "name": "stdout",
     "output_type": "stream",
     "text": [
      "<!doctype html><html itemscope=\"\" itemtype=\"http://schema.org/WebPage\" lang=\"en\"><head><meta content=\"Search the world's information, including webpages, images, videos and more. Google has many special features to help you find exactly what you're looking for.\" name=\"description\"><meta content=\"noodp, \" name=\"robots\"><meta content=\"text/html; charset=UTF-8\" http-equiv=\"Content-Type\"><meta content=\"/images/branding/googleg/1x/googleg_standard_color_128dp.png\" itemprop=\"image\"><title>Google</title><script nonce=\"qmlLDK59J6wH4n-BGhiQrg\">(function(){var _g={kEI:'Sh7yZtruNbz5i-gPj_OKmQg',kEXPI:'0,3700260,1121,3,45,507056,31560,2872,2891,8348,64702,34266,162095,342,23024,6699,41949,84371,8155,8861,14489,8702,13734,9781,45598,17057,36747,3801,2412,33249,15816,1804,7734,18098,575,20675,1632,29279,27083,5212675,997,147,3,56,5991228,2841102,263,439,3,26674686,1305642,1007,15666,43886,3,1603,3,2124363,23029351,8163,4636,16436,34754,5,49286,11640,10,10973,884,14280,7146,45,991,17875,17474,4695,2,9383,19011,2663,2478,1,1,1,950,3319,155,1,1,1,2481,21239,9139,4600,328,3217,4,1235,1769,6760,118,1,707,5,5303,7707,5683,7339,687,930,6866,3,1,51,22,2941,2695,518,4672,2,1179,4191,5784,580,102,282,170,212,8675,3112,1861,54,2205,7,12,9273,2795,1339,2380,1484,981,528,2766,1,1938,2055,3501,2178,12095,473,49,748,3026,2758,1181,5,1713,1,2640,575,751,1404,1,2086,144,1,584,2,7110,229,1,1994,844,486,3997,148,285,1,1,2,3,548,1000,1955,1,735,1345,972,2,1541,256,2369,30,299,201,14,773,27,531,332,1152,2,1015,23,82,580,830,1984,1047,679,836,2629,1,1,2,3,484,577,390,41,1207,719,2,1,1,2,3,1015,1370,263,1018,20,408,2001,139,346,224,3142,1155,4,201,381,1973,193,473,16,407,1030,45,2,45,45,656,8,55,378,184,192,721,698,20,95,75,473,29,123,59,129,1,31,1954,172,3,473,107,61,26,65,470,146,891,97,387,61,370,49,326,142,2,145,809,129,93,48,137,342,964,4,1,6,155,563,1,987,134,297,119,319,396,1,3,7,2377,24,66,65,437,311,100,938,331,30,690,400,1202,168,469,1,1732,283,5,317,593,4,2,242,486,174,49,85,80,1,55,693,1191,26,1042,1292,1,717,1084,1451,21083933,359916,4294,3,1423,3,14475,3,7328,9669,18,588,2192,1208,371',kBL:'SbOB',kOPI:89978449};(function(){var a;((a=window.google)==null?0:a.stvsc)?google.kEI=_g.kEI:window.google=_g;}).call(this);})();(function(){google.sn='webhp';google.kHL='en';})();(function(){\n",
      "var h=this||self;function l(){return window.google!==void 0&&window.google.kOPI!==void 0&&window.google.kOPI!==0?window.google.kOPI:null};var m,n=[];function p(a){for(var b;a&&(!a.getAttribute||!(b=a.getAttribute(\"eid\")));)a=a.parentNode;return b||m}function q(a){for(var b=null;a&&(!a.getAttribute||!(b=a.getAttribute(\"leid\")));)a=a.parentNode;return b}function r(a){/^http:/i.test(a)&&window.location.protocol===\"https:\"&&(google.ml&&google.ml(Error(\"a\"),!1,{src:a,glmm:1}),a=\"\");return a}\n",
      "function t(a,b,c,d,k){var e=\"\";b.search(\"&ei=\")===-1&&(e=\"&ei=\"+p(d),b.search(\"&lei=\")===-1&&(d=q(d))&&(e+=\"&lei=\"+d));d=\"\";var g=b.search(\"&cshid=\")===-1&&a!==\"slh\",f=[];f.push([\"zx\",Date.now().toString()]);h._cshid&&g&&f.push([\"cshid\",h._cshid]);c=c();c!=null&&f.push([\"opi\",c.toString()]);for(c=0;c<f.length;c++){if(c===0||c>0)d+=\"&\";d+=f[c][0]+\"=\"+f[c][1]}return\"/\"+(k||\"gen_204\")+\"?atyp=i&ct=\"+String(a)+\"&cad=\"+(b+e+d)};m=google.kEI;google.getEI=p;google.getLEI=q;google.ml=function(){return null};google.log=function(a,b,c,d,k,e){e=e===void 0?l:e;c||(c=t(a,b,e,d,k));if(c=r(c)){a=new Image;var g=n.length;n[g]=a;a.onerror=a.onload=a.onabort=function(){delete n[g]};a.src=c}};google.logUrl=function(a,b){b=b===void 0?l:b;return t(\"\",a,b)};}).call(this);(function(){google.y={};google.sy=[];var d;(d=google).x||(d.x=function(a,b){if(a)var c=a.id;else{do c=Math.random();while(google.y[c])}google.y[c]=[a,b];return!1});var e;(e=google).sx||(e.sx=function(a){google.sy.push(a)});google.lm=[];var f;(f=google).plm||(f.plm=function(a){google.lm.push.apply(google.lm,a)});google.lq=[];var g;(g=google).load||(g.load=function(a,b,c){google.lq.push([[a],b,c])});var h;(h=google).loadAll||(h.loadAll=function(a,b){google.lq.push([a,b])});google.bx=!1;var k;(k=google).lx||(k.lx=function(){});var l=[],m;(m=google).fce||(m.fce=function(a,b,c,n){l.push([a,b,c,n])});google.qce=l;}).call(this);google.f={};(function(){\n",
      "document.documentElement.addEventListener(\"submit\",function(b){var a;if(a=b.target){var c=a.getAttribute(\"data-submitfalse\");a=c===\"1\"||c===\"q\"&&!a.elements.q.value?!0:!1}else a=!1;a&&(b.preventDefault(),b.stopPropagation())},!0);document.documentElement.addEventListener(\"click\",function(b){var a;a:{for(a=b.target;a&&a!==document.documentElement;a=a.parentElement)if(a.tagName===\"A\"){a=a.getAttribute(\"data-nohref\")===\"1\";break a}a=!1}a&&b.preventDefault()},!0);}).call(this);</script><style>#gbar,#guser{font-size:13px;padding-top:1px !important;}#gbar{height:22px}#guser{padding-bottom:7px !important;text-align:right}.gbh,.gbd{border-top:1px solid #c9d7f1;font-size:1px}.gbh{height:0;position:absolute;top:24px;width:100%}@media all{.gb1{height:22px;margin-right:.5em;vertical-align:top}#gbar{float:left}}a.gb1,a.gb4{text-decoration:underline !important}a.gb1,a.gb4{color:#00c !important}.gbi .gb4{color:#dd8e27 !important}.gbf .gb4{color:#900 !important}\n",
      "</style><style>body,td,a,p,.h{font-family:arial,sans-serif}body{margin:0;overflow-y:scroll}#gog{padding:3px 8px 0}td{line-height:.8em}.gac_m td{line-height:17px}form{margin-bottom:20px}.h{color:#1967d2}em{font-weight:bold;font-style:normal}.lst{height:25px;width:496px}.gsfi,.lst{font:18px arial,sans-serif}.gsfs{font:17px arial,sans-serif}.ds{display:inline-box;display:inline-block;margin:3px 0 4px;margin-left:4px}input{font-family:inherit}body{background:#fff;color:#000}a{color:#681da8;text-decoration:none}a:hover,a:active{text-decoration:underline}.fl a{color:#1967d2}a:visited{color:#681da8}.sblc{padding-top:5px}.sblc a{display:block;margin:2px 0;margin-left:13px;font-size:11px}.lsbb{background:#f8f9fa;border:solid 1px;border-color:#dadce0 #70757a #70757a #dadce0;height:30px}.lsbb{display:block}#WqQANb a{display:inline-block;margin:0 12px}.lsb{background:url(/images/nav_logo229.png) 0 -261px repeat-x;color:#000;border:none;cursor:pointer;height:30px;margin:0;outline:0;font:15px arial,sans-serif;vertical-align:top}.lsb:active{background:#dadce0}.lst:focus{outline:none}</style><script nonce=\"qmlLDK59J6wH4n-BGhiQrg\">(function(){window.google.erd={jsr:1,bv:2082,de:true};\n",
      "var g=this||self;var k,l=(k=g.mei)!=null?k:1,n,p=(n=g.sdo)!=null?n:!0,q=0,r,t=google.erd,v=t.jsr;google.ml=function(a,b,d,m,e){e=e===void 0?2:e;b&&(r=a&&a.message);d===void 0&&(d={});d.cad=\"ple_\"+google.ple+\".aple_\"+google.aple;if(google.dl)return google.dl(a,e,d,!0),null;b=d;if(v<0){window.console&&console.error(a,b);if(v===-2)throw a;b=!1}else b=!a||!a.message||a.message===\"Error loading script\"||q>=l&&!m?!1:!0;if(!b)return null;q++;d=d||{};b=encodeURIComponent;var c=\"/gen_204?atyp=i&ei=\"+b(google.kEI);google.kEXPI&&(c+=\"&jexpid=\"+b(google.kEXPI));c+=\"&srcpg=\"+b(google.sn)+\"&jsr=\"+b(t.jsr)+\n",
      "\"&bver=\"+b(t.bv);t.dpf&&(c+=\"&dpf=\"+b(t.dpf));var f=a.lineNumber;f!==void 0&&(c+=\"&line=\"+f);var h=a.fileName;h&&(h.indexOf(\"-extension:/\")>0&&(e=3),c+=\"&script=\"+b(h),f&&h===window.location.href&&(f=document.documentElement.outerHTML.split(\"\\n\")[f],c+=\"&cad=\"+b(f?f.substring(0,300):\"No script found.\")));google.ple&&google.ple===1&&(e=2);c+=\"&jsel=\"+e;for(var u in d)c+=\"&\",c+=b(u),c+=\"=\",c+=b(d[u]);c=c+\"&emsg=\"+b(a.name+\": \"+a.message);c=c+\"&jsst=\"+b(a.stack||\"N/A\");c.length>=12288&&(c=c.substr(0,12288));a=c;m||google.log(0,\"\",a);return a};window.onerror=function(a,b,d,m,e){r!==a&&(a=e instanceof Error?e:Error(a),d===void 0||\"lineNumber\"in a||(a.lineNumber=d),b===void 0||\"fileName\"in a||(a.fileName=b),google.ml(a,!1,void 0,!1,a.name===\"SyntaxError\"||a.message.substring(0,11)===\"SyntaxError\"||a.message.indexOf(\"Script error\")!==-1?3:0));r=null;p&&q>=l&&(window.onerror=null)};})();</script></head><body bgcolor=\"#fff\"><script nonce=\"qmlLDK59J6wH4n-BGhiQrg\">(function(){var src='/images/nav_logo229.png';var iesg=false;document.body.onload = function(){window.n && window.n();if (document.images){new Image().src=src;}\n",
      "if (!iesg){document.f&&document.f.q.focus();document.gbqf&&document.gbqf.q.focus();}\n",
      "}\n",
      "})();</script><div id=\"mngb\"><div id=gbar><nobr><b class=gb1>Search</b> <a class=gb1 href=\"https://www.google.com/imghp?hl=en&tab=wi\">Images</a> <a class=gb1 href=\"https://maps.google.com/maps?hl=en&tab=wl\">Maps</a> <a class=gb1 href=\"https://play.google.com/?hl=en&tab=w8\">Play</a> <a class=gb1 href=\"https://www.youtube.com/?tab=w1\">YouTube</a> <a class=gb1 href=\"https://news.google.com/?tab=wn\">News</a> <a class=gb1 href=\"https://mail.google.com/mail/?tab=wm\">Gmail</a> <a class=gb1 href=\"https://drive.google.com/?tab=wo\">Drive</a> <a class=gb1 style=\"text-decoration:none\" href=\"https://www.google.com/intl/en/about/products?tab=wh\"><u>More</u> &raquo;</a></nobr></div><div id=guser width=100%><nobr><span id=gbn class=gbi></span><span id=gbf class=gbf></span><span id=gbe></span><a href=\"http://www.google.com/history/optout?hl=en\" class=gb4>Web History</a> | <a  href=\"/preferences?hl=en\" class=gb4>Settings</a> | <a target=_top id=gb_70 href=\"https://accounts.google.com/ServiceLogin?hl=en&passive=true&continue=https://www.google.com/&ec=GAZAAQ\" class=gb4>Sign in</a></nobr></div><div class=gbh style=left:0></div><div class=gbh style=right:0></div></div><center><br clear=\"all\" id=\"lgpd\"><div id=\"XjhHGf\"><img alt=\"Google\" height=\"92\" src=\"/images/branding/googlelogo/1x/googlelogo_white_background_color_272x92dp.png\" style=\"padding:28px 0 14px\" width=\"272\" id=\"hplogo\"><br><br></div><form action=\"/search\" name=\"f\"><table cellpadding=\"0\" cellspacing=\"0\"><tr valign=\"top\"><td width=\"25%\">&nbsp;</td><td align=\"center\" nowrap=\"\"><input name=\"ie\" value=\"ISO-8859-1\" type=\"hidden\"><input value=\"en\" name=\"hl\" type=\"hidden\"><input name=\"source\" type=\"hidden\" value=\"hp\"><input name=\"biw\" type=\"hidden\"><input name=\"bih\" type=\"hidden\"><div class=\"ds\" style=\"height:32px;margin:4px 0\"><input class=\"lst\" style=\"margin:0;padding:5px 8px 0 6px;vertical-align:top;color:#000\" autocomplete=\"off\" value=\"\" title=\"Google Search\" maxlength=\"2048\" name=\"q\" size=\"57\"></div><br style=\"line-height:0\"><span class=\"ds\"><span class=\"lsbb\"><input class=\"lsb\" value=\"Google Search\" name=\"btnG\" type=\"submit\"></span></span><span class=\"ds\"><span class=\"lsbb\"><input class=\"lsb\" id=\"tsuid_1\" value=\"I'm Feeling Lucky\" name=\"btnI\" type=\"submit\"><script nonce=\"qmlLDK59J6wH4n-BGhiQrg\">(function(){var id='tsuid_1';document.getElementById(id).onclick = function(){if (this.form.q.value){this.checked = 1;if (this.form.iflsig)this.form.iflsig.disabled = false;}\n",
      "else top.location='/doodles/';};})();</script><input value=\"AL9hbdgAAAAAZvIsWiufhTiuNI2NSv_KXoZawOwokAdi\" name=\"iflsig\" type=\"hidden\"></span></span></td><td class=\"fl sblc\" align=\"left\" nowrap=\"\" width=\"25%\"><a href=\"/advanced_search?hl=en&amp;authuser=0\">Advanced search</a></td></tr></table><input id=\"gbv\" name=\"gbv\" type=\"hidden\" value=\"1\"><script nonce=\"qmlLDK59J6wH4n-BGhiQrg\">(function(){var a,b=\"1\";if(document&&document.getElementById)if(typeof XMLHttpRequest!=\"undefined\")b=\"2\";else if(typeof ActiveXObject!=\"undefined\"){var c,d,e=[\"MSXML2.XMLHTTP.6.0\",\"MSXML2.XMLHTTP.3.0\",\"MSXML2.XMLHTTP\",\"Microsoft.XMLHTTP\"];for(c=0;d=e[c++];)try{new ActiveXObject(d),b=\"2\"}catch(h){}}a=b;if(a==\"2\"&&location.search.indexOf(\"&gbv=2\")==-1){var f=google.gbvu,g=document.getElementById(\"gbv\");g&&(g.value=a);f&&window.setTimeout(function(){location.href=f},0)};}).call(this);</script></form><div style=\"font-size:83%;min-height:3.5em\"><br><div id=\"K7FuCf\"><style>.U8K5Lc{font-size:small;margin-bottom:32px}.U8K5Lc a.qDTOof{display:inline-block;text-decoration:none}.U8K5Lc img{border:none;margin-right:5px;vertical-align:middle}</style><div class=\"U8K5Lc\" data-ved=\"0ahUKEwjau-j1vtqIAxW8_AIHHY-5IoMQnIcBCAU\"><a href=\"https://www.google.com/url?q=https://blog.google/outreach-initiatives/sustainability/google-ai-wildfire-detection/%3Futm_source%3Dgooglehpp%26utm_medium%3Dhousepromos%26utm_campaign%3DGoogleResearch%26utm_content%3Dus&amp;source=hpp&amp;id=19043896&amp;ct=3&amp;usg=AOvVaw2e0uO7oX_e-hNwThgcxcec&amp;sa=X&amp;ved=0ahUKEwjau-j1vtqIAxW8_AIHHY-5IoMQ8IcBCAY\" rel=\"nofollow\">See how Google AI is helping firefighters detect wildfires</a></div></div></div><span id=\"footer\"><div style=\"font-size:10pt\"><div style=\"margin:19px auto;text-align:center\" id=\"WqQANb\"><a href=\"/intl/en/ads/\">Advertising</a><a href=\"/services/\">Business Solutions</a><a href=\"/intl/en/about.html\">About Google</a></div></div><p style=\"font-size:8pt;color:#70757a\">&copy; 2024 - <a href=\"/intl/en/policies/privacy/\">Privacy</a> - <a href=\"/intl/en/policies/terms/\">Terms</a></p></span></center><script nonce=\"qmlLDK59J6wH4n-BGhiQrg\">(function(){window.google.cdo={height:757,width:1440};(function(){var a=window.innerWidth,b=window.innerHeight;if(!a||!b){var c=window.document,d=c.compatMode==\"CSS1Compat\"?c.documentElement:c.body;a=d.clientWidth;b=d.clientHeight}\n",
      "if(a&&b&&(a!=google.cdo.width||b!=google.cdo.height)){var e=google,f=e.log,g=\"/client_204?&atyp=i&biw=\"+a+\"&bih=\"+b+\"&ei=\"+google.kEI,h=\"\",k=[],l=window.google!==void 0&&window.google.kOPI!==void 0&&window.google.kOPI!==0?window.google.kOPI:null;l!=null&&k.push([\"opi\",l.toString()]);for(var m=0;m<k.length;m++){if(m===0||m>0)h+=\"&\";h+=k[m][0]+\"=\"+k[m][1]}f.call(e,\"\",\"\",g+h)};}).call(this);})();</script>  <script nonce=\"qmlLDK59J6wH4n-BGhiQrg\">(function(){google.xjs={basecomb:'/xjs/_/js/k\\x3dxjs.hp.en.mneUvaCEwK4.es5.O/ck\\x3dxjs.hp.PnW3RmAQU-M.L.X.O/am\\x3dAQAAAAgAAAAAAAAAAAAAAAAAAAAAAAAAQAgAAAAAAAAAAAMA4AAAACAAQEAAAAAA4AAAAAAAAIAARAAACgACAMCB-I4AQAAsAgDACw/d\\x3d1/ed\\x3d1/dg\\x3d0/ujg\\x3d1/rs\\x3dACT90oEokAuMT_Gq89Oskg9HJTluTOZGbQ',basecss:'/xjs/_/ss/k\\x3dxjs.hp.PnW3RmAQU-M.L.X.O/am\\x3dAQAAAAgAAAAAAAAAAAAAAAAAAAAAAAAAAAgAAAAAAAAAAAAAAAAAACAAQEAAAAAAAAAAAAAAAIAARAAACgAC/rs\\x3dACT90oH9VlNXp3ZuAtLTlelcgO6D0SP9Gg',basejs:'/xjs/_/js/k\\x3dxjs.hp.en.mneUvaCEwK4.es5.O/am\\x3dAAAAAAAAAAAAAAAAAAAAAAAAAAAAAAAAQAAAAAAAAAAAAAMA4AAAAAAAAAAAAAAA4AAAAAAAAAAAAAAAAAAAAMCB-I4AQAAsAgDACw/dg\\x3d0/rs\\x3dACT90oG4xzeH29quSb82LnB3F1AKU9U1LA',excm:[]};})();</script>  <link href=\"/xjs/_/ss/k=xjs.hp.PnW3RmAQU-M.L.X.O/am=AQAAAAgAAAAAAAAAAAAAAAAAAAAAAAAAAAgAAAAAAAAAAAAAAAAAACAAQEAAAAAAAAAAAAAAAIAARAAACgAC/d=1/ed=1/rs=ACT90oH9VlNXp3ZuAtLTlelcgO6D0SP9Gg/m=sb_he,d\" rel=\"stylesheet\" nonce=\"qmlLDK59J6wH4n-BGhiQrg\">      <script nonce=\"qmlLDK59J6wH4n-BGhiQrg\">(function(){var u='/xjs/_/js/k\\x3dxjs.hp.en.mneUvaCEwK4.es5.O/am\\x3dAAAAAAAAAAAAAAAAAAAAAAAAAAAAAAAAQAAAAAAAAAAAAAMA4AAAAAAAAAAAAAAA4AAAAAAAAAAAAAAAAAAAAMCB-I4AQAAsAgDACw/d\\x3d1/ed\\x3d1/dg\\x3d3/rs\\x3dACT90oG4xzeH29quSb82LnB3F1AKU9U1LA/m\\x3dsb_he,d';var st=1;var amd=1000;var mmd=0;var pod=true;var f=typeof Object.defineProperties==\"function\"?Object.defineProperty:function(a,b,c){if(a==Array.prototype||a==Object.prototype)return a;a[b]=c.value;return a},g=function(a){a=[\"object\"==typeof globalThis&&globalThis,a,\"object\"==typeof window&&window,\"object\"==typeof self&&self,\"object\"==typeof global&&global];for(var b=0;b<a.length;++b){var c=a[b];if(c&&c.Math==Math)return c}throw Error(\"a\");},h=g(this),k=function(a,b){if(b)a:{var c=h;a=a.split(\".\");for(var d=0;d<a.length-1;d++){var e=a[d];if(!(e in\n",
      "c))break a;c=c[e]}a=a[a.length-1];d=c[a];b=b(d);b!=d&&b!=null&&f(c,a,{configurable:!0,writable:!0,value:b})}};k(\"globalThis\",function(a){return a||h});\n",
      "var l=this||self;function m(){var a,b,c;return(a=(b=window.google)==null?void 0:(c=b.ia)==null?void 0:c.r.B2Jtyd)&&a.m===1&&a.cbfd!=null&&a.cbvi!=null?a:void 0};\n",
      "var n=globalThis.trustedTypes,p;function q(){var a=null;if(!n)return a;try{var b=function(c){return c};a=n.createPolicy(\"goog#html\",{createHTML:b,createScript:b,createScriptURL:b})}catch(c){}return a};var r=function(a){this.g=a};r.prototype.toString=function(){return this.g+\"\"};function t(a){if(a instanceof r)return a.g;throw Error(\"b\");};var w=/^\\s*(?!javascript:)(?:[\\w+.-]+:|[^:/?#]*(?:[/?#]|$))/i;var x=\"alternate author bookmark canonical cite help icon license modulepreload next prefetch dns-prefetch prerender preconnect preload prev search subresource\".split(\" \");function y(a,b){a.src=t(b);var c,d;(c=(b=(d=(c=(a.ownerDocument&&a.ownerDocument.defaultView||window).document).querySelector)==null?void 0:d.call(c,\"script[nonce]\"))?b.nonce||b.getAttribute(\"nonce\")||\"\":\"\")&&a.setAttribute(\"nonce\",c)};var z=function(a){var b=document;a=String(a);b.contentType===\"application/xhtml+xml\"&&(a=a.toLowerCase());return b.createElement(a)};function A(a){a=a===null?\"null\":a===void 0?\"undefined\":a;p===void 0&&(p=q());var b=p;return new r(b?b.createScriptURL(a):a)};google.ps===void 0&&(google.ps=[]);function B(){var a=u,b=function(){};google.lx=google.stvsc?b:function(){C(a);google.lx=b};google.bx||google.lx()}function D(a,b){b&&y(a,A(b));var c=a.onload;a.onload=function(d){c&&c(d);google.ps=google.ps.filter(function(e){return a!==e})};google.ps.push(a);document.body.appendChild(a)}google.as=D;function C(a){google.timers&&google.timers.load&&google.tick&&google.tick(\"load\",\"xjsls\");var b=z(\"SCRIPT\");b.onerror=function(){google.ple=1};b.onload=function(){google.ple=0};google.xjsus=void 0;D(b,a);google.aple=-1;google.dp=!0}\n",
      "function E(){var a=[u];if(!google.dp){for(var b=0;b<a.length;b++){var c=z(\"LINK\"),d=c,e=A(a[b]);if(e instanceof r)d.href=t(e).toString(),d.rel=\"preload\";else{if(x.indexOf(\"preload\")===-1)throw Error(\"c`preload\");e=w.test(e)?e:void 0;e!==void 0&&(d.href=e,d.rel=\"preload\")}c.setAttribute(\"as\",\"script\");document.body.appendChild(c)}google.dp=!0}};function F(a){var b=a.getAttribute(\"jscontroller\");return(b===\"UBXHI\"||b===\"R3fhkb\"||b===\"TSZEqd\")&&a.hasAttribute(\"data-src\")}function G(){for(var a=document.getElementsByTagName(\"img\"),b=0,c=a.length;b<c;b++){var d=a[b];if(d.hasAttribute(\"data-lzy_\")&&Number(d.getAttribute(\"data-atf\"))&1&&!F(d))return!0}return!1}for(var H=document.getElementsByTagName(\"img\"),I=0,J=H.length;I<J;++I){var K=H[I];Number(K.getAttribute(\"data-atf\"))&1&&F(K)&&(K.src=K.getAttribute(\"data-src\"))};var L,M,N,O,P,Q;function R(){google.xjsu=u;l._F_jsUrl=u;P=function(){B()};L=!1;M=(st===1||st===3)&&!!google.caft&&!G();N=m();O=(st===2||st===3)&&(!!google.rairicb||!!N)&&!G();Q=pod}function S(){L||M||O||(P(),L=!0)}\n",
      "setTimeout(function(){google&&google.tick&&google.timers&&google.timers.load&&google.tick(\"load\",\"xjspls\");R();if(M||O){if(M){var a=function(){M=!1;S()};google.caft(a);window.setTimeout(a,amd)}O&&(a=function(){O=!1;S()},N?N.cbvi.push(a):(0,google.rairicb)(a),window.setTimeout(a,mmd));Q&&(L||E())}else P()},0);})();window._ = window._ || {};window._DumpException = _._DumpException = function(e){throw e;};window._s = window._s || {};_s._DumpException = _._DumpException;window._qs = window._qs || {};_qs._DumpException = _._DumpException;(function(){var t=[9,32,0,0,0,0,8683520,0,536953952,58785804,167772168,1052672,536936448,3,134217728,4352,166410,1004668672,33816584,805306507,11];window._F_toggles = window._xjs_toggles = t;})();window._F_installCss = window._F_installCss || function(css){};(function(){google.jl={bfl:0,dw:false,ine:false,ubm:false,uwp:true,vs:false};})();(function(){var pmc='{\\x22d\\x22:{},\\x22sb_he\\x22:{\\x22agen\\x22:false,\\x22cgen\\x22:false,\\x22client\\x22:\\x22heirloom-hp\\x22,\\x22dh\\x22:true,\\x22ds\\x22:\\x22\\x22,\\x22fl\\x22:true,\\x22host\\x22:\\x22google.com\\x22,\\x22jsonp\\x22:true,\\x22msgs\\x22:{\\x22cibl\\x22:\\x22Clear Search\\x22,\\x22dym\\x22:\\x22Did you mean:\\x22,\\x22lcky\\x22:\\x22I\\\\u0026#39;m Feeling Lucky\\x22,\\x22lml\\x22:\\x22Learn more\\x22,\\x22psrc\\x22:\\x22This search was removed from your \\\\u003Ca href\\x3d\\\\\\x22/history\\\\\\x22\\\\u003EWeb History\\\\u003C/a\\\\u003E\\x22,\\x22psrl\\x22:\\x22Remove\\x22,\\x22sbit\\x22:\\x22Search by image\\x22,\\x22srch\\x22:\\x22Google Search\\x22},\\x22ovr\\x22:{},\\x22pq\\x22:\\x22\\x22,\\x22rfs\\x22:[],\\x22stok\\x22:\\x22r6wFYiwriKqCP_TeEbw512akUu4\\x22}}';google.pmc=JSON.parse(pmc);})();(function(){var b=function(a){var c=0;return function(){return c<a.length?{done:!1,value:a[c++]}:{done:!0}}};\n",
      "var e=this||self;var g,h;a:{for(var k=[\"CLOSURE_FLAGS\"],l=e,n=0;n<k.length;n++)if(l=l[k[n]],l==null){h=null;break a}h=l}var p=h&&h[610401301];g=p!=null?p:!1;var q,r=e.navigator;q=r?r.userAgentData||null:null;function t(a){return g?q?q.brands.some(function(c){return(c=c.brand)&&c.indexOf(a)!=-1}):!1:!1}function u(a){var c;a:{if(c=e.navigator)if(c=c.userAgent)break a;c=\"\"}return c.indexOf(a)!=-1};function v(){return g?!!q&&q.brands.length>0:!1}function w(){return u(\"Safari\")&&!(x()||(v()?0:u(\"Coast\"))||(v()?0:u(\"Opera\"))||(v()?0:u(\"Edge\"))||(v()?t(\"Microsoft Edge\"):u(\"Edg/\"))||(v()?t(\"Opera\"):u(\"OPR\"))||u(\"Firefox\")||u(\"FxiOS\")||u(\"Silk\")||u(\"Android\"))}function x(){return v()?t(\"Chromium\"):(u(\"Chrome\")||u(\"CriOS\"))&&!(v()?0:u(\"Edge\"))||u(\"Silk\")}function y(){return u(\"Android\")&&!(x()||u(\"Firefox\")||u(\"FxiOS\")||(v()?0:u(\"Opera\"))||u(\"Silk\"))};var z=v()?!1:u(\"Trident\")||u(\"MSIE\");y();x();w();var A=!z&&!w(),D=function(a){if(/-[a-z]/.test(\"ved\"))return null;if(A&&a.dataset){if(y()&&!(\"ved\"in a.dataset))return null;a=a.dataset.ved;return a===void 0?null:a}return a.getAttribute(\"data-\"+\"ved\".replace(/([A-Z])/g,\"-$1\").toLowerCase())};var E=[],F=null;function G(a){a=a.target;var c=performance.now(),f=[],H=f.concat,d=E;if(!(d instanceof Array)){var m=typeof Symbol!=\"undefined\"&&Symbol.iterator&&d[Symbol.iterator];if(m)d=m.call(d);else if(typeof d.length==\"number\")d={next:b(d)};else throw Error(\"b`\"+String(d));for(var B=[];!(m=d.next()).done;)B.push(m.value);d=B}E=H.call(f,d,[c]);if(a&&a instanceof HTMLElement)if(a===F){if(c=E.length>=4)c=(E[E.length-1]-E[E.length-4])/1E3<5;if(c){c=google.getEI(a);a.hasAttribute(\"data-ved\")?f=a?D(a)||\"\":\"\":f=(f=\n",
      "a.closest(\"[data-ved]\"))?D(f)||\"\":\"\";f=f||\"\";if(a.hasAttribute(\"jsname\"))a=a.getAttribute(\"jsname\");else{var C;a=(C=a.closest(\"[jsname]\"))==null?void 0:C.getAttribute(\"jsname\")}google.log(\"rcm\",\"&ei=\"+c+\"&tgtved=\"+f+\"&jsname=\"+(a||\"\"))}}else F=a,E=[c]}window.document.addEventListener(\"DOMContentLoaded\",function(){document.body.addEventListener(\"click\",G)});}).call(this);</script></body></html>\n"
     ]
    }
   ],
   "source": [
    "import requests\n",
    "\n",
    "response = requests.get('https://www.google.com')\n",
    "if response.status_code == 200:\n",
    "    print(response.text)"
   ]
  },
  {
   "cell_type": "markdown",
   "metadata": {},
   "source": [
    "python main.py\n",
    "deactivate\n",
    "D:\\test_env\\web_crawler>"
   ]
  },
  {
   "cell_type": "markdown",
   "metadata": {},
   "source": [
    "# Section 15\n"
   ]
  },
  {
   "cell_type": "markdown",
   "metadata": {},
   "source": [
    "## Python F-strings\n"
   ]
  },
  {
   "cell_type": "code",
   "execution_count": 62,
   "metadata": {},
   "outputs": [
    {
     "name": "stdout",
     "output_type": "stream",
     "text": [
      "Hello, John!\n"
     ]
    }
   ],
   "source": [
    "name = 'John'\n",
    "s = f'Hello, {name}!'\n",
    "print(s)"
   ]
  },
  {
   "cell_type": "markdown",
   "metadata": {},
   "source": [
    "### Python f-string examples\n"
   ]
  },
  {
   "cell_type": "code",
   "execution_count": 63,
   "metadata": {},
   "outputs": [
    {
     "name": "stdout",
     "output_type": "stream",
     "text": [
      "Hello, JOHN!\n"
     ]
    }
   ],
   "source": [
    "name = 'John'\n",
    "s = F'Hello, {name.upper()}!'\n",
    "print(s)"
   ]
  },
  {
   "cell_type": "code",
   "execution_count": 64,
   "metadata": {},
   "outputs": [
    {
     "name": "stdout",
     "output_type": "stream",
     "text": [
      "Hello, John Doe!\n"
     ]
    }
   ],
   "source": [
    "first_name = 'John'\n",
    "last_name = 'Doe'\n",
    "s = F'Hello, {first_name} {last_name}!'\n",
    "print(s)"
   ]
  },
  {
   "cell_type": "code",
   "execution_count": 65,
   "metadata": {},
   "outputs": [
    {
     "name": "stdout",
     "output_type": "stream",
     "text": [
      "Hello, John Doe!\n"
     ]
    }
   ],
   "source": [
    "first_name = 'John'\n",
    "last_name = 'Doe'\n",
    "s = F'Hello, {\" \".join((first_name, last_name))}!'\n",
    "\n",
    "print(s)"
   ]
  },
  {
   "cell_type": "markdown",
   "metadata": {},
   "source": [
    "### Multiline f-strings\n"
   ]
  },
  {
   "cell_type": "code",
   "execution_count": 66,
   "metadata": {},
   "outputs": [
    {
     "name": "stdout",
     "output_type": "stream",
     "text": [
      "Hello John. You're learning Python at PythonTutorial.net.\n"
     ]
    }
   ],
   "source": [
    "name = 'John'\n",
    "website = 'PythonTutorial.net'\n",
    "\n",
    "message = (\n",
    "    f'Hello {name}. '\n",
    "    f\"You're learning Python at {website}.\" \n",
    ")\n",
    "\n",
    "print(message)"
   ]
  },
  {
   "cell_type": "code",
   "execution_count": 67,
   "metadata": {},
   "outputs": [
    {
     "name": "stdout",
     "output_type": "stream",
     "text": [
      "Hello John. You're learning Python at PythonTutorial.net.\n"
     ]
    }
   ],
   "source": [
    "name = 'John'\n",
    "website = 'PythonTutorial.net'\n",
    "\n",
    "message = f'Hello {name}. ' \\\n",
    "          f\"You're learning Python at {website}.\" \n",
    "\n",
    "print(message)"
   ]
  },
  {
   "cell_type": "code",
   "execution_count": 68,
   "metadata": {},
   "outputs": [
    {
     "name": "stdout",
     "output_type": "stream",
     "text": [
      "Hello John.\n",
      "You're learning Python at PythonTutorial.net.\n"
     ]
    }
   ],
   "source": [
    "name = 'John'\n",
    "website = 'PythonTutorial.net'\n",
    "\n",
    "message = f\"\"\"Hello {name}.\n",
    "You're learning Python at {website}.\"\"\"\n",
    "\n",
    "print(message)"
   ]
  },
  {
   "cell_type": "markdown",
   "metadata": {},
   "source": [
    "### Curly braces\n"
   ]
  },
  {
   "cell_type": "code",
   "execution_count": 69,
   "metadata": {},
   "outputs": [
    {
     "name": "stdout",
     "output_type": "stream",
     "text": [
      "{1+2}\n"
     ]
    }
   ],
   "source": [
    "s = f'{{1+2}}'\n",
    "print(s)"
   ]
  },
  {
   "cell_type": "code",
   "execution_count": 70,
   "metadata": {},
   "outputs": [
    {
     "name": "stdout",
     "output_type": "stream",
     "text": [
      "{3}\n"
     ]
    }
   ],
   "source": [
    "s = f'{{{1+2}}}'\n",
    "print(s)"
   ]
  },
  {
   "cell_type": "code",
   "execution_count": 71,
   "metadata": {},
   "outputs": [
    {
     "name": "stdout",
     "output_type": "stream",
     "text": [
      "{{1+2}}\n"
     ]
    }
   ],
   "source": [
    "s = f'{{{{1+2}}}}'\n",
    "print(s)\n"
   ]
  },
  {
   "cell_type": "markdown",
   "metadata": {},
   "source": [
    "### The evaluation order of expressions in Python f-strings\n"
   ]
  },
  {
   "cell_type": "code",
   "execution_count": 72,
   "metadata": {},
   "outputs": [
    {
     "name": "stdout",
     "output_type": "stream",
     "text": [
      "1,3\n"
     ]
    }
   ],
   "source": [
    "def inc(numbers, value):\n",
    "    numbers[0] += value\n",
    "    return numbers[0]\n",
    "\n",
    "numbers = [0]\n",
    "\n",
    "s = f'{inc(numbers,1)},{inc(numbers,2)}'\n",
    "print(s)"
   ]
  },
  {
   "cell_type": "markdown",
   "metadata": {},
   "source": [
    "### Format numbers using f-strings\n"
   ]
  },
  {
   "cell_type": "code",
   "execution_count": 74,
   "metadata": {},
   "outputs": [
    {
     "name": "stdout",
     "output_type": "stream",
     "text": [
      "10\n"
     ]
    }
   ],
   "source": [
    "number = 16\n",
    "s = f'{number:x}'\n",
    "print(s) "
   ]
  },
  {
   "cell_type": "code",
   "execution_count": 75,
   "metadata": {},
   "outputs": [
    {
     "name": "stdout",
     "output_type": "stream",
     "text": [
      "1.000000e-02\n"
     ]
    }
   ],
   "source": [
    "\n",
    "number = 0.01\n",
    "s = f'{number:e}'\n",
    "print(s) \n"
   ]
  },
  {
   "cell_type": "code",
   "execution_count": 76,
   "metadata": {},
   "outputs": [
    {
     "name": "stdout",
     "output_type": "stream",
     "text": [
      " 00200\n"
     ]
    }
   ],
   "source": [
    "number = 200\n",
    "s = f'{number: 06}'\n",
    "print(s)  "
   ]
  },
  {
   "cell_type": "code",
   "execution_count": 77,
   "metadata": {},
   "outputs": [
    {
     "name": "stdout",
     "output_type": "stream",
     "text": [
      " 9.99\n"
     ]
    }
   ],
   "source": [
    "\n",
    "\n",
    "\n",
    "number = 9.98567\n",
    "s = f'{number: .2f}'\n",
    "print(s) "
   ]
  },
  {
   "cell_type": "code",
   "execution_count": 78,
   "metadata": {},
   "outputs": [
    {
     "name": "stdout",
     "output_type": "stream",
     "text": [
      " 400,000,000,000\n"
     ]
    }
   ],
   "source": [
    "\n",
    "number = 400000000000\n",
    "s = f'{number: ,}' \n",
    "print(s) "
   ]
  },
  {
   "cell_type": "code",
   "execution_count": 79,
   "metadata": {},
   "outputs": [
    {
     "name": "stdout",
     "output_type": "stream",
     "text": [
      " 12.59%\n"
     ]
    }
   ],
   "source": [
    "\n",
    "number = 0.1259\n",
    "s = f'{number: .2%}'\n",
    "print(s)  \n"
   ]
  },
  {
   "cell_type": "code",
   "execution_count": 80,
   "metadata": {},
   "outputs": [
    {
     "name": "stdout",
     "output_type": "stream",
     "text": [
      " 12.6%\n"
     ]
    }
   ],
   "source": [
    "\n",
    " \n",
    "\n",
    "\n",
    "s = f'{number: .1%}'\n",
    "print(s)  "
   ]
  },
  {
   "cell_type": "markdown",
   "metadata": {},
   "source": [
    "## Python Raw Strings\n",
    "\n"
   ]
  },
  {
   "cell_type": "code",
   "execution_count": 81,
   "metadata": {},
   "outputs": [
    {
     "name": "stdout",
     "output_type": "stream",
     "text": [
      "lang\tver\n",
      "Python\t3\n"
     ]
    }
   ],
   "source": [
    "s = 'lang\\tver\\nPython\\t3'\n",
    "print(s)\n"
   ]
  },
  {
   "cell_type": "code",
   "execution_count": 82,
   "metadata": {},
   "outputs": [
    {
     "name": "stdout",
     "output_type": "stream",
     "text": [
      "lang\\tver\\nPython\\t3\n"
     ]
    }
   ],
   "source": [
    "s = r'lang\\tver\\nPython\\t3'\n",
    "print(s)"
   ]
  },
  {
   "cell_type": "code",
   "execution_count": 83,
   "metadata": {},
   "outputs": [
    {
     "name": "stdout",
     "output_type": "stream",
     "text": [
      "True\n"
     ]
    }
   ],
   "source": [
    "s1 = r'lang\\tver\\nPython\\t3'\n",
    "s2 = 'lang\\\\tver\\\\nPython\\\\t3'\n",
    "\n",
    "print(s1 == s2) # True"
   ]
  },
  {
   "cell_type": "code",
   "execution_count": 84,
   "metadata": {},
   "outputs": [
    {
     "name": "stdout",
     "output_type": "stream",
     "text": [
      "1\n"
     ]
    }
   ],
   "source": [
    "s = '\\n'\n",
    "print(len(s)) # 1"
   ]
  },
  {
   "cell_type": "code",
   "execution_count": 88,
   "metadata": {},
   "outputs": [
    {
     "ename": "SyntaxError",
     "evalue": "unterminated string literal (detected at line 1) (3865254185.py, line 1)",
     "output_type": "error",
     "traceback": [
      "\u001b[1;36m  Cell \u001b[1;32mIn[88], line 1\u001b[1;36m\u001b[0m\n\u001b[1;33m    s = r'\\'\u001b[0m\n\u001b[1;37m        ^\u001b[0m\n\u001b[1;31mSyntaxError\u001b[0m\u001b[1;31m:\u001b[0m unterminated string literal (detected at line 1)\n"
     ]
    }
   ],
   "source": [
    "s = r'\\'"
   ]
  },
  {
   "cell_type": "code",
   "execution_count": 61,
   "metadata": {},
   "outputs": [
    {
     "ename": "SyntaxError",
     "evalue": "EOL while scanning string literal (2666811007.py, line 1)",
     "output_type": "error",
     "traceback": [
      "\u001b[1;36m  Cell \u001b[1;32mIn[61], line 1\u001b[1;36m\u001b[0m\n\u001b[1;33m    s = r'\\\\\\'\u001b[0m\n\u001b[1;37m              ^\u001b[0m\n\u001b[1;31mSyntaxError\u001b[0m\u001b[1;31m:\u001b[0m EOL while scanning string literal\n"
     ]
    }
   ],
   "source": [
    "s = r'\\\\\\'"
   ]
  },
  {
   "cell_type": "markdown",
   "metadata": {},
   "source": [
    "### Use raw strings to handle file path on Windows\n"
   ]
  },
  {
   "cell_type": "markdown",
   "metadata": {},
   "source": [
    "c:\\user\\tasks\\new\n",
    "dir_path = 'c:\\user\\tasks\\new'\n"
   ]
  },
  {
   "cell_type": "code",
   "execution_count": 9,
   "metadata": {},
   "outputs": [
    {
     "name": "stdout",
     "output_type": "stream",
     "text": [
      "c:\\user\tasks\n",
      "ew\n"
     ]
    }
   ],
   "source": [
    "dir_path = 'c:\\\\user\\tasks\\new'\n",
    "print(dir_path)"
   ]
  },
  {
   "cell_type": "code",
   "execution_count": 10,
   "metadata": {},
   "outputs": [
    {
     "name": "stdout",
     "output_type": "stream",
     "text": [
      "c:\\user\\tasks\\new\n"
     ]
    }
   ],
   "source": [
    "dir_path = r'c:\\user\\tasks\\new'\n",
    "print(dir_path)"
   ]
  },
  {
   "cell_type": "markdown",
   "metadata": {},
   "source": [
    "### Convert a regular string into a raw string\n"
   ]
  },
  {
   "cell_type": "code",
   "execution_count": 87,
   "metadata": {},
   "outputs": [
    {
     "name": "stdout",
     "output_type": "stream",
     "text": [
      "'\\n'\n"
     ]
    }
   ],
   "source": [
    "s = '\\n'\n",
    "raw_string = repr(s)\n",
    "\n",
    "print(raw_string)"
   ]
  },
  {
   "cell_type": "code",
   "execution_count": 64,
   "metadata": {},
   "outputs": [
    {
     "name": "stdout",
     "output_type": "stream",
     "text": [
      "\\n\n"
     ]
    }
   ],
   "source": [
    "s = '\\n'\n",
    "raw_string = repr(s)[1:-1]\n",
    "print(raw_string)"
   ]
  },
  {
   "cell_type": "markdown",
   "metadata": {},
   "source": [
    "## Python Backslash\n"
   ]
  },
  {
   "cell_type": "code",
   "execution_count": 89,
   "metadata": {},
   "outputs": [
    {
     "name": "stdout",
     "output_type": "stream",
     "text": [
      "Hello,\n",
      " World\n"
     ]
    }
   ],
   "source": [
    "print('Hello,\\n World')"
   ]
  },
  {
   "cell_type": "code",
   "execution_count": 90,
   "metadata": {},
   "outputs": [
    {
     "name": "stdout",
     "output_type": "stream",
     "text": [
      "1\n"
     ]
    }
   ],
   "source": [
    "s = '\\n'\n",
    "print(len(s)) # 1"
   ]
  },
  {
   "cell_type": "code",
   "execution_count": 92,
   "metadata": {},
   "outputs": [
    {
     "name": "stdout",
     "output_type": "stream",
     "text": [
      "\"Python's awesome\" She said\n"
     ]
    }
   ],
   "source": [
    "s = '\"Python\\'s awesome\" She said'\n",
    "print(s)"
   ]
  },
  {
   "cell_type": "markdown",
   "metadata": {},
   "source": [
    "### Backslash in f-strings\n"
   ]
  },
  {
   "cell_type": "code",
   "execution_count": 93,
   "metadata": {},
   "outputs": [
    {
     "ename": "SyntaxError",
     "evalue": "unexpected character after line continuation character (2807858744.py, line 2)",
     "output_type": "error",
     "traceback": [
      "\u001b[1;36m  Cell \u001b[1;32mIn[93], line 2\u001b[1;36m\u001b[0m\n\u001b[1;33m    s = f'The RGB colors are:\\n {'\\n'.join(colors)}'\u001b[0m\n\u001b[1;37m                                   ^\u001b[0m\n\u001b[1;31mSyntaxError\u001b[0m\u001b[1;31m:\u001b[0m unexpected character after line continuation character\n"
     ]
    }
   ],
   "source": [
    "colors = ['red','green','blue']\n",
    "s = f'The RGB colors are:\\n {'\\n'.join(colors)}'\n",
    "print(s)\n"
   ]
  },
  {
   "cell_type": "code",
   "execution_count": 69,
   "metadata": {},
   "outputs": [
    {
     "name": "stdout",
     "output_type": "stream",
     "text": [
      "The RGB colors are:\n",
      "red\n",
      "green\n",
      "blue\n"
     ]
    }
   ],
   "source": [
    "colors = ['red','green','blue']\n",
    "rgb = '\\n'.join(colors)\n",
    "s = f\"The RGB colors are:\\n{rgb}\"\n",
    "print(s)"
   ]
  },
  {
   "cell_type": "markdown",
   "metadata": {},
   "source": [
    "### Backslash in raw strings\n"
   ]
  },
  {
   "cell_type": "code",
   "execution_count": 94,
   "metadata": {},
   "outputs": [
    {
     "name": "stdout",
     "output_type": "stream",
     "text": [
      "\\n\n"
     ]
    }
   ],
   "source": [
    "s = r'\\n'\n",
    "print(s)"
   ]
  }
 ],
 "metadata": {
  "kernelspec": {
   "display_name": "ECE5831-2023",
   "language": "python",
   "name": "python3"
  },
  "language_info": {
   "codemirror_mode": {
    "name": "ipython",
    "version": 3
   },
   "file_extension": ".py",
   "mimetype": "text/x-python",
   "name": "python",
   "nbconvert_exporter": "python",
   "pygments_lexer": "ipython3",
   "version": "3.10.14"
  },
  "orig_nbformat": 4
 },
 "nbformat": 4,
 "nbformat_minor": 2
}
