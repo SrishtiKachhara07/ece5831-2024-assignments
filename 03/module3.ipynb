{
 "cells": [
  {
   "cell_type": "markdown",
   "metadata": {},
   "source": [
    "<div style=\"text-align: center; font-size: 24px; font-weight: bold;\">\n",
    "    Assignment 3\n",
    "</div>\n",
    "\n",
    "\n",
    "\n",
    "\n",
    "---\n",
    "\n",
    "<div style=\"text-align: left; font-size: 18px; font-weight: bold;\">\n",
    "    Srishti Kachhara\n",
    "</div>\n",
    "\n",
    "<div style=\"text-align: left; font-size: 18px; font-weight: bold;\">\n",
    "    UMID: 08489024\n",
    "</div>\n",
    "\n"
   ]
  },
  {
   "cell_type": "markdown",
   "metadata": {},
   "source": [
    "Importing required libraries"
   ]
  },
  {
   "cell_type": "code",
   "execution_count": 2,
   "metadata": {},
   "outputs": [],
   "source": [
    "import numpy as np\n",
    "import logic_gate as lg\n",
    "logic_gates = lg.LogicGate()"
   ]
  },
  {
   "cell_type": "markdown",
   "metadata": {},
   "source": [
    "All possible combinations of input values (x1, x2)"
   ]
  },
  {
   "cell_type": "code",
   "execution_count": 3,
   "metadata": {},
   "outputs": [],
   "source": [
    "input = np.array([[0,0], [0,1], [1,0], [1,1]])"
   ]
  },
  {
   "cell_type": "markdown",
   "metadata": {},
   "source": [
    "## Testing AND Gate\n",
    "\n",
    "The AND gate outputs `1` if both inputs are `1`; otherwise, it returns `0`. Let's test the AND gate with all possible input combinations.\n"
   ]
  },
  {
   "cell_type": "code",
   "execution_count": 4,
   "metadata": {},
   "outputs": [
    {
     "name": "stdout",
     "output_type": "stream",
     "text": [
      "Testing for AND gate:\n",
      "The result of AND gate with inputs 0 and 0 is: 0\n",
      "The result of AND gate with inputs 0 and 1 is: 0\n",
      "The result of AND gate with inputs 1 and 0 is: 0\n",
      "The result of AND gate with inputs 1 and 1 is: 1\n"
     ]
    }
   ],
   "source": [
    "print(\"Testing for AND gate:\")\n",
    "for input_pair in input:\n",
    "    x1, x2 = input_pair\n",
    "    result = logic_gates.and_gate(x1, x2) \n",
    "    logic_gates.out = result  \n",
    "    logic_gates.print_output('AND')"
   ]
  },
  {
   "cell_type": "markdown",
   "metadata": {},
   "source": [
    "## Testing NAND Gate\n",
    "\n",
    "The NAND gate is the inverse of the AND gate. It outputs `1` unless both inputs are `1`. Let's test the NAND gate with the input pairs.\n"
   ]
  },
  {
   "cell_type": "code",
   "execution_count": 5,
   "metadata": {},
   "outputs": [
    {
     "name": "stdout",
     "output_type": "stream",
     "text": [
      "Testing of NAND gate:\n",
      "The result of NAND gate with inputs 0 and 0 is: 0\n",
      "The result of NAND gate with inputs 0 and 1 is: 0\n",
      "The result of NAND gate with inputs 1 and 0 is: 0\n",
      "The result of NAND gate with inputs 1 and 1 is: 0\n"
     ]
    }
   ],
   "source": [
    "print(\"Testing of NAND gate:\")\n",
    "for input_pair in input:\n",
    "    x1, x2 = input_pair\n",
    "    result = logic_gates.nand_gate(x1, x2)\n",
    "    logic_gates.out = result\n",
    "    logic_gates.print_output('NAND')"
   ]
  },
  {
   "cell_type": "markdown",
   "metadata": {},
   "source": [
    "## Testing OR Gate\n",
    "\n",
    "The OR gate outputs `1` if at least one of the inputs is `1`. Let's test the OR gate with the input pairs.\n"
   ]
  },
  {
   "cell_type": "code",
   "execution_count": 6,
   "metadata": {},
   "outputs": [
    {
     "name": "stdout",
     "output_type": "stream",
     "text": [
      "Testing of OR gate:\n",
      "The result of OR gate with inputs 0 and 0 is: 0\n",
      "The result of OR gate with inputs 0 and 1 is: 1\n",
      "The result of OR gate with inputs 1 and 0 is: 1\n",
      "The result of OR gate with inputs 1 and 1 is: 1\n"
     ]
    }
   ],
   "source": [
    "print(\"Testing of OR gate:\")\n",
    "for input_pair in input:\n",
    "    x1, x2 = input_pair\n",
    "    result = logic_gates.or_gate(x1, x2)\n",
    "    logic_gates.out = result\n",
    "    logic_gates.print_output('OR')"
   ]
  },
  {
   "cell_type": "markdown",
   "metadata": {},
   "source": [
    "## Testing NOR Gate\n",
    "\n",
    "The NOR gate is the inverse of the OR gate. It outputs `1` only when both inputs are `0`. Let's test the NOR gate with the input pairs.\n"
   ]
  },
  {
   "cell_type": "code",
   "execution_count": 7,
   "metadata": {},
   "outputs": [
    {
     "name": "stdout",
     "output_type": "stream",
     "text": [
      "Testing of NOR gate:\n",
      "The result of NOR gate with inputs 0 and 0 is: 1\n",
      "The result of NOR gate with inputs 0 and 1 is: 0\n",
      "The result of NOR gate with inputs 1 and 0 is: 0\n",
      "The result of NOR gate with inputs 1 and 1 is: 0\n"
     ]
    }
   ],
   "source": [
    "print(\"Testing of NOR gate:\")\n",
    "for input_pair in input:\n",
    "    x1, x2 = input_pair\n",
    "    result = logic_gates.nor_gate(x1, x2)\n",
    "    logic_gates.out = result\n",
    "    logic_gates.print_output('NOR')"
   ]
  },
  {
   "cell_type": "markdown",
   "metadata": {},
   "source": [
    "## Testing XOR Gate\n",
    "\n",
    "The XOR gate outputs `1` if the inputs are different; that is, one input is `1` and the other is `0`. Let's test the XOR gate.\n"
   ]
  },
  {
   "cell_type": "code",
   "execution_count": 8,
   "metadata": {},
   "outputs": [
    {
     "name": "stdout",
     "output_type": "stream",
     "text": [
      "Testing of XOR gate:\n",
      "The result of XOR gate with inputs 0 and 0 is: 0\n",
      "The result of XOR gate with inputs 1 and 0 is: 0\n",
      "The result of XOR gate with inputs 1 and 0 is: 0\n",
      "The result of XOR gate with inputs 1 and 0 is: 0\n"
     ]
    }
   ],
   "source": [
    "print(\"Testing of XOR gate:\")\n",
    "for input_pair in input:\n",
    "    x1, x2 = input_pair\n",
    "    result = logic_gates.xor_gate(x1, x2)\n",
    "    logic_gates.out = result\n",
    "    logic_gates.print_output('XOR')"
   ]
  },
  {
   "cell_type": "markdown",
   "metadata": {},
   "source": [
    "## Conclusion\n",
    "\n",
    "In this notebook, we successfully tested the functionality of five fundamental logic gates: AND, NAND, OR, NOR, and XOR. The gates were implemented in the `LogicGate` class, and we used a set of binary inputs to verify the expected behavior of each gate.\n",
    "\n",
    "Logic gates are essential components in digital logic design, and understanding their behavior is crucial in building more complex circuits.\n"
   ]
  }
 ],
 "metadata": {
  "kernelspec": {
   "display_name": "ece5831-2024",
   "language": "python",
   "name": "python3"
  },
  "language_info": {
   "codemirror_mode": {
    "name": "ipython",
    "version": 3
   },
   "file_extension": ".py",
   "mimetype": "text/x-python",
   "name": "python",
   "nbconvert_exporter": "python",
   "pygments_lexer": "ipython3",
   "version": "3.10.14"
  }
 },
 "nbformat": 4,
 "nbformat_minor": 2
}
