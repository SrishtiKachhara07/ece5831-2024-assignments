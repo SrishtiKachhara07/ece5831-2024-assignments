{
 "cells": [
  {
   "cell_type": "markdown",
   "id": "57efc65b",
   "metadata": {},
   "source": [
    "# Data Science Tutorials"
   ]
  },
  {
   "cell_type": "markdown",
   "id": "5001c9df-3c08-4aea-9e9e-24eb69d266b8",
   "metadata": {},
   "source": [
    "# Numpy Arrays\n"
   ]
  },
  {
   "cell_type": "markdown",
   "id": "26f8fde0-a85a-4a8c-b8ea-c635bc364dc7",
   "metadata": {},
   "source": [
    "## Getting started"
   ]
  },
  {
   "cell_type": "markdown",
   "id": "15803a9d-78ce-4b73-8511-59e9730b75ce",
   "metadata": {},
   "source": [
    "### Printing type of np_height"
   ]
  },
  {
   "cell_type": "code",
   "execution_count": 3,
   "id": "bf73b2f3-1694-4da9-a4b5-18b9534355b8",
   "metadata": {},
   "outputs": [
    {
     "name": "stdout",
     "output_type": "stream",
     "text": [
      "<class 'numpy.ndarray'>\n"
     ]
    }
   ],
   "source": [
    "\n",
    "height = [1.87,  1.87, 1.82, 1.91, 1.90, 1.85]\n",
    "weight = [81.65, 97.52, 95.25, 92.98, 86.18, 88.45]\n",
    "\n",
    "import numpy as np\n",
    "\n",
    "\n",
    "np_height = np.array(height)\n",
    "np_weight = np.array(weight)\n",
    "\n",
    "print(type(np_height))"
   ]
  },
  {
   "cell_type": "markdown",
   "id": "83762088-b086-4b4e-8ac4-bf3544dd7003",
   "metadata": {},
   "source": [
    "### Element wise calculations"
   ]
  },
  {
   "cell_type": "code",
   "execution_count": 4,
   "id": "2864d1d7-4b35-4ae3-89a1-536760776e30",
   "metadata": {},
   "outputs": [
    {
     "name": "stdout",
     "output_type": "stream",
     "text": [
      "[23.34925219 27.88755755 28.75558507 25.48723993 23.87257618 25.84368152]\n"
     ]
    }
   ],
   "source": [
    "bmi = np_weight / np_height ** 2\n",
    "print(bmi)"
   ]
  },
  {
   "cell_type": "markdown",
   "id": "0ef08bd6-8111-42b4-a157-92e2ab296ad5",
   "metadata": {},
   "source": [
    "### Subsetting"
   ]
  },
  {
   "cell_type": "code",
   "execution_count": 5,
   "id": "1dbe5bb1-2f95-4b5b-9217-9611fe4e71fa",
   "metadata": {},
   "outputs": [
    {
     "data": {
      "text/plain": [
       "array([23.34925219, 27.88755755, 28.75558507, 25.48723993, 23.87257618,\n",
       "       25.84368152])"
      ]
     },
     "execution_count": 5,
     "metadata": {},
     "output_type": "execute_result"
    }
   ],
   "source": [
    "bmi > 23\n",
    "bmi[bmi > 23]"
   ]
  },
  {
   "cell_type": "markdown",
   "id": "91214c23-e200-4743-bd71-0e07495f2243",
   "metadata": {},
   "source": [
    "### Excersice"
   ]
  },
  {
   "cell_type": "code",
   "execution_count": 1,
   "id": "0a8cd68d-ebec-4ad4-9fbd-771993491b52",
   "metadata": {},
   "outputs": [
    {
     "name": "stdout",
     "output_type": "stream",
     "text": [
      "[179.63  214.544 209.55  204.556 189.596 194.59 ]\n"
     ]
    }
   ],
   "source": [
    "weight_kg = [81.65, 97.52, 95.25, 92.98, 86.18, 88.45]\n",
    "\n",
    "import numpy as np\n",
    "np_weight_kg= np.array(weight_kg)\n",
    "np_weight_lbs = np_weight_kg * 2.2\n",
    "print(np_weight_lbs)"
   ]
  },
  {
   "cell_type": "markdown",
   "id": "9dd6057d-bcb7-473c-8ac5-82b11b6d1df7",
   "metadata": {},
   "source": [
    "# Pandas Basics"
   ]
  },
  {
   "cell_type": "markdown",
   "id": "3bd0ec73-2274-4081-a7d3-28de9fe8a73c",
   "metadata": {},
   "source": [
    "### Pandas Dataframes"
   ]
  },
  {
   "cell_type": "code",
   "execution_count": 6,
   "id": "233ea38d-63e9-4475-9a3d-ee2cf9eb24aa",
   "metadata": {},
   "outputs": [
    {
     "name": "stdout",
     "output_type": "stream",
     "text": [
      "        country    capital    area  population\n",
      "0        Brazil   Brasilia   8.516      200.40\n",
      "1        Russia     Moscow  17.100      143.50\n",
      "2         India  New Dehli   3.286     1252.00\n",
      "3         China    Beijing   9.597     1357.00\n",
      "4  South Africa   Pretoria   1.221       52.98\n"
     ]
    }
   ],
   "source": [
    "dict = {\"country\": [\"Brazil\", \"Russia\", \"India\", \"China\", \"South Africa\"],\n",
    "       \"capital\": [\"Brasilia\", \"Moscow\", \"New Dehli\", \"Beijing\", \"Pretoria\"],\n",
    "       \"area\": [8.516, 17.10, 3.286, 9.597, 1.221],\n",
    "       \"population\": [200.4, 143.5, 1252, 1357, 52.98] }\n",
    "\n",
    "import pandas as pd\n",
    "brics = pd.DataFrame(dict)\n",
    "print(brics)"
   ]
  },
  {
   "cell_type": "code",
   "execution_count": 6,
   "id": "7b6e016c-2afa-420b-b22c-c9d885ebead1",
   "metadata": {},
   "outputs": [
    {
     "name": "stdout",
     "output_type": "stream",
     "text": [
      "         country    capital    area  population\n",
      "BR        Brazil   Brasilia   8.516      200.40\n",
      "RU        Russia     Moscow  17.100      143.50\n",
      "IN         India  New Dehli   3.286     1252.00\n",
      "CH         China    Beijing   9.597     1357.00\n",
      "SA  South Africa   Pretoria   1.221       52.98\n"
     ]
    }
   ],
   "source": [
    "\n",
    "brics.index = [\"BR\",\"RU\",\"IN\",\"CH\",\"SA\"]\n",
    "print(brics)"
   ]
  },
  {
   "cell_type": "code",
   "execution_count": 25,
   "id": "427c1af1-fabd-4295-991d-cebe15e778b3",
   "metadata": {},
   "outputs": [
    {
     "name": "stdout",
     "output_type": "stream",
     "text": [
      "    Unnamed: 0  cars_per_cap        country  drives_right\n",
      "NaN         US           809  United States          True\n",
      "NaN        AUS           731      Australia         False\n",
      "NaN        JAP           588          Japan         False\n",
      "NaN         IN            18          India         False\n",
      "NaN         RU           200         Russia          True\n",
      "NaN        MOR            70        Morocco          True\n",
      "NaN         EG            45          Egypt          True\n"
     ]
    }
   ],
   "source": [
    "\n",
    "import pandas as pd\n",
    "cars = pd.read_csv('cars.csv')\n",
    "print(cars)"
   ]
  },
  {
   "cell_type": "markdown",
   "id": "99b8fac4",
   "metadata": {},
   "source": [
    "On the website the indexing of csv file is  0 1 2... but here it is showing Nan \n",
    " \n"
   ]
  },
  {
   "cell_type": "markdown",
   "id": "580648e4-ca94-46dd-a421-4f6c04cacbe5",
   "metadata": {},
   "source": [
    "### Indexing DataFrames"
   ]
  },
  {
   "cell_type": "code",
   "execution_count": 26,
   "id": "e41995e0-8cb5-462b-84ba-b6e1144f3181",
   "metadata": {},
   "outputs": [
    {
     "name": "stdout",
     "output_type": "stream",
     "text": [
      "NaN    809\n",
      "NaN    731\n",
      "NaN    588\n",
      "NaN     18\n",
      "NaN    200\n",
      "NaN     70\n",
      "NaN     45\n",
      "Name: cars_per_cap, dtype: int64\n",
      "     cars_per_cap\n",
      "NaN           809\n",
      "NaN           731\n",
      "NaN           588\n",
      "NaN            18\n",
      "NaN           200\n",
      "NaN            70\n",
      "NaN            45\n",
      "     cars_per_cap        country\n",
      "NaN           809  United States\n",
      "NaN           731      Australia\n",
      "NaN           588          Japan\n",
      "NaN            18          India\n",
      "NaN           200         Russia\n",
      "NaN            70        Morocco\n",
      "NaN            45          Egypt\n"
     ]
    }
   ],
   "source": [
    "cars = pd.read_csv('cars.csv')\n",
    "print(cars['cars_per_cap'])\n",
    "print(cars[['cars_per_cap']])\n",
    "print(cars[['cars_per_cap','country']])"
   ]
  },
  {
   "cell_type": "markdown",
   "id": "8e5d69e6-d8c2-4307-900f-6be90a22844c",
   "metadata": {},
   "source": [
    "### using square brackets for observation from data frame"
   ]
  },
  {
   "cell_type": "code",
   "execution_count": 27,
   "id": "324dc06b-53fd-4de9-a8d1-89f903076943",
   "metadata": {},
   "outputs": [
    {
     "name": "stdout",
     "output_type": "stream",
     "text": [
      "    Unnamed: 0  cars_per_cap        country  drives_right\n",
      "NaN         US           809  United States          True\n",
      "NaN        AUS           731      Australia         False\n",
      "NaN        JAP           588          Japan         False\n",
      "NaN         IN            18          India         False\n",
      "    Unnamed: 0  cars_per_cap  country  drives_right\n",
      "NaN         RU           200   Russia          True\n",
      "NaN        MOR            70  Morocco          True\n"
     ]
    }
   ],
   "source": [
    "import pandas as pd\n",
    "cars = pd.read_csv('cars.csv', index_col = 0)\n",
    "print(cars.iloc[0:4])\n",
    "print(cars.iloc[4:6])"
   ]
  },
  {
   "cell_type": "code",
   "execution_count": 28,
   "id": "47ebc6d7",
   "metadata": {},
   "outputs": [
    {
     "name": "stdout",
     "output_type": "stream",
     "text": [
      "Unnamed: 0        NaN\n",
      "cars_per_cap      588\n",
      "country         Japan\n",
      "drives_right    False\n",
      "Name: JAP, dtype: object\n",
      "     Unnamed: 0  cars_per_cap    country  drives_right\n",
      "AUS         NaN           731  Australia         False\n",
      "EG          NaN            45      Egypt          True\n"
     ]
    }
   ],
   "source": [
    "# Import cars data\n",
    "import pandas as pd\n",
    "cars = pd.read_csv('cars.csv', index_col=1)\n",
    "\n",
    "# Print out observation for Japan\n",
    "print(cars.iloc[2])\n",
    "\n",
    "# Print out observations for Australia and Egypt\n",
    "print(cars.loc[['AUS', 'EG']])"
   ]
  }
 ],
 "metadata": {
  "kernelspec": {
   "display_name": "Python 3 (ipykernel)",
   "language": "python",
   "name": "python3"
  },
  "language_info": {
   "codemirror_mode": {
    "name": "ipython",
    "version": 3
   },
   "file_extension": ".py",
   "mimetype": "text/x-python",
   "name": "python",
   "nbconvert_exporter": "python",
   "pygments_lexer": "ipython3",
   "version": "3.10.14"
  }
 },
 "nbformat": 4,
 "nbformat_minor": 5
}
