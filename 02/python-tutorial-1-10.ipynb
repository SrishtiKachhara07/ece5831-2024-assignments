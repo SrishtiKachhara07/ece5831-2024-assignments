{
  "cells": [
    {
      "cell_type": "markdown",
      "metadata": {
        "id": "J0PoopYFWSAR"
      },
      "source": [
        "# SECTION 1 : FUNDAMENTALS"
      ]
    },
    {
      "cell_type": "markdown",
      "metadata": {
        "id": "5hEv00O1VIva"
      },
      "source": [
        "## PYTHON SYNTEX"
      ]
    },
    {
      "cell_type": "markdown",
      "metadata": {
        "id": "L4YZ9YkLVYXr"
      },
      "source": [
        "#### Whitespace Indendation"
      ]
    },
    {
      "cell_type": "code",
      "execution_count": 3,
      "metadata": {
        "id": "ljIVGueNVrdR"
      },
      "outputs": [
        {
          "name": "stdout",
          "output_type": "stream",
          "text": [
            "1\n",
            "2\n",
            "3\n",
            "4\n",
            "5\n",
            "6\n",
            "7\n",
            "8\n",
            "9\n"
          ]
        }
      ],
      "source": [
        "def main():\n",
        "    i = 1\n",
        "    max = 10\n",
        "    while (i < max):\n",
        "        print(i)\n",
        "        i =i + 1\n",
        "main()"
      ]
    },
    {
      "cell_type": "markdown",
      "metadata": {},
      "source": [
        "#### Continuation of statements\n",
        "On website a,b,c is not defined so here its showing error"
      ]
    },
    {
      "cell_type": "code",
      "execution_count": 1,
      "metadata": {},
      "outputs": [
        {
          "ename": "NameError",
          "evalue": "name 'a' is not defined",
          "output_type": "error",
          "traceback": [
            "\u001b[1;31m---------------------------------------------------------------------------\u001b[0m",
            "\u001b[1;31mNameError\u001b[0m                                 Traceback (most recent call last)",
            "\u001b[1;32mc:\\Users\\Risha\\OneDrive\\Desktop\\Pattern recoginition\\Assignment 2\\python-tutorial-1-10.ipynb Cell 5\u001b[0m line \u001b[0;36m1\n\u001b[1;32m----> <a href='vscode-notebook-cell:/c%3A/Users/Risha/OneDrive/Desktop/Pattern%20recoginition/Assignment%202/python-tutorial-1-10.ipynb#Y661sZmlsZQ%3D%3D?line=0'>1</a>\u001b[0m \u001b[39mif\u001b[39;00m (a \u001b[39m==\u001b[39m \u001b[39mTrue\u001b[39;00m) \u001b[39mand\u001b[39;00m (b \u001b[39m==\u001b[39m \u001b[39mFalse\u001b[39;00m) \u001b[39mand\u001b[39;00m \\\n\u001b[0;32m      <a href='vscode-notebook-cell:/c%3A/Users/Risha/OneDrive/Desktop/Pattern%20recoginition/Assignment%202/python-tutorial-1-10.ipynb#Y661sZmlsZQ%3D%3D?line=1'>2</a>\u001b[0m    (c \u001b[39m==\u001b[39m \u001b[39mTrue\u001b[39;00m):\n\u001b[0;32m      <a href='vscode-notebook-cell:/c%3A/Users/Risha/OneDrive/Desktop/Pattern%20recoginition/Assignment%202/python-tutorial-1-10.ipynb#Y661sZmlsZQ%3D%3D?line=2'>3</a>\u001b[0m     \u001b[39mprint\u001b[39m(\u001b[39m\"\u001b[39m\u001b[39mContinuation of statements\u001b[39m\u001b[39m\"\u001b[39m)\n",
            "\u001b[1;31mNameError\u001b[0m: name 'a' is not defined"
          ]
        }
      ],
      "source": [
        "if (a == True) and (b == False) and \\\n",
        "   (c == True):\n",
        "    print(\"Continuation of statements\")"
      ]
    },
    {
      "cell_type": "markdown",
      "metadata": {
        "id": "GP2beRq2W8VB"
      },
      "source": [
        "#### Keywords"
      ]
    },
    {
      "cell_type": "code",
      "execution_count": 2,
      "metadata": {
        "id": "sNjjSPnRXARb"
      },
      "outputs": [],
      "source": [
        "# False      class       finally    is          return\n",
        "# None       continue    for        lambda      try\n",
        "# True       def         from       nonlocal   while\n",
        "# and        del         global     not         with\n",
        "# as         elif        if         or          yield\n",
        "# assert     else        import     pass\n",
        "# break      except      in         raise"
      ]
    },
    {
      "cell_type": "code",
      "execution_count": 6,
      "metadata": {},
      "outputs": [
        {
          "name": "stdout",
          "output_type": "stream",
          "text": [
            "['False', 'None', 'True', 'and', 'as', 'assert', 'async', 'await', 'break', 'class', 'continue', 'def', 'del', 'elif', 'else', 'except', 'finally', 'for', 'from', 'global', 'if', 'import', 'in', 'is', 'lambda', 'nonlocal', 'not', 'or', 'pass', 'raise', 'return', 'try', 'while', 'with', 'yield']\n"
          ]
        }
      ],
      "source": [
        "import keyword\n",
        "print(keyword.kwlist) "
      ]
    },
    {
      "cell_type": "markdown",
      "metadata": {
        "id": "2ZD3f6blXKkP"
      },
      "source": [
        "#### String literals"
      ]
    },
    {
      "cell_type": "code",
      "execution_count": 5,
      "metadata": {
        "id": "vpoHIe0sXMTS"
      },
      "outputs": [
        {
          "name": "stdout",
          "output_type": "stream",
          "text": [
            "This is a string\n",
            "Another string using double quotes\n",
            "string can span\n",
            "        multiple line\n"
          ]
        }
      ],
      "source": [
        "s ='This is a string'\n",
        "print(s)\n",
        "s =\"Another string using double quotes\"\n",
        "print(s)\n",
        "s ='''string can span\n",
        "        multiple line'''\n",
        "print(s)"
      ]
    },
    {
      "cell_type": "markdown",
      "metadata": {
        "id": "0qrT39_MXfb7"
      },
      "source": [
        "## VARIABLES"
      ]
    },
    {
      "cell_type": "markdown",
      "metadata": {
        "id": "TQuDANyQXsav"
      },
      "source": [
        "#### Creating Variable"
      ]
    },
    {
      "cell_type": "code",
      "execution_count": 2,
      "metadata": {
        "id": "WfLTitx_XyGk"
      },
      "outputs": [
        {
          "name": "stdout",
          "output_type": "stream",
          "text": [
            "Hello, World!\n",
            "Good Bye!\n"
          ]
        }
      ],
      "source": [
        "message = 'Hello, World!'\n",
        "print(message)\n",
        "message = 'Good Bye!'\n",
        "print(message)\n"
      ]
    },
    {
      "cell_type": "markdown",
      "metadata": {
        "id": "eHAUoHeTX-jI"
      },
      "source": [
        "## STRINGS\n"
      ]
    },
    {
      "cell_type": "code",
      "execution_count": 3,
      "metadata": {},
      "outputs": [],
      "source": [
        "message = 'This is a string in Python'\n",
        "message = \"This is also a string\"\n",
        "message = \"It's a string\"\n",
        "message = '\"Beautiful is better than ugly.\". Said Tim Peters'\n",
        "message = 'It\\'s also a valid string'\n",
        "message = r'C:\\python\\bin'"
      ]
    },
    {
      "cell_type": "markdown",
      "metadata": {
        "id": "3JcvRlKaYCWy"
      },
      "source": [
        "#### Creating multiline strings\n"
      ]
    },
    {
      "cell_type": "code",
      "execution_count": 5,
      "metadata": {
        "id": "S52zpBJBYGY5"
      },
      "outputs": [
        {
          "name": "stdout",
          "output_type": "stream",
          "text": [
            "\n",
            "Usage: mysql command\n",
            "    -h hostname\n",
            "    -d name\n",
            "    -u username\n",
            "    -p password\n",
            "\n"
          ]
        }
      ],
      "source": [
        "help_message= '''\n",
        "Usage: mysql command\n",
        "    -h hostname\n",
        "    -d name\n",
        "    -u username\n",
        "    -p password\n",
        "'''\n",
        "print(help_message)"
      ]
    },
    {
      "cell_type": "markdown",
      "metadata": {},
      "source": [
        "#### Using variables in Python strings with the f-strings\n"
      ]
    },
    {
      "cell_type": "code",
      "execution_count": 6,
      "metadata": {},
      "outputs": [
        {
          "name": "stdout",
          "output_type": "stream",
          "text": [
            "Hi John\n"
          ]
        }
      ],
      "source": [
        "name = 'John'\n",
        "message = f'Hi {name}'\n",
        "print(message)"
      ]
    },
    {
      "cell_type": "markdown",
      "metadata": {},
      "source": [
        "#### Concatenating Python strings\n"
      ]
    },
    {
      "cell_type": "code",
      "execution_count": 7,
      "metadata": {},
      "outputs": [
        {
          "name": "stdout",
          "output_type": "stream",
          "text": [
            "Good Morning!\n"
          ]
        }
      ],
      "source": [
        "greeting = 'Good ' 'Morning!'\n",
        "print(greeting)"
      ]
    },
    {
      "cell_type": "code",
      "execution_count": 9,
      "metadata": {},
      "outputs": [
        {
          "name": "stdout",
          "output_type": "stream",
          "text": [
            "Good Afternoon!\n"
          ]
        }
      ],
      "source": [
        "greeting = 'Good '\n",
        "time = 'Afternoon'\n",
        "greeting = greeting + time + '!'\n",
        "print(greeting)"
      ]
    },
    {
      "cell_type": "markdown",
      "metadata": {},
      "source": [
        "#### Accessing string elements\n"
      ]
    },
    {
      "cell_type": "code",
      "execution_count": 10,
      "metadata": {},
      "outputs": [
        {
          "name": "stdout",
          "output_type": "stream",
          "text": [
            "P\n",
            "y\n"
          ]
        }
      ],
      "source": [
        "str = \"Python String\"\n",
        "print(str[0]) \n",
        "print(str[1]) "
      ]
    },
    {
      "cell_type": "code",
      "execution_count": 11,
      "metadata": {},
      "outputs": [
        {
          "name": "stdout",
          "output_type": "stream",
          "text": [
            "g\n",
            "n\n"
          ]
        }
      ],
      "source": [
        "str = \"Python String\"\n",
        "print(str[-1]) \n",
        "print(str[-2])  "
      ]
    },
    {
      "cell_type": "markdown",
      "metadata": {
        "id": "OVTwAqAxYXlx"
      },
      "source": [
        "#### Getting the length of a string"
      ]
    },
    {
      "cell_type": "code",
      "execution_count": 12,
      "metadata": {
        "id": "ukdqUaIjYZoE"
      },
      "outputs": [
        {
          "name": "stdout",
          "output_type": "stream",
          "text": [
            "6\n"
          ]
        }
      ],
      "source": [
        "str = \"Python\"\n",
        "str_len = len(str)\n",
        "print(str_len)"
      ]
    },
    {
      "cell_type": "markdown",
      "metadata": {
        "id": "VMupfA-ZYiot"
      },
      "source": [
        "#### Slicing strings"
      ]
    },
    {
      "cell_type": "code",
      "execution_count": 16,
      "metadata": {
        "id": "wevBj6XWYj-q"
      },
      "outputs": [
        {
          "name": "stdout",
          "output_type": "stream",
          "text": [
            "Py\n"
          ]
        }
      ],
      "source": [
        "str = \"Python\"\n",
        "print(str[0:2])"
      ]
    },
    {
      "cell_type": "markdown",
      "metadata": {},
      "source": [
        "#### Python strings are immutable\n"
      ]
    },
    {
      "cell_type": "code",
      "execution_count": 13,
      "metadata": {},
      "outputs": [
        {
          "ename": "TypeError",
          "evalue": "'str' object does not support item assignment",
          "output_type": "error",
          "traceback": [
            "\u001b[1;31m---------------------------------------------------------------------------\u001b[0m",
            "\u001b[1;31mTypeError\u001b[0m                                 Traceback (most recent call last)",
            "Cell \u001b[1;32mIn[13], line 2\u001b[0m\n\u001b[0;32m      1\u001b[0m \u001b[38;5;28mstr\u001b[39m \u001b[38;5;241m=\u001b[39m \u001b[38;5;124m\"\u001b[39m\u001b[38;5;124mPython String\u001b[39m\u001b[38;5;124m\"\u001b[39m\n\u001b[1;32m----> 2\u001b[0m \u001b[38;5;28;43mstr\u001b[39;49m\u001b[43m[\u001b[49m\u001b[38;5;241;43m0\u001b[39;49m\u001b[43m]\u001b[49m \u001b[38;5;241m=\u001b[39m \u001b[38;5;124m'\u001b[39m\u001b[38;5;124mJ\u001b[39m\u001b[38;5;124m'\u001b[39m\n",
            "\u001b[1;31mTypeError\u001b[0m: 'str' object does not support item assignment"
          ]
        }
      ],
      "source": [
        "str = \"Python String\"\n",
        "str[0] = 'J'"
      ]
    },
    {
      "cell_type": "code",
      "execution_count": 14,
      "metadata": {},
      "outputs": [
        {
          "name": "stdout",
          "output_type": "stream",
          "text": [
            "Jython String\n"
          ]
        }
      ],
      "source": [
        "str = \"Python String\"\n",
        "new_str = 'J' + str[1:]\n",
        "print(new_str)"
      ]
    },
    {
      "cell_type": "markdown",
      "metadata": {
        "id": "TeT5KykLYyuz"
      },
      "source": [
        "## PYTHON NUMBERS"
      ]
    },
    {
      "cell_type": "markdown",
      "metadata": {
        "id": "fD4QE4t6Y0Bd"
      },
      "source": [
        "#### Integers"
      ]
    },
    {
      "cell_type": "code",
      "execution_count": 17,
      "metadata": {
        "id": "QM4dXmLRY2Bg"
      },
      "outputs": [
        {
          "data": {
            "text/plain": [
              "30"
            ]
          },
          "execution_count": 17,
          "metadata": {},
          "output_type": "execute_result"
        }
      ],
      "source": [
        "20 + 10"
      ]
    },
    {
      "cell_type": "code",
      "execution_count": 18,
      "metadata": {},
      "outputs": [
        {
          "data": {
            "text/plain": [
              "10"
            ]
          },
          "execution_count": 18,
          "metadata": {},
          "output_type": "execute_result"
        }
      ],
      "source": [
        "20 - 10"
      ]
    },
    {
      "cell_type": "code",
      "execution_count": 19,
      "metadata": {},
      "outputs": [
        {
          "data": {
            "text/plain": [
              "200"
            ]
          },
          "execution_count": 19,
          "metadata": {},
          "output_type": "execute_result"
        }
      ],
      "source": [
        "20 * 10"
      ]
    },
    {
      "cell_type": "code",
      "execution_count": 20,
      "metadata": {},
      "outputs": [
        {
          "data": {
            "text/plain": [
              "2.0"
            ]
          },
          "execution_count": 20,
          "metadata": {},
          "output_type": "execute_result"
        }
      ],
      "source": [
        "20 / 10"
      ]
    },
    {
      "cell_type": "code",
      "execution_count": 21,
      "metadata": {},
      "outputs": [
        {
          "data": {
            "text/plain": [
              "27"
            ]
          },
          "execution_count": 21,
          "metadata": {},
          "output_type": "execute_result"
        }
      ],
      "source": [
        "3**3"
      ]
    },
    {
      "cell_type": "code",
      "execution_count": 23,
      "metadata": {},
      "outputs": [
        {
          "data": {
            "text/plain": [
              "1.0"
            ]
          },
          "execution_count": 23,
          "metadata": {},
          "output_type": "execute_result"
        }
      ],
      "source": [
        "20 / (10 + 10)"
      ]
    },
    {
      "cell_type": "markdown",
      "metadata": {
        "id": "4ChyNnxvZJ_-"
      },
      "source": [
        "#### Floats\n"
      ]
    },
    {
      "cell_type": "code",
      "execution_count": 24,
      "metadata": {
        "id": "8rQX3uDbZLhf"
      },
      "outputs": [
        {
          "data": {
            "text/plain": [
              "1.0"
            ]
          },
          "execution_count": 24,
          "metadata": {},
          "output_type": "execute_result"
        }
      ],
      "source": [
        "0.5 + 0.5"
      ]
    },
    {
      "cell_type": "code",
      "execution_count": 25,
      "metadata": {},
      "outputs": [
        {
          "data": {
            "text/plain": [
              "0.0"
            ]
          },
          "execution_count": 25,
          "metadata": {},
          "output_type": "execute_result"
        }
      ],
      "source": [
        "0.5 - 0.5"
      ]
    },
    {
      "cell_type": "code",
      "execution_count": 26,
      "metadata": {},
      "outputs": [
        {
          "data": {
            "text/plain": [
              "1.0"
            ]
          },
          "execution_count": 26,
          "metadata": {},
          "output_type": "execute_result"
        }
      ],
      "source": [
        "0.5 / 0.5"
      ]
    },
    {
      "cell_type": "code",
      "execution_count": 27,
      "metadata": {},
      "outputs": [
        {
          "data": {
            "text/plain": [
              "0.25"
            ]
          },
          "execution_count": 27,
          "metadata": {},
          "output_type": "execute_result"
        }
      ],
      "source": [
        "0.5 * 0.5"
      ]
    },
    {
      "cell_type": "code",
      "execution_count": 28,
      "metadata": {},
      "outputs": [
        {
          "data": {
            "text/plain": [
              "2.0"
            ]
          },
          "execution_count": 28,
          "metadata": {},
          "output_type": "execute_result"
        }
      ],
      "source": [
        "# division of two integers always returns a float\n",
        "20 / 10"
      ]
    },
    {
      "cell_type": "code",
      "execution_count": 29,
      "metadata": {},
      "outputs": [
        {
          "data": {
            "text/plain": [
              "3.0"
            ]
          },
          "execution_count": 29,
          "metadata": {},
          "output_type": "execute_result"
        }
      ],
      "source": [
        "1 + 2.0"
      ]
    },
    {
      "cell_type": "code",
      "execution_count": 30,
      "metadata": {},
      "outputs": [
        {
          "data": {
            "text/plain": [
              "0.30000000000000004"
            ]
          },
          "execution_count": 30,
          "metadata": {},
          "output_type": "execute_result"
        }
      ],
      "source": [
        "0.1 + 0.2"
      ]
    },
    {
      "cell_type": "markdown",
      "metadata": {},
      "source": [
        "#### Underscores in numbers\n"
      ]
    },
    {
      "cell_type": "code",
      "execution_count": 14,
      "metadata": {},
      "outputs": [],
      "source": [
        "count = 10000000000"
      ]
    },
    {
      "cell_type": "code",
      "execution_count": 31,
      "metadata": {},
      "outputs": [
        {
          "name": "stdout",
          "output_type": "stream",
          "text": [
            "10000000000\n"
          ]
        }
      ],
      "source": [
        "count = 10_000_000_000\n",
        "count = 10_000_000_000\n",
        "print(count)"
      ]
    },
    {
      "cell_type": "markdown",
      "metadata": {
        "id": "HDCg1PnNZV6U"
      },
      "source": [
        "## PYTHON BOOLEAN"
      ]
    },
    {
      "cell_type": "code",
      "execution_count": 32,
      "metadata": {},
      "outputs": [],
      "source": [
        "is_active = True\n",
        "is_admin = False"
      ]
    },
    {
      "cell_type": "code",
      "execution_count": 33,
      "metadata": {},
      "outputs": [
        {
          "data": {
            "text/plain": [
              "(True, False, True, False)"
            ]
          },
          "execution_count": 33,
          "metadata": {},
          "output_type": "execute_result"
        }
      ],
      "source": [
        "20 > 10,20 < 10,'a' < 'b','a' > 'b'"
      ]
    },
    {
      "cell_type": "markdown",
      "metadata": {
        "id": "Z-IlWgkbZXAn"
      },
      "source": [
        "#### The bool() function"
      ]
    },
    {
      "cell_type": "code",
      "execution_count": 35,
      "metadata": {
        "id": "9Ulg9He6ZbuG"
      },
      "outputs": [
        {
          "data": {
            "text/plain": [
              "(True, False, True, False)"
            ]
          },
          "execution_count": 35,
          "metadata": {},
          "output_type": "execute_result"
        }
      ],
      "source": [
        "bool('Hi'),bool(''),bool(100),bool(0)\n"
      ]
    },
    {
      "cell_type": "markdown",
      "metadata": {},
      "source": [
        "## PYTHON CONSTANTS\n"
      ]
    },
    {
      "cell_type": "code",
      "execution_count": 36,
      "metadata": {},
      "outputs": [],
      "source": [
        "FILE_SIZE_LIMIT = 2000"
      ]
    },
    {
      "cell_type": "markdown",
      "metadata": {
        "id": "8HBMAmO_ZqT_"
      },
      "source": [
        "## PYTHON COMMENTS"
      ]
    },
    {
      "cell_type": "markdown",
      "metadata": {
        "id": "FbHkHFUxZrcY"
      },
      "source": [
        "#### Python block comments\n",
        "Added price and salary value to avoid error\n"
      ]
    },
    {
      "cell_type": "code",
      "execution_count": 37,
      "metadata": {},
      "outputs": [],
      "source": [
        "price= 100\n",
        "price = price * 1.05\n"
      ]
    },
    {
      "cell_type": "markdown",
      "metadata": {},
      "source": [
        "### Python inline comments"
      ]
    },
    {
      "cell_type": "code",
      "execution_count": 47,
      "metadata": {},
      "outputs": [],
      "source": [
        "salary=1000\n",
        "salary = salary * 1.02 "
      ]
    },
    {
      "cell_type": "markdown",
      "metadata": {},
      "source": [
        "#### Python docstrings\n",
        "#### 1) One-line docstrings\n",
        "commenting the code for one line and multi line docstring because its howing error\n"
      ]
    },
    {
      "cell_type": "code",
      "execution_count": 44,
      "metadata": {},
      "outputs": [],
      "source": [
        "# def quicksort():\n",
        "# \"\"\" sort the list using quicksort algorithm \"\"\"\n"
      ]
    },
    {
      "cell_type": "markdown",
      "metadata": {
        "id": "uwOjSwluZ730"
      },
      "source": [
        "#### 2)Multi-line docstrings"
      ]
    },
    {
      "cell_type": "code",
      "execution_count": 43,
      "metadata": {
        "id": "RqEQrLeLZ8-F"
      },
      "outputs": [],
      "source": [
        "# def increase(salary, percentage, rating):\n",
        "#     \"\"\" Example\n",
        "#     of\n",
        "#     mulitline\n",
        "#     docstrings\n",
        "#     \"\"\""
      ]
    },
    {
      "cell_type": "markdown",
      "metadata": {
        "id": "Q9rKntxVaPfQ"
      },
      "source": [
        "## PYTHON TYPE CONVERSION"
      ]
    },
    {
      "cell_type": "markdown",
      "metadata": {},
      "source": [
        "#### Introduction to type conversion in Python\n"
      ]
    },
    {
      "cell_type": "code",
      "execution_count": 49,
      "metadata": {},
      "outputs": [
        {
          "name": "stdout",
          "output_type": "stream",
          "text": [
            "100\n"
          ]
        }
      ],
      "source": [
        "value = input('Enter a value:')\n",
        "print(value)"
      ]
    },
    {
      "cell_type": "code",
      "execution_count": 51,
      "metadata": {},
      "outputs": [
        {
          "ename": "TypeError",
          "evalue": "can't multiply sequence by non-int of type 'str'",
          "output_type": "error",
          "traceback": [
            "\u001b[1;31m---------------------------------------------------------------------------\u001b[0m",
            "\u001b[1;31mTypeError\u001b[0m                                 Traceback (most recent call last)",
            "Cell \u001b[1;32mIn[51], line 4\u001b[0m\n\u001b[0;32m      2\u001b[0m price \u001b[38;5;241m=\u001b[39m \u001b[38;5;28minput\u001b[39m(\u001b[38;5;124m'\u001b[39m\u001b[38;5;124mEnter the price ($):\u001b[39m\u001b[38;5;124m'\u001b[39m)\n\u001b[0;32m      3\u001b[0m tax \u001b[38;5;241m=\u001b[39m \u001b[38;5;28minput\u001b[39m(\u001b[38;5;124m'\u001b[39m\u001b[38;5;124mEnter the tax rate (\u001b[39m\u001b[38;5;124m%\u001b[39m\u001b[38;5;124m):\u001b[39m\u001b[38;5;124m'\u001b[39m)\n\u001b[1;32m----> 4\u001b[0m tax_amount \u001b[38;5;241m=\u001b[39m \u001b[43mprice\u001b[49m\u001b[43m \u001b[49m\u001b[38;5;241;43m*\u001b[39;49m\u001b[43m \u001b[49m\u001b[43mtax\u001b[49m \u001b[38;5;241m/\u001b[39m \u001b[38;5;241m100\u001b[39m\n\u001b[0;32m      5\u001b[0m \u001b[38;5;28mprint\u001b[39m(\u001b[38;5;124mf\u001b[39m\u001b[38;5;124m'\u001b[39m\u001b[38;5;124mThe tax amount price is $\u001b[39m\u001b[38;5;132;01m{\u001b[39;00mtax_amount\u001b[38;5;132;01m}\u001b[39;00m\u001b[38;5;124m'\u001b[39m)\n",
            "\u001b[1;31mTypeError\u001b[0m: can't multiply sequence by non-int of type 'str'"
          ]
        }
      ],
      "source": [
        "#it will show error as per website steps it will be resolved in next step\n",
        "price = input('Enter the price ($):')\n",
        "tax = input('Enter the tax rate (%):')\n",
        "tax_amount = price * tax / 100\n",
        "print(f'The tax amount price is ${tax_amount}')"
      ]
    },
    {
      "cell_type": "code",
      "execution_count": 52,
      "metadata": {},
      "outputs": [
        {
          "name": "stdout",
          "output_type": "stream",
          "text": [
            "The tax amount is $10.0\n"
          ]
        }
      ],
      "source": [
        "price = input('Enter the price ($):')\n",
        "tax = input('Enter the tax rate (%):')\n",
        "\n",
        "tax_amount = int(price) * int(tax) / 100\n",
        "print(f'The tax amount is ${tax_amount}')"
      ]
    },
    {
      "cell_type": "markdown",
      "metadata": {
        "id": "-IcCaMg6aUnU"
      },
      "source": [
        "### Getting the type of a value"
      ]
    },
    {
      "cell_type": "code",
      "execution_count": 25,
      "metadata": {
        "id": "561WKarAaWNb"
      },
      "outputs": [
        {
          "data": {
            "text/plain": [
              "(int, float, str, bool)"
            ]
          },
          "execution_count": 25,
          "metadata": {},
          "output_type": "execute_result"
        }
      ],
      "source": [
        "type(100),type(2.0),type('Hello'),type(True)\n"
      ]
    },
    {
      "cell_type": "markdown",
      "metadata": {
        "id": "iJHCJUiLa1RQ"
      },
      "source": [
        "# SECTION 2 : OPERATORS"
      ]
    },
    {
      "cell_type": "markdown",
      "metadata": {
        "id": "osCF56YObBVz"
      },
      "source": [
        "## PYTHON COMPARISION OPERATORS"
      ]
    },
    {
      "cell_type": "markdown",
      "metadata": {},
      "source": [
        "#### Less than operator (<)"
      ]
    },
    {
      "cell_type": "code",
      "execution_count": 54,
      "metadata": {},
      "outputs": [
        {
          "data": {
            "text/plain": [
              "(True, False, True, False)"
            ]
          },
          "execution_count": 54,
          "metadata": {},
          "output_type": "execute_result"
        }
      ],
      "source": [
        "10 < 20, 30 < 20,'apple' < 'orange','banana' < 'apple'"
      ]
    },
    {
      "cell_type": "code",
      "execution_count": 53,
      "metadata": {},
      "outputs": [
        {
          "data": {
            "text/plain": [
              "(True, False)"
            ]
          },
          "execution_count": 53,
          "metadata": {},
          "output_type": "execute_result"
        }
      ],
      "source": [
        "x = 10\n",
        "y = 20\n",
        "x < y,y < x"
      ]
    },
    {
      "cell_type": "markdown",
      "metadata": {
        "id": "_S4cTAnWbmUl"
      },
      "source": [
        "#### Less than or equal to operator (<=)"
      ]
    },
    {
      "cell_type": "code",
      "execution_count": 55,
      "metadata": {
        "id": "AtlJz5w6bqYY"
      },
      "outputs": [
        {
          "data": {
            "text/plain": [
              "(True, True, True)"
            ]
          },
          "execution_count": 55,
          "metadata": {},
          "output_type": "execute_result"
        }
      ],
      "source": [
        "20 <= 20,10 <= 20,30 <= 30"
      ]
    },
    {
      "cell_type": "code",
      "execution_count": 56,
      "metadata": {},
      "outputs": [
        {
          "data": {
            "text/plain": [
              "(True, False)"
            ]
          },
          "execution_count": 56,
          "metadata": {},
          "output_type": "execute_result"
        }
      ],
      "source": [
        "x = 10\n",
        "y = 20\n",
        "x <= y,y <= x"
      ]
    },
    {
      "cell_type": "markdown",
      "metadata": {},
      "source": [
        "#### Greater than operator (>)\n"
      ]
    },
    {
      "cell_type": "code",
      "execution_count": 57,
      "metadata": {},
      "outputs": [
        {
          "data": {
            "text/plain": [
              "(True, False, False, False, True)"
            ]
          },
          "execution_count": 57,
          "metadata": {},
          "output_type": "execute_result"
        }
      ],
      "source": [
        "20 > 10,20 > 20,10 > 20,'apple' > 'orange','orange' > 'apple'"
      ]
    },
    {
      "cell_type": "markdown",
      "metadata": {
        "id": "FLMiIqIfbtIO"
      },
      "source": [
        "#### Greater Than or Equal To operator (>=)"
      ]
    },
    {
      "cell_type": "code",
      "execution_count": 58,
      "metadata": {
        "id": "LC6XYKArbwpS"
      },
      "outputs": [
        {
          "data": {
            "text/plain": [
              "(True, True, False, True, False, True)"
            ]
          },
          "execution_count": 58,
          "metadata": {},
          "output_type": "execute_result"
        }
      ],
      "source": [
        "20 >= 10,20 >= 20,10 >= 20,'apple' >= 'apple','apple' >= 'orange','orange' >= 'apple'\n"
      ]
    },
    {
      "cell_type": "markdown",
      "metadata": {
        "id": "sW0WckWnb1JN"
      },
      "source": [
        "#### Equal To operator (==)"
      ]
    },
    {
      "cell_type": "code",
      "execution_count": 59,
      "metadata": {},
      "outputs": [
        {
          "data": {
            "text/plain": [
              "(False, True, True, False)"
            ]
          },
          "execution_count": 59,
          "metadata": {},
          "output_type": "execute_result"
        }
      ],
      "source": [
        "20 == 10,20 == 20,'apple' == 'apple','apple' == 'orange'"
      ]
    },
    {
      "cell_type": "markdown",
      "metadata": {
        "id": "xwI1vAa7b48K"
      },
      "source": [
        "#### Not Equal To operator (!=)\n"
      ]
    },
    {
      "cell_type": "code",
      "execution_count": 60,
      "metadata": {},
      "outputs": [
        {
          "data": {
            "text/plain": [
              "(False, True, False, True)"
            ]
          },
          "execution_count": 60,
          "metadata": {},
          "output_type": "execute_result"
        }
      ],
      "source": [
        "20 != 20,20 != 10,'apple' != 'apple','apple' != 'orange'"
      ]
    },
    {
      "cell_type": "markdown",
      "metadata": {
        "id": "NZLNxsqMcC4r"
      },
      "source": [
        "## PYTHON LOGICAL OPERATORS"
      ]
    },
    {
      "cell_type": "markdown",
      "metadata": {
        "id": "PUYLTqN5cEhk"
      },
      "source": [
        "#### The and operator"
      ]
    },
    {
      "cell_type": "code",
      "execution_count": 36,
      "metadata": {
        "id": "rPlcV7QAcKRS"
      },
      "outputs": [
        {
          "data": {
            "text/plain": [
              "True"
            ]
          },
          "execution_count": 36,
          "metadata": {},
          "output_type": "execute_result"
        }
      ],
      "source": [
        "price = 9.99\n",
        "price > 9 and price < 10"
      ]
    },
    {
      "cell_type": "code",
      "execution_count": 38,
      "metadata": {},
      "outputs": [
        {
          "data": {
            "text/plain": [
              "False"
            ]
          },
          "execution_count": 38,
          "metadata": {},
          "output_type": "execute_result"
        }
      ],
      "source": [
        "price > 10 and price < 20"
      ]
    },
    {
      "cell_type": "markdown",
      "metadata": {
        "id": "4dv_IGf1cRvx"
      },
      "source": [
        "#### The or operator"
      ]
    },
    {
      "cell_type": "code",
      "execution_count": 39,
      "metadata": {
        "id": "Xp5LVX0kcYTM"
      },
      "outputs": [
        {
          "data": {
            "text/plain": [
              "True"
            ]
          },
          "execution_count": 39,
          "metadata": {},
          "output_type": "execute_result"
        }
      ],
      "source": [
        "price = 9.99\n",
        "price > 10 or price < 20\n"
      ]
    },
    {
      "cell_type": "code",
      "execution_count": 40,
      "metadata": {},
      "outputs": [
        {
          "data": {
            "text/plain": [
              "False"
            ]
          },
          "execution_count": 40,
          "metadata": {},
          "output_type": "execute_result"
        }
      ],
      "source": [
        "price = 9.99\n",
        "price > 10 or price < 5\n"
      ]
    },
    {
      "cell_type": "markdown",
      "metadata": {
        "id": "vJDwCaQBcbbP"
      },
      "source": [
        "#### The not operator"
      ]
    },
    {
      "cell_type": "code",
      "execution_count": 41,
      "metadata": {
        "id": "ZCLlhRPGcccG"
      },
      "outputs": [
        {
          "data": {
            "text/plain": [
              "True"
            ]
          },
          "execution_count": 41,
          "metadata": {},
          "output_type": "execute_result"
        }
      ],
      "source": [
        "price = 9.99\n",
        "not price > 10\n"
      ]
    },
    {
      "cell_type": "code",
      "execution_count": 42,
      "metadata": {},
      "outputs": [
        {
          "data": {
            "text/plain": [
              "False"
            ]
          },
          "execution_count": 42,
          "metadata": {},
          "output_type": "execute_result"
        }
      ],
      "source": [
        "not (price > 5 and price < 10)"
      ]
    },
    {
      "cell_type": "markdown",
      "metadata": {
        "id": "M6mjAnZWcjL_"
      },
      "source": [
        "# SECTION 3 : CONTROL FLOW"
      ]
    },
    {
      "cell_type": "markdown",
      "metadata": {
        "id": "MsdfFHNQcmnD"
      },
      "source": [
        "#### Python if Statement"
      ]
    },
    {
      "cell_type": "code",
      "execution_count": 61,
      "metadata": {},
      "outputs": [
        {
          "name": "stdout",
          "output_type": "stream",
          "text": [
            "You're eligible to vote.\n"
          ]
        }
      ],
      "source": [
        "age = input('Enter your age:')\n",
        "if int(age) >= 18:\n",
        "    print(\"You're eligible to vote.\")"
      ]
    },
    {
      "cell_type": "code",
      "execution_count": 50,
      "metadata": {},
      "outputs": [
        {
          "name": "stdout",
          "output_type": "stream",
          "text": [
            "You're eligible to vote.\n",
            "Let's go and vote.\n"
          ]
        }
      ],
      "source": [
        "age = input('Enter your age:')\n",
        "if int(age) >= 18:\n",
        "    print(\"You're eligible to vote.\")\n",
        "    print(\"Let's go and vote.\")"
      ]
    },
    {
      "cell_type": "code",
      "execution_count": 64,
      "metadata": {},
      "outputs": [
        {
          "name": "stdout",
          "output_type": "stream",
          "text": [
            "Let's go and vote.\n"
          ]
        }
      ],
      "source": [
        "age = input('Enter your age:')\n",
        "if int(age) >= 18:\n",
        "    print(\"You're eligible to vote.\")\n",
        "print(\"Let's go and vote.\")"
      ]
    },
    {
      "cell_type": "markdown",
      "metadata": {
        "id": "5Tk2XLwwcvu2"
      },
      "source": [
        "#### Python if…else statement"
      ]
    },
    {
      "cell_type": "code",
      "execution_count": 65,
      "metadata": {},
      "outputs": [
        {
          "name": "stdout",
          "output_type": "stream",
          "text": [
            "You're not eligible to vote.\n"
          ]
        }
      ],
      "source": [
        "age = input('Enter your age:')\n",
        "if int(age) >= 18:\n",
        "    print(\"You're eligible to vote.\")\n",
        "else:\n",
        "    print(\"You're not eligible to vote.\")"
      ]
    },
    {
      "cell_type": "markdown",
      "metadata": {},
      "source": [
        "#### Python if…elif…else statement\n"
      ]
    },
    {
      "cell_type": "code",
      "execution_count": 66,
      "metadata": {
        "id": "mJU2LdBPcw1u"
      },
      "outputs": [
        {
          "name": "stdout",
          "output_type": "stream",
          "text": [
            "You'll pay $10 for the ticket\n"
          ]
        }
      ],
      "source": [
        "age = input('Enter your age:')\n",
        "your_age = int(age)\n",
        "if your_age < 5:\n",
        "    ticket_price = 5\n",
        "elif your_age < 16:\n",
        "    ticket_price = 10\n",
        "else:\n",
        "    ticket_price = 18\n",
        "print(f\"You'll pay ${ticket_price} for the ticket\")\n"
      ]
    },
    {
      "cell_type": "markdown",
      "metadata": {
        "id": "rI6mnOmAc7V2"
      },
      "source": [
        "## PYTHON TERNARY OPERATOR"
      ]
    },
    {
      "cell_type": "markdown",
      "metadata": {
        "id": "KdUf0PQSdBNV"
      },
      "source": [
        "#### Introduction to Python Ternary Operator"
      ]
    },
    {
      "cell_type": "code",
      "execution_count": 67,
      "metadata": {
        "id": "Bk-cStAXdCO0"
      },
      "outputs": [
        {
          "name": "stdout",
          "output_type": "stream",
          "text": [
            "The ticket price is 20\n"
          ]
        }
      ],
      "source": [
        "age = input('Enter your age:')\n",
        "if int(age) >= 18:\n",
        "    ticket_price = 20\n",
        "else:\n",
        "    ticket_price = 5\n",
        "print(f\"The ticket price is {ticket_price}\")"
      ]
    },
    {
      "cell_type": "code",
      "execution_count": 68,
      "metadata": {},
      "outputs": [],
      "source": [
        "if int(age) >= 18:\n",
        "    ticket_price = 20\n",
        "else:\n",
        "    ticket_price = 5"
      ]
    },
    {
      "cell_type": "code",
      "execution_count": 69,
      "metadata": {},
      "outputs": [
        {
          "name": "stdout",
          "output_type": "stream",
          "text": [
            "The ticket price is 5\n"
          ]
        }
      ],
      "source": [
        "age = input('Enter your age:')\n",
        "ticket_price = 20 if int(age) >= 18 else 5\n",
        "print(f\"The ticket price is {ticket_price}\")"
      ]
    },
    {
      "cell_type": "markdown",
      "metadata": {
        "id": "0gZwBsfydWw7"
      },
      "source": [
        "## PYTHON FOR LOOP WITH RANGE"
      ]
    },
    {
      "cell_type": "code",
      "execution_count": 70,
      "metadata": {},
      "outputs": [
        {
          "name": "stdout",
          "output_type": "stream",
          "text": [
            "0\n",
            "1\n",
            "2\n",
            "3\n",
            "4\n"
          ]
        }
      ],
      "source": [
        "for index in range(5):\n",
        "    print(index)"
      ]
    },
    {
      "cell_type": "code",
      "execution_count": 71,
      "metadata": {},
      "outputs": [
        {
          "name": "stdout",
          "output_type": "stream",
          "text": [
            "1\n",
            "2\n",
            "3\n",
            "4\n",
            "5\n"
          ]
        }
      ],
      "source": [
        "for index in range(5):\n",
        "    print(index + 1)"
      ]
    },
    {
      "cell_type": "code",
      "execution_count": 72,
      "metadata": {},
      "outputs": [
        {
          "name": "stdout",
          "output_type": "stream",
          "text": [
            "1\n",
            "2\n",
            "3\n",
            "4\n",
            "5\n"
          ]
        }
      ],
      "source": [
        "for index in range(1, 6):\n",
        "    print(index)"
      ]
    },
    {
      "cell_type": "code",
      "execution_count": 73,
      "metadata": {},
      "outputs": [
        {
          "name": "stdout",
          "output_type": "stream",
          "text": [
            "0\n",
            "2\n",
            "4\n",
            "6\n",
            "8\n",
            "10\n"
          ]
        }
      ],
      "source": [
        "for index in range(0, 11, 2):\n",
        "    print(index)"
      ]
    },
    {
      "cell_type": "markdown",
      "metadata": {
        "id": "u1-omzwMdZhr"
      },
      "source": [
        "#### Using Python for loop to calculate the sum of a sequence"
      ]
    },
    {
      "cell_type": "code",
      "execution_count": 57,
      "metadata": {
        "id": "wtr6wRwldfeE"
      },
      "outputs": [
        {
          "name": "stdout",
          "output_type": "stream",
          "text": [
            "5050\n"
          ]
        }
      ],
      "source": [
        "sum = 0\n",
        "for num in range(101):\n",
        "    sum += num\n",
        "\n",
        "print(sum)"
      ]
    },
    {
      "cell_type": "code",
      "execution_count": 48,
      "metadata": {},
      "outputs": [
        {
          "name": "stdout",
          "output_type": "stream",
          "text": [
            "5050.0\n"
          ]
        }
      ],
      "source": [
        "n = 100\n",
        "sum = n * (n+1)/2\n",
        "print(sum)"
      ]
    },
    {
      "cell_type": "markdown",
      "metadata": {
        "id": "3LRHmbF6dlyt"
      },
      "source": [
        "## PYTHON WHILE"
      ]
    },
    {
      "cell_type": "markdown",
      "metadata": {},
      "source": [
        "#### 1) Simple Python while statement example\n"
      ]
    },
    {
      "cell_type": "code",
      "execution_count": 58,
      "metadata": {},
      "outputs": [
        {
          "name": "stdout",
          "output_type": "stream",
          "text": [
            "0\n",
            "1\n",
            "2\n",
            "3\n",
            "4\n"
          ]
        }
      ],
      "source": [
        "max = 5\n",
        "counter = 0\n",
        "\n",
        "while counter < max:\n",
        "    print(counter)\n",
        "    counter += 1"
      ]
    },
    {
      "cell_type": "markdown",
      "metadata": {
        "id": "5R6EogJEdm67"
      },
      "source": [
        "#### 2)Using the Python while statement to build a simple command prompt program"
      ]
    },
    {
      "cell_type": "code",
      "execution_count": 74,
      "metadata": {
        "id": "UZ6Vra2CdsQu"
      },
      "outputs": [
        {
          "name": "stdout",
          "output_type": "stream",
          "text": [
            "Echo: HI\n",
            "Echo: While\n",
            "Echo: quit\n"
          ]
        }
      ],
      "source": [
        "command = ''\n",
        "\n",
        "while command.lower() != 'quit':\n",
        "    command = input('>')\n",
        "    print(f\"Echo: {command}\")\n"
      ]
    },
    {
      "cell_type": "markdown",
      "metadata": {
        "id": "6-Kw5SQ5d11w"
      },
      "source": [
        "## PYTHON BREAK"
      ]
    },
    {
      "cell_type": "markdown",
      "metadata": {
        "id": "NQg_1sz9d7o4"
      },
      "source": [
        "#### Using Python break with for loop"
      ]
    },
    {
      "cell_type": "code",
      "execution_count": 50,
      "metadata": {},
      "outputs": [
        {
          "name": "stdout",
          "output_type": "stream",
          "text": [
            "0\n",
            "1\n",
            "2\n",
            "3\n",
            "0\n",
            "1\n",
            "2\n",
            "3\n",
            "4\n",
            "5\n"
          ]
        }
      ],
      "source": [
        "for index in range(0, 10):\n",
        "    print(index)\n",
        "    if index == 3:\n",
        "        break\n",
        "\n",
        "n = 10"
      ]
    },
    {
      "cell_type": "code",
      "execution_count": 77,
      "metadata": {},
      "outputs": [
        {
          "name": "stdout",
          "output_type": "stream",
          "text": [
            "0\n",
            "1\n",
            "2\n",
            "3\n"
          ]
        }
      ],
      "source": [
        "for index in range(0, 10):\n",
        "    print(index)\n",
        "    if index == 3:\n",
        "        break"
      ]
    },
    {
      "cell_type": "code",
      "execution_count": 76,
      "metadata": {},
      "outputs": [
        {
          "name": "stdout",
          "output_type": "stream",
          "text": [
            "(0,0)\n",
            "(0,1)\n",
            "(1,0)\n",
            "(1,1)\n",
            "(2,0)\n",
            "(2,1)\n",
            "(3,0)\n",
            "(3,1)\n",
            "(4,0)\n",
            "(4,1)\n"
          ]
        }
      ],
      "source": [
        "for x in range(5):\n",
        "    for y in range(5):\n",
        "        if y > 1:\n",
        "            break\n",
        "       \n",
        "        print(f\"({x},{y})\")"
      ]
    },
    {
      "cell_type": "markdown",
      "metadata": {},
      "source": [
        "#### Using Python break statement with a while loop"
      ]
    },
    {
      "cell_type": "code",
      "execution_count": 79,
      "metadata": {},
      "outputs": [
        {
          "name": "stdout",
          "output_type": "stream",
          "text": [
            "-- Help: type quit to exit --\n"
          ]
        }
      ],
      "source": [
        "print('-- Help: type quit to exit --')\n",
        "while True:\n",
        "    color = input('Enter your favorite color:')\n",
        "    if color.lower() == 'quit':\n",
        "        break"
      ]
    },
    {
      "cell_type": "markdown",
      "metadata": {
        "id": "yB9pPbJMeD3n"
      },
      "source": [
        "## PYTHON CONTINUE"
      ]
    },
    {
      "cell_type": "markdown",
      "metadata": {},
      "source": [
        "#### Using Python continue in a for loop example"
      ]
    },
    {
      "cell_type": "code",
      "execution_count": 80,
      "metadata": {
        "id": "FYj5Xkv-eJIt"
      },
      "outputs": [
        {
          "name": "stdout",
          "output_type": "stream",
          "text": [
            "0\n",
            "2\n",
            "4\n",
            "6\n",
            "8\n"
          ]
        }
      ],
      "source": [
        "for index in range(10):\n",
        "    if index % 2:\n",
        "        continue\n",
        "\n",
        "    print(index)"
      ]
    },
    {
      "cell_type": "markdown",
      "metadata": {},
      "source": [
        "#### Using Python continue in a while loop example"
      ]
    },
    {
      "cell_type": "code",
      "execution_count": 66,
      "metadata": {},
      "outputs": [
        {
          "name": "stdout",
          "output_type": "stream",
          "text": [
            "1\n",
            "3\n",
            "5\n",
            "7\n",
            "9\n"
          ]
        }
      ],
      "source": [
        "\n",
        "counter = 0\n",
        "while counter < 10:\n",
        "    counter += 1\n",
        "\n",
        "    if not counter % 2:\n",
        "        continue\n",
        "\n",
        "    print(counter)"
      ]
    },
    {
      "cell_type": "markdown",
      "metadata": {
        "id": "S513zXn1eRhF"
      },
      "source": [
        "## PYTHON PASS"
      ]
    },
    {
      "cell_type": "code",
      "execution_count": null,
      "metadata": {},
      "outputs": [],
      "source": [
        "# pass can be used as follow:\n",
        "# if condition:\n",
        "#     pass\n",
        "# for i in range(1,100):\n",
        "#     pass\n",
        "# while condition:\n",
        "#     pass\n",
        "# def fn():\n",
        "#     pass\n",
        "# class Stream:\n",
        "#     pass"
      ]
    },
    {
      "cell_type": "code",
      "execution_count": 52,
      "metadata": {
        "id": "NK6Jpkl0eS7X"
      },
      "outputs": [],
      "source": [
        "counter = 1\n",
        "max = 10\n",
        "if counter <= max:\n",
        "    counter += 1\n",
        "else:\n",
        "    pass"
      ]
    },
    {
      "cell_type": "markdown",
      "metadata": {
        "id": "BnOXgxgCeXmW"
      },
      "source": [
        "# SECTION 4 : FUNCTIONS"
      ]
    },
    {
      "cell_type": "markdown",
      "metadata": {
        "id": "2ELZGtUgei33"
      },
      "source": [
        "## PYTHON FUNCTIONS"
      ]
    },
    {
      "cell_type": "code",
      "execution_count": 81,
      "metadata": {},
      "outputs": [
        {
          "name": "stdout",
          "output_type": "stream",
          "text": [
            "Professor & TA Hi\n"
          ]
        }
      ],
      "source": [
        "def greet(name):\n",
        "    \"\"\" Display a greeting to users \"\"\"\n",
        "    print(name,'Hi')\n",
        "\n",
        "greet(\"Professor & TA\")"
      ]
    },
    {
      "cell_type": "markdown",
      "metadata": {},
      "source": [
        "#### Returning a value"
      ]
    },
    {
      "cell_type": "code",
      "execution_count": 84,
      "metadata": {},
      "outputs": [
        {
          "name": "stdout",
          "output_type": "stream",
          "text": [
            "Hi John\n"
          ]
        }
      ],
      "source": [
        "def greet(name):\n",
        "    return f\"Hi {name}\"\n",
        "\n",
        "greeting = greet('John')\n",
        "print(greeting)"
      ]
    },
    {
      "cell_type": "markdown",
      "metadata": {
        "id": "P148jN9zenDi"
      },
      "source": [
        "#### Python functions with multiple parameters"
      ]
    },
    {
      "cell_type": "code",
      "execution_count": 85,
      "metadata": {
        "id": "35638nhqeouT"
      },
      "outputs": [
        {
          "name": "stdout",
          "output_type": "stream",
          "text": [
            "30\n"
          ]
        }
      ],
      "source": [
        "def sum(a, b):\n",
        "    return a + b\n",
        "total = sum(10,20)\n",
        "print(total)"
      ]
    },
    {
      "cell_type": "markdown",
      "metadata": {
        "id": "pM5Tgs4leuSD"
      },
      "source": [
        "## PYTHON DEFAULT PARAMETERS"
      ]
    },
    {
      "cell_type": "markdown",
      "metadata": {
        "id": "r_Osz685evnp"
      },
      "source": [
        "#### default parameters example"
      ]
    },
    {
      "cell_type": "code",
      "execution_count": 86,
      "metadata": {
        "id": "P7HtggKme1Kb"
      },
      "outputs": [
        {
          "name": "stdout",
          "output_type": "stream",
          "text": [
            "Hello John\n"
          ]
        }
      ],
      "source": [
        "def greet(name, message='Hi'):\n",
        "    return f\"{message} {name}\"\n",
        "greeting = greet('John', 'Hello')\n",
        "print(greeting)"
      ]
    },
    {
      "cell_type": "markdown",
      "metadata": {
        "id": "LZmgxSNHe8R7"
      },
      "source": [
        "#### Multiple default parameters"
      ]
    },
    {
      "cell_type": "code",
      "execution_count": 74,
      "metadata": {
        "id": "0w4_Eumte9Ef"
      },
      "outputs": [
        {
          "name": "stdout",
          "output_type": "stream",
          "text": [
            "Hi there\n"
          ]
        }
      ],
      "source": [
        "def greet(name='there', message='Hi'):\n",
        "    return f\"{message} {name}\"\n",
        "greeting = greet()\n",
        "print(greeting)"
      ]
    },
    {
      "cell_type": "code",
      "execution_count": 87,
      "metadata": {},
      "outputs": [
        {
          "name": "stdout",
          "output_type": "stream",
          "text": [
            "Hi Hello\n"
          ]
        }
      ],
      "source": [
        "def greet(name='there', message='Hi'):\n",
        "    return f\"{message} {name}\"\n",
        "\n",
        "\n",
        "greeting = greet('Hello')\n",
        "print(greeting)"
      ]
    },
    {
      "cell_type": "code",
      "execution_count": 88,
      "metadata": {},
      "outputs": [
        {
          "name": "stdout",
          "output_type": "stream",
          "text": [
            "Hello there\n"
          ]
        }
      ],
      "source": [
        "def greet(name='there', message='Hi'):\n",
        "    return f\"{message} {name}\"\n",
        "\n",
        "\n",
        "greeting = greet(message='Hello')\n",
        "print(greeting)"
      ]
    },
    {
      "cell_type": "markdown",
      "metadata": {
        "id": "iZT56mi3fFHw"
      },
      "source": [
        "## PYTHON KEYWORD ARGUMENTS"
      ]
    },
    {
      "cell_type": "markdown",
      "metadata": {
        "id": "TH_DgXOEfKxU"
      },
      "source": [
        "#### Keyword arguments and default parameters"
      ]
    },
    {
      "cell_type": "code",
      "execution_count": 89,
      "metadata": {},
      "outputs": [],
      "source": [
        "def get_net_price(price, discount):\n",
        "    return price * (1-discount)"
      ]
    },
    {
      "cell_type": "code",
      "execution_count": 90,
      "metadata": {},
      "outputs": [
        {
          "name": "stdout",
          "output_type": "stream",
          "text": [
            "90.0\n",
            "-9.9\n"
          ]
        }
      ],
      "source": [
        "net_price = get_net_price(100, 0.1)\n",
        "print(net_price)\n",
        "\n",
        "net_price = get_net_price(0.1, 100)\n",
        "print(net_price)"
      ]
    },
    {
      "cell_type": "code",
      "execution_count": 62,
      "metadata": {
        "id": "T7wWhCvZfUHa"
      },
      "outputs": [
        {
          "name": "stdout",
          "output_type": "stream",
          "text": [
            "102.0\n",
            "101.0\n",
            "101.0\n"
          ]
        }
      ],
      "source": [
        "def get_net_price(price, tax=0.07, discount=0.05):\n",
        "    return price * (1 + tax - discount)\n",
        "\n",
        "net_price = get_net_price(100)\n",
        "print(net_price)\n",
        "\n",
        "net_price = get_net_price(price=100, discount=0.06)\n",
        "print(net_price)\n",
        "\n",
        "net_price = get_net_price(100, discount=0.06)\n",
        "print(net_price)"
      ]
    },
    {
      "cell_type": "markdown",
      "metadata": {
        "id": "bdrb401Mfejl"
      },
      "source": [
        "#### Python keyword argument requirements"
      ]
    },
    {
      "cell_type": "code",
      "execution_count": 76,
      "metadata": {
        "id": "DPMoUuhYfkED"
      },
      "outputs": [
        {
          "name": "stdout",
          "output_type": "stream",
          "text": [
            "102.0\n"
          ]
        }
      ],
      "source": [
        "net_price = get_net_price(100, tax=0.08, discount=0.06)\n",
        "print(net_price)"
      ]
    },
    {
      "cell_type": "markdown",
      "metadata": {
        "id": "-2erKQA5fonA"
      },
      "source": [
        "## PYTHON RECURSIVE FUUNCTIONS\n"
      ]
    },
    {
      "cell_type": "code",
      "execution_count": 78,
      "metadata": {},
      "outputs": [
        {
          "name": "stdout",
          "output_type": "stream",
          "text": [
            "3\n",
            "2\n",
            "1\n"
          ]
        }
      ],
      "source": [
        "def count_down(start):\n",
        "    \"\"\" Count down from a number  \"\"\"\n",
        "    print(start)\n",
        "\n",
        "    next = start - 1\n",
        "    if next > 0:\n",
        "        count_down(next)\n",
        "\n",
        "\n",
        "count_down(3)"
      ]
    },
    {
      "cell_type": "markdown",
      "metadata": {
        "id": "l9WfQmiRfp4I"
      },
      "source": [
        "#### Using a recursive function to calculate the sum of a sequence"
      ]
    },
    {
      "cell_type": "code",
      "execution_count": 79,
      "metadata": {
        "id": "5UrYlzvyfu8_"
      },
      "outputs": [
        {
          "name": "stdout",
          "output_type": "stream",
          "text": [
            "5050\n"
          ]
        }
      ],
      "source": [
        "def sum(n):\n",
        "    total = 0\n",
        "    for index in range(n+1):\n",
        "        total += index\n",
        "    return total\n",
        "result = sum(100)\n",
        "print(result)"
      ]
    },
    {
      "cell_type": "code",
      "execution_count": 80,
      "metadata": {},
      "outputs": [
        {
          "name": "stdout",
          "output_type": "stream",
          "text": [
            "5050\n"
          ]
        }
      ],
      "source": [
        "def sum(n):\n",
        "    if n > 0:\n",
        "        return n + sum(n-1)\n",
        "    return 0\n",
        "\n",
        "\n",
        "result = sum(100)\n",
        "print(result)"
      ]
    },
    {
      "cell_type": "markdown",
      "metadata": {
        "id": "g5wiGqu9gFC5"
      },
      "source": [
        "## PYTHON LAMBDA EXPRESSIONS"
      ]
    },
    {
      "cell_type": "markdown",
      "metadata": {
        "id": "AmHZXn_IgGYq"
      },
      "source": [
        "#### Functions that accept a function example"
      ]
    },
    {
      "cell_type": "code",
      "execution_count": 82,
      "metadata": {
        "id": "bdANCv6XgNPk"
      },
      "outputs": [
        {
          "name": "stdout",
          "output_type": "stream",
          "text": [
            "John Doe\n",
            "Doe John\n"
          ]
        }
      ],
      "source": [
        "def get_full_name(first_name, last_name, formatter):\n",
        "    return formatter(first_name, last_name)\n",
        "\n",
        "\n",
        "full_name = get_full_name(\n",
        "    'John',\n",
        "    'Doe',\n",
        "    lambda first_name, last_name: f\"{first_name} {last_name}\"\n",
        ")\n",
        "print(full_name)\n",
        "\n",
        "full_name = get_full_name(\n",
        "    'John',\n",
        "    'Doe',\n",
        "    lambda first_name, last_name: f\"{last_name} {first_name}\"\n",
        ")\n",
        "print(full_name)\n"
      ]
    },
    {
      "cell_type": "code",
      "execution_count": 91,
      "metadata": {},
      "outputs": [
        {
          "name": "stdout",
          "output_type": "stream",
          "text": [
            "John Doe\n",
            "Doe John\n"
          ]
        }
      ],
      "source": [
        "def get_full_name(first_name, last_name, formatter):\n",
        "    return formatter(first_name, last_name)\n",
        "\n",
        "\n",
        "full_name = get_full_name(\n",
        "    'John',\n",
        "    'Doe',\n",
        "    lambda first_name, last_name: f\"{first_name} {last_name}\"\n",
        ")\n",
        "print(full_name)\n",
        "\n",
        "full_name = get_full_name(\n",
        "    'John',\n",
        "    'Doe',\n",
        "    lambda first_name, last_name: f\"{last_name} {first_name}\"\n",
        ")\n",
        "print(full_name)\n"
      ]
    },
    {
      "cell_type": "markdown",
      "metadata": {
        "id": "KfRgw2obgeHI"
      },
      "source": [
        "#### Functions that return a function example"
      ]
    },
    {
      "cell_type": "code",
      "execution_count": 83,
      "metadata": {
        "id": "jlRED5s6ghlQ"
      },
      "outputs": [
        {
          "name": "stdout",
          "output_type": "stream",
          "text": [
            "4\n",
            "6\n"
          ]
        }
      ],
      "source": [
        "def times(n):\n",
        "    return lambda x: x * n\n",
        "\n",
        "double = times(2)\n",
        "result = double(2)\n",
        "print(result)\n",
        "\n",
        "result = double(3)\n",
        "print(result)"
      ]
    },
    {
      "cell_type": "markdown",
      "metadata": {
        "id": "WbdHyrI7g_pS"
      },
      "source": [
        "#### Python lambda in a loop"
      ]
    },
    {
      "cell_type": "code",
      "execution_count": 84,
      "metadata": {
        "id": "A9-pfbYjhBHt"
      },
      "outputs": [
        {
          "name": "stdout",
          "output_type": "stream",
          "text": [
            "3\n",
            "3\n",
            "3\n"
          ]
        }
      ],
      "source": [
        "callables = []\n",
        "for i in (1, 2, 3):\n",
        "    callables.append(lambda: i)\n",
        "\n",
        "for f in callables:\n",
        "    print(f())\n"
      ]
    },
    {
      "cell_type": "markdown",
      "metadata": {
        "id": "xQCgloLYhHIN"
      },
      "source": [
        "## PYTHON FUNCTION DOCSTRINGS"
      ]
    },
    {
      "cell_type": "markdown",
      "metadata": {
        "id": "_Y04sx7zhOOi"
      },
      "source": [
        "#### Using docstrings to document functions"
      ]
    },
    {
      "cell_type": "code",
      "execution_count": 92,
      "metadata": {
        "id": "rrEvbGTyhPql"
      },
      "outputs": [],
      "source": [
        "def add(a, b):\n",
        "    \"\"\" Add two arguments\n",
        "    Arguments:\n",
        "        a: an integer\n",
        "        b: an integer\n",
        "    Returns:\n",
        "        The sum of the two arguments\n",
        "    \"\"\"\n",
        "    return a + b"
      ]
    },
    {
      "cell_type": "markdown",
      "metadata": {
        "id": "6zRjVHgPhXrz"
      },
      "source": [
        "# SECTION 5 : LISTS"
      ]
    },
    {
      "cell_type": "markdown",
      "metadata": {
        "id": "NRrB7q8DhbgJ"
      },
      "source": [
        "#### Python List"
      ]
    },
    {
      "cell_type": "code",
      "execution_count": 93,
      "metadata": {},
      "outputs": [
        {
          "name": "stdout",
          "output_type": "stream",
          "text": [
            "[1, 3, 2, 7, 9, 4]\n"
          ]
        }
      ],
      "source": [
        "numbers = [1, 3, 2, 7, 9, 4]\n",
        "print(numbers)"
      ]
    },
    {
      "cell_type": "code",
      "execution_count": 90,
      "metadata": {},
      "outputs": [
        {
          "name": "stdout",
          "output_type": "stream",
          "text": [
            "['red', 'green', 'blue']\n"
          ]
        }
      ],
      "source": [
        "colors = ['red', 'green', 'blue']\n",
        "print(colors)"
      ]
    },
    {
      "cell_type": "code",
      "execution_count": 91,
      "metadata": {},
      "outputs": [
        {
          "name": "stdout",
          "output_type": "stream",
          "text": [
            "[[0, 0], [100, 100], [200, 200]]\n"
          ]
        }
      ],
      "source": [
        "coordinates = [[0, 0], [100, 100], [200, 200]]\n",
        "print(coordinates)"
      ]
    },
    {
      "cell_type": "markdown",
      "metadata": {
        "id": "n98IY37QhgKK"
      },
      "source": [
        "#### Accessing elements in a list"
      ]
    },
    {
      "cell_type": "code",
      "execution_count": 94,
      "metadata": {},
      "outputs": [
        {
          "name": "stdout",
          "output_type": "stream",
          "text": [
            "1\n"
          ]
        }
      ],
      "source": [
        "numbers = [1, 3, 2, 7, 9, 4]\n",
        "print(numbers[0])"
      ]
    },
    {
      "cell_type": "code",
      "execution_count": 95,
      "metadata": {},
      "outputs": [
        {
          "name": "stdout",
          "output_type": "stream",
          "text": [
            "3\n"
          ]
        }
      ],
      "source": [
        "numbers = [1, 3, 2, 7, 9, 4]\n",
        "print(numbers[1])"
      ]
    },
    {
      "cell_type": "code",
      "execution_count": 96,
      "metadata": {},
      "outputs": [
        {
          "name": "stdout",
          "output_type": "stream",
          "text": [
            "4\n",
            "9\n"
          ]
        }
      ],
      "source": [
        "numbers = [1, 3, 2, 7, 9, 4]\n",
        "print(numbers[-1])\n",
        "print(numbers[-2])"
      ]
    },
    {
      "cell_type": "markdown",
      "metadata": {},
      "source": [
        "#### Modifying, adding, and removing elements\n"
      ]
    },
    {
      "cell_type": "markdown",
      "metadata": {},
      "source": [
        "#### 1) Modifying elements in a list"
      ]
    },
    {
      "cell_type": "code",
      "execution_count": 97,
      "metadata": {},
      "outputs": [
        {
          "name": "stdout",
          "output_type": "stream",
          "text": [
            "[10, 3, 2, 7, 9, 4]\n"
          ]
        }
      ],
      "source": [
        "numbers = [1, 3, 2, 7, 9, 4]\n",
        "numbers[0] = 10\n",
        "\n",
        "print(numbers)"
      ]
    },
    {
      "cell_type": "code",
      "execution_count": 98,
      "metadata": {},
      "outputs": [
        {
          "name": "stdout",
          "output_type": "stream",
          "text": [
            "[1, 30, 2, 7, 9, 4]\n"
          ]
        }
      ],
      "source": [
        "numbers = [1, 3, 2, 7, 9, 4]\n",
        "numbers[1] = numbers[1]*10\n",
        "\n",
        "print(numbers)\n"
      ]
    },
    {
      "cell_type": "code",
      "execution_count": 99,
      "metadata": {},
      "outputs": [
        {
          "name": "stdout",
          "output_type": "stream",
          "text": [
            "[1, 3, 1.0, 7, 9, 4]\n"
          ]
        }
      ],
      "source": [
        "numbers = [1, 3, 2, 7, 9, 4]\n",
        "numbers[2] /= 2\n",
        "\n",
        "print(numbers)"
      ]
    },
    {
      "cell_type": "markdown",
      "metadata": {},
      "source": [
        "#### 2) Adding elements to the list"
      ]
    },
    {
      "cell_type": "code",
      "execution_count": 93,
      "metadata": {},
      "outputs": [
        {
          "name": "stdout",
          "output_type": "stream",
          "text": [
            "[1, 3, 2, 7, 9, 4, 100]\n"
          ]
        }
      ],
      "source": [
        "numbers = [1, 3, 2, 7, 9, 4]\n",
        "numbers.append(100)\n",
        "\n",
        "print(numbers)"
      ]
    },
    {
      "cell_type": "code",
      "execution_count": 100,
      "metadata": {},
      "outputs": [
        {
          "name": "stdout",
          "output_type": "stream",
          "text": [
            "[1, 3, 100, 2, 7, 9, 4]\n"
          ]
        }
      ],
      "source": [
        "numbers = [1, 3, 2, 7, 9, 4]\n",
        "numbers.insert(2, 100)\n",
        "\n",
        "print(numbers)"
      ]
    },
    {
      "cell_type": "markdown",
      "metadata": {},
      "source": [
        "#### 3) Removing elements from a list"
      ]
    },
    {
      "cell_type": "code",
      "execution_count": 101,
      "metadata": {},
      "outputs": [
        {
          "name": "stdout",
          "output_type": "stream",
          "text": [
            "[3, 2, 7, 9, 4]\n",
            "4\n",
            "[1, 3, 2, 7, 9]\n",
            "3\n",
            "[1, 2, 7, 9, 4]\n",
            "[1, 3, 2, 7, 4, 9]\n"
          ]
        }
      ],
      "source": [
        "numbers = [1, 3, 2, 7, 9, 4]\n",
        "del numbers[0]\n",
        "\n",
        "print(numbers)\n",
        "\n",
        "numbers = [1, 3, 2, 7, 9, 4]\n",
        "last = numbers.pop()\n",
        "\n",
        "print(last)\n",
        "print(numbers)\n",
        "\n",
        "numbers = [1, 3, 2, 7, 9, 4]\n",
        "\n",
        "second = numbers.pop(1)\n",
        "\n",
        "print(second)\n",
        "print(numbers)\n",
        "\n",
        "numbers = [1, 3, 2, 7, 9, 4, 9]\n",
        "\n",
        "numbers.remove(9)\n",
        "print(numbers)"
      ]
    },
    {
      "cell_type": "markdown",
      "metadata": {
        "id": "rr81w56xiXdT"
      },
      "source": [
        "## PYTHON TUPLES"
      ]
    },
    {
      "cell_type": "markdown",
      "metadata": {
        "id": "ccrBlzhdiceV"
      },
      "source": [
        "#### Defining a tuple"
      ]
    },
    {
      "cell_type": "code",
      "execution_count": 97,
      "metadata": {
        "id": "LEFFk_2widOO"
      },
      "outputs": [
        {
          "name": "stdout",
          "output_type": "stream",
          "text": [
            "red\n",
            "green\n",
            "blue\n"
          ]
        }
      ],
      "source": [
        "rgb = ('red', 'green', 'blue')\n",
        "\n",
        "print(rgb[0])\n",
        "print(rgb[1])\n",
        "print(rgb[2])"
      ]
    },
    {
      "cell_type": "markdown",
      "metadata": {
        "id": "5sCniJrqixMp"
      },
      "source": [
        "#### Assigning a tuple"
      ]
    },
    {
      "cell_type": "code",
      "execution_count": 98,
      "metadata": {
        "id": "RD6u2GAbiyRR"
      },
      "outputs": [
        {
          "name": "stdout",
          "output_type": "stream",
          "text": [
            "('red', 'green', 'blue')\n",
            "('Cyan', 'Magenta', 'Yellow', 'black')\n"
          ]
        }
      ],
      "source": [
        "colors = ('red', 'green', 'blue')\n",
        "print(colors)\n",
        "\n",
        "colors = ('Cyan', 'Magenta', 'Yellow', 'black')\n",
        "print(colors)"
      ]
    },
    {
      "cell_type": "markdown",
      "metadata": {
        "id": "GhTuyCHmi0Pa"
      },
      "source": [
        "## SORT, SLICE, UNPACK AND ITERATE LIST"
      ]
    },
    {
      "cell_type": "markdown",
      "metadata": {
        "id": "VdyfNKJZi_0q"
      },
      "source": [
        "#### Python sorted() function to sort a list of numbers"
      ]
    },
    {
      "cell_type": "markdown",
      "metadata": {},
      "source": [
        "#### 1) Using the Python List sort() method to sort a list of strings\n"
      ]
    },
    {
      "cell_type": "code",
      "execution_count": 99,
      "metadata": {},
      "outputs": [
        {
          "name": "stdout",
          "output_type": "stream",
          "text": [
            "['James', 'Jennifer', 'John', 'Mary', 'Patricia', 'Robert']\n"
          ]
        }
      ],
      "source": [
        "guests = ['James', 'Mary', 'John', 'Patricia', 'Robert', 'Jennifer']\n",
        "guests.sort()\n",
        "\n",
        "print(guests)"
      ]
    },
    {
      "cell_type": "code",
      "execution_count": 100,
      "metadata": {},
      "outputs": [
        {
          "name": "stdout",
          "output_type": "stream",
          "text": [
            "['Robert', 'Patricia', 'Mary', 'John', 'Jennifer', 'James']\n"
          ]
        }
      ],
      "source": [
        "guests = ['James', 'Mary', 'John', 'Patricia', 'Robert', 'Jennifer']\n",
        "guests.sort(reverse=True)\n",
        "\n",
        "print(guests)"
      ]
    },
    {
      "cell_type": "markdown",
      "metadata": {},
      "source": [
        "#### 2) Using the Python List sort() method to sort a list of numbers\n"
      ]
    },
    {
      "cell_type": "code",
      "execution_count": 101,
      "metadata": {
        "id": "MWSdPIYXjMYG"
      },
      "outputs": [
        {
          "name": "stdout",
          "output_type": "stream",
          "text": [
            "[4, 5, 6, 7, 8, 9]\n"
          ]
        }
      ],
      "source": [
        "scores = [5, 7, 4, 6, 9, 8]\n",
        "sorted_scores = sorted(scores)\n",
        "\n",
        "print(sorted_scores)"
      ]
    },
    {
      "cell_type": "code",
      "execution_count": 102,
      "metadata": {},
      "outputs": [
        {
          "name": "stdout",
          "output_type": "stream",
          "text": [
            "[9, 8, 7, 6, 5, 4]\n"
          ]
        }
      ],
      "source": [
        "scores = [5, 7, 4, 6, 9, 8]\n",
        "sorted_scores = sorted(scores, reverse=True)\n",
        "\n",
        "print(sorted_scores)"
      ]
    },
    {
      "cell_type": "markdown",
      "metadata": {},
      "source": [
        "#### 3) Using the Python List sort() method to sort a list of tuples\n"
      ]
    },
    {
      "cell_type": "code",
      "execution_count": 105,
      "metadata": {},
      "outputs": [
        {
          "name": "stdout",
          "output_type": "stream",
          "text": [
            "[('Apple', 2019, 260.2), ('Google', 2019, 134.81), ('Facebook', 2019, 70.7)]\n"
          ]
        }
      ],
      "source": [
        "companies = [('Google', 2019, 134.81),\n",
        "             ('Apple', 2019, 260.2),\n",
        "             ('Facebook', 2019, 70.7)]\n",
        "\n",
        "\n",
        "# define a sort key\n",
        "def sort_key(company):\n",
        "    return company[2]\n",
        "companies.sort(key=sort_key, reverse=True)\n",
        "\n",
        "print(companies)\n"
      ]
    },
    {
      "cell_type": "code",
      "execution_count": 106,
      "metadata": {},
      "outputs": [
        {
          "name": "stdout",
          "output_type": "stream",
          "text": [
            "[('Facebook', 2019, 70.7), ('Google', 2019, 134.81), ('Apple', 2019, 260.2)]\n"
          ]
        }
      ],
      "source": [
        "companies = [('Google', 2019, 134.81),\n",
        "             ('Apple', 2019, 260.2),\n",
        "             ('Facebook', 2019, 70.7)]\n",
        "\n",
        "# sort the companies by revenue\n",
        "companies.sort(key=lambda company: company[2])\n",
        "\n",
        "# show the sorted companies\n",
        "print(companies)"
      ]
    },
    {
      "cell_type": "markdown",
      "metadata": {},
      "source": [
        "## Python List Slice\n"
      ]
    },
    {
      "cell_type": "markdown",
      "metadata": {},
      "source": [
        "#### 1) Basic Python list slice example\n"
      ]
    },
    {
      "cell_type": "code",
      "execution_count": 107,
      "metadata": {},
      "outputs": [
        {
          "name": "stdout",
          "output_type": "stream",
          "text": [
            "['orange', 'yellow', 'green']\n"
          ]
        }
      ],
      "source": [
        "colors = ['red', 'orange', 'yellow', 'green', 'blue', 'indigo', 'violet']\n",
        "sub_colors = colors[1:4]\n",
        "\n",
        "print(sub_colors)\n"
      ]
    },
    {
      "cell_type": "markdown",
      "metadata": {},
      "source": [
        "#### 2) Using Python List slice to get the n-first elements from a list\n"
      ]
    },
    {
      "cell_type": "code",
      "execution_count": 108,
      "metadata": {},
      "outputs": [
        {
          "name": "stdout",
          "output_type": "stream",
          "text": [
            "['red', 'orange', 'yellow']\n"
          ]
        }
      ],
      "source": [
        "colors = ['red', 'orange', 'yellow', 'green', 'blue', 'indigo', 'violet']\n",
        "sub_colors = colors[:3]\n",
        "\n",
        "print(sub_colors)\n"
      ]
    },
    {
      "cell_type": "markdown",
      "metadata": {},
      "source": [
        " #### 3) Using Python List slice to get the n-last elements from a list\n"
      ]
    },
    {
      "cell_type": "code",
      "execution_count": 110,
      "metadata": {},
      "outputs": [
        {
          "name": "stdout",
          "output_type": "stream",
          "text": [
            "['blue', 'indigo', 'violet']\n"
          ]
        }
      ],
      "source": [
        "colors = ['red', 'orange', 'yellow', 'green', 'blue', 'indigo', 'violet']\n",
        "sub_colors = colors[-3:]\n",
        "\n",
        "print(sub_colors)\n"
      ]
    },
    {
      "cell_type": "markdown",
      "metadata": {},
      "source": [
        "#### 4) Using Python List slice to get every nth element from a list\n"
      ]
    },
    {
      "cell_type": "code",
      "execution_count": 111,
      "metadata": {},
      "outputs": [
        {
          "name": "stdout",
          "output_type": "stream",
          "text": [
            "['red', 'yellow', 'blue', 'violet']\n"
          ]
        }
      ],
      "source": [
        "colors = ['red', 'orange', 'yellow', 'green', 'blue', 'indigo', 'violet']\n",
        "sub_colors = colors[::2]\n",
        "\n",
        "print(sub_colors)\n"
      ]
    },
    {
      "cell_type": "markdown",
      "metadata": {},
      "source": [
        "#### 5) Using Python List slice to reverse a list\n"
      ]
    },
    {
      "cell_type": "code",
      "execution_count": 112,
      "metadata": {},
      "outputs": [
        {
          "name": "stdout",
          "output_type": "stream",
          "text": [
            "['violet', 'indigo', 'blue', 'green', 'yellow', 'orange', 'red']\n"
          ]
        }
      ],
      "source": [
        "colors = ['red', 'orange', 'yellow', 'green', 'blue', 'indigo', 'violet']\n",
        "reversed_colors = colors[::-1]\n",
        "\n",
        "print(reversed_colors)\n"
      ]
    },
    {
      "cell_type": "markdown",
      "metadata": {},
      "source": [
        "#### 6) Using Python List slice to substitute part of a list\n"
      ]
    },
    {
      "cell_type": "code",
      "execution_count": 113,
      "metadata": {},
      "outputs": [
        {
          "name": "stdout",
          "output_type": "stream",
          "text": [
            "['black', 'white', 'yellow', 'green', 'blue', 'indigo', 'violet']\n"
          ]
        }
      ],
      "source": [
        "colors = ['red', 'orange', 'yellow', 'green', 'blue', 'indigo', 'violet']\n",
        "colors[0:2] = ['black', 'white']\n",
        "\n",
        "print(colors)\n"
      ]
    },
    {
      "cell_type": "markdown",
      "metadata": {},
      "source": [
        "#### 7) Using Python List slice to partially replace and resize a list\n"
      ]
    },
    {
      "cell_type": "code",
      "execution_count": 114,
      "metadata": {},
      "outputs": [
        {
          "name": "stdout",
          "output_type": "stream",
          "text": [
            "The list has 7 elements\n",
            "['black', 'white', 'gray', 'yellow', 'green', 'blue', 'indigo', 'violet']\n",
            "The list now has 8 elements\n"
          ]
        }
      ],
      "source": [
        "colors = ['red', 'orange', 'yellow', 'green', 'blue', 'indigo', 'violet']\n",
        "print(f\"The list has {len(colors)} elements\")\n",
        "\n",
        "colors[0:2] = ['black', 'white', 'gray']\n",
        "print(colors)\n",
        "print(f\"The list now has {len(colors)} elements\")\n"
      ]
    },
    {
      "cell_type": "markdown",
      "metadata": {},
      "source": [
        "#### 8) Using Python list slice to delete elements\n"
      ]
    },
    {
      "cell_type": "code",
      "execution_count": 115,
      "metadata": {},
      "outputs": [
        {
          "name": "stdout",
          "output_type": "stream",
          "text": [
            "['red', 'orange', 'indigo', 'violet']\n"
          ]
        }
      ],
      "source": [
        "colors = ['red', 'orange', 'yellow', 'green', 'blue', 'indigo', 'violet']\n",
        "del colors[2:5]\n",
        "\n",
        "print(colors)\n"
      ]
    },
    {
      "cell_type": "markdown",
      "metadata": {
        "id": "0R0gO6YSlEa0"
      },
      "source": [
        "## Unpacking in Python"
      ]
    },
    {
      "cell_type": "markdown",
      "metadata": {},
      "source": [
        "#### The following example defines a list of strings:"
      ]
    },
    {
      "cell_type": "code",
      "execution_count": 103,
      "metadata": {},
      "outputs": [],
      "source": [
        "colors = ['red', 'blue', 'green']\n",
        "red = colors[0]\n",
        "blue = colors[1]\n",
        "green = colors[2]\n",
        "\n",
        "red, blue, green = colors"
      ]
    },
    {
      "cell_type": "code",
      "execution_count": 104,
      "metadata": {},
      "outputs": [
        {
          "ename": "ValueError",
          "evalue": "too many values to unpack (expected 2)",
          "output_type": "error",
          "traceback": [
            "\u001b[1;31m---------------------------------------------------------------------------\u001b[0m",
            "\u001b[1;31mValueError\u001b[0m                                Traceback (most recent call last)",
            "Cell \u001b[1;32mIn[104], line 2\u001b[0m\n\u001b[0;32m      1\u001b[0m colors \u001b[38;5;241m=\u001b[39m [\u001b[38;5;124m'\u001b[39m\u001b[38;5;124mred\u001b[39m\u001b[38;5;124m'\u001b[39m, \u001b[38;5;124m'\u001b[39m\u001b[38;5;124mblue\u001b[39m\u001b[38;5;124m'\u001b[39m, \u001b[38;5;124m'\u001b[39m\u001b[38;5;124mgreen\u001b[39m\u001b[38;5;124m'\u001b[39m]\n\u001b[1;32m----> 2\u001b[0m red, blue \u001b[38;5;241m=\u001b[39m colors\n",
            "\u001b[1;31mValueError\u001b[0m: too many values to unpack (expected 2)"
          ]
        }
      ],
      "source": [
        "colors = ['red', 'blue', 'green']\n",
        "red, blue = colors\n"
      ]
    },
    {
      "cell_type": "markdown",
      "metadata": {},
      "source": [
        "#### Unpacking and packing\n"
      ]
    },
    {
      "cell_type": "code",
      "execution_count": 105,
      "metadata": {},
      "outputs": [
        {
          "name": "stdout",
          "output_type": "stream",
          "text": [
            "red\n",
            "blue\n",
            "['green']\n"
          ]
        }
      ],
      "source": [
        "colors = ['red', 'blue', 'green']\n",
        "red, blue, *other = colors\n",
        "\n",
        "print(red)\n",
        "print(blue)\n",
        "print(other)"
      ]
    },
    {
      "cell_type": "code",
      "execution_count": 116,
      "metadata": {
        "id": "S5t2JhKEm0Lh"
      },
      "outputs": [
        {
          "name": "stdout",
          "output_type": "stream",
          "text": [
            "cyan\n",
            "magenta\n",
            "['yellow', 'black']\n"
          ]
        }
      ],
      "source": [
        "colors = ['cyan', 'magenta', 'yellow', 'black']\n",
        "cyan, magenta, *other = colors\n",
        "print(cyan)\n",
        "print(magenta)\n",
        "print(other)\n"
      ]
    },
    {
      "cell_type": "markdown",
      "metadata": {},
      "source": [
        "## How to Use a For Loop to Iterate over a List\n"
      ]
    },
    {
      "cell_type": "markdown",
      "metadata": {
        "id": "0AFsquCKnQFe"
      },
      "source": [
        "#### Iterate in List"
      ]
    },
    {
      "cell_type": "code",
      "execution_count": 117,
      "metadata": {
        "id": "EsFgbtFGnTEn"
      },
      "outputs": [
        {
          "name": "stdout",
          "output_type": "stream",
          "text": [
            "New York\n",
            "Beijing\n",
            "Cairo\n",
            "Mumbai\n",
            "Mexico\n"
          ]
        }
      ],
      "source": [
        "cities = ['New York', 'Beijing', 'Cairo', 'Mumbai', 'Mexico']\n",
        "\n",
        "for city in cities:\n",
        "    print(city)"
      ]
    },
    {
      "cell_type": "markdown",
      "metadata": {},
      "source": [
        "#### Using Python for loop to iterate over a list with index\n"
      ]
    },
    {
      "cell_type": "code",
      "execution_count": 119,
      "metadata": {},
      "outputs": [
        {
          "name": "stdout",
          "output_type": "stream",
          "text": [
            "(0, 'New York')\n",
            "(1, 'Beijing')\n",
            "(2, 'Cairo')\n",
            "(3, 'Mumbai')\n",
            "(4, 'Mexico')\n"
          ]
        }
      ],
      "source": [
        "cities = ['New York', 'Beijing', 'Cairo', 'Mumbai', 'Mexico']\n",
        "\n",
        "for item in enumerate(cities):\n",
        "    print(item)"
      ]
    },
    {
      "cell_type": "code",
      "execution_count": 120,
      "metadata": {},
      "outputs": [
        {
          "name": "stdout",
          "output_type": "stream",
          "text": [
            "0: New York\n",
            "1: Beijing\n",
            "2: Cairo\n",
            "3: Mumbai\n",
            "4: Mexico\n"
          ]
        }
      ],
      "source": [
        "cities = ['New York', 'Beijing', 'Cairo', 'Mumbai', 'Mexico']\n",
        "\n",
        "for index, city in enumerate(cities):\n",
        "    print(f\"{index}: {city}\")"
      ]
    },
    {
      "cell_type": "code",
      "execution_count": 121,
      "metadata": {},
      "outputs": [
        {
          "name": "stdout",
          "output_type": "stream",
          "text": [
            "1: New York\n",
            "2: Beijing\n",
            "3: Cairo\n",
            "4: Mumbai\n",
            "5: Mexico\n"
          ]
        }
      ],
      "source": [
        "cities = ['New York', 'Beijing', 'Cairo', 'Mumbai', 'Mexico']\n",
        "\n",
        "for index, city in enumerate(cities,1):\n",
        "    print(f\"{index}: {city}\")"
      ]
    },
    {
      "cell_type": "markdown",
      "metadata": {
        "id": "fS1vy5YQn_KW"
      },
      "source": [
        "## How to Find the Index of an Element in a List"
      ]
    },
    {
      "cell_type": "code",
      "execution_count": 118,
      "metadata": {
        "id": "Gmfdc7bVoNIC"
      },
      "outputs": [
        {
          "name": "stdout",
          "output_type": "stream",
          "text": [
            "3\n"
          ]
        }
      ],
      "source": [
        "cities = ['New York', 'Beijing', 'Cairo', 'Mumbai', 'Mexico']\n",
        "\n",
        "result = cities.index('Mumbai')\n",
        "print(result)\n"
      ]
    },
    {
      "cell_type": "code",
      "execution_count": 106,
      "metadata": {
        "id": "Vbe12EI9oN3a"
      },
      "outputs": [
        {
          "name": "stdout",
          "output_type": "stream",
          "text": [
            "Osaka doesn't exist in the list.\n"
          ]
        }
      ],
      "source": [
        "cities = ['New York', 'Beijing', 'Cairo', 'Mumbai', 'Mexico']\n",
        "city = 'Osaka'\n",
        "\n",
        "if city in cities:\n",
        "    result = cities.index(city)\n",
        "    print(f\"The {city} has an index of {result}.\")\n",
        "else:\n",
        "    print(f\"{city} doesn't exist in the list.\")\n"
      ]
    },
    {
      "cell_type": "markdown",
      "metadata": {
        "id": "p55gieaIoZBh"
      },
      "source": [
        "## Python Iterables"
      ]
    },
    {
      "cell_type": "code",
      "execution_count": 107,
      "metadata": {},
      "outputs": [
        {
          "name": "stdout",
          "output_type": "stream",
          "text": [
            "0\n",
            "1\n",
            "2\n"
          ]
        }
      ],
      "source": [
        "for index in range(3):\n",
        "    print(index)"
      ]
    },
    {
      "cell_type": "code",
      "execution_count": 124,
      "metadata": {},
      "outputs": [
        {
          "name": "stdout",
          "output_type": "stream",
          "text": [
            "red\n"
          ]
        }
      ],
      "source": [
        "colors = ['red', 'green', 'blue']\n",
        "colors_iter = iter(colors)\n",
        "\n",
        "color = next(colors_iter)\n",
        "print(color)"
      ]
    },
    {
      "cell_type": "code",
      "execution_count": 125,
      "metadata": {
        "id": "QWg_ttkdohk5"
      },
      "outputs": [
        {
          "name": "stdout",
          "output_type": "stream",
          "text": [
            "red\n",
            "green\n",
            "blue\n"
          ]
        }
      ],
      "source": [
        "colors = ['red', 'green', 'blue']\n",
        "colors_iter = iter(colors)\n",
        "\n",
        "color = next(colors_iter)\n",
        "print(color)\n",
        "\n",
        "color = next(colors_iter)\n",
        "print(color)\n",
        "\n",
        "color = next(colors_iter)\n",
        "print(color)"
      ]
    },
    {
      "cell_type": "code",
      "execution_count": 126,
      "metadata": {
        "id": "w1MgImmionnE"
      },
      "outputs": [
        {
          "name": "stdout",
          "output_type": "stream",
          "text": [
            "red\n",
            "green\n",
            "blue\n"
          ]
        }
      ],
      "source": [
        "colors = ['red', 'green', 'blue']\n",
        "iterator = iter(colors)\n",
        "\n",
        "for color in iterator:\n",
        "    print(color)\n"
      ]
    },
    {
      "cell_type": "code",
      "execution_count": 108,
      "metadata": {},
      "outputs": [
        {
          "name": "stdout",
          "output_type": "stream",
          "text": [
            "red\n",
            "green\n",
            "blue\n"
          ]
        },
        {
          "ename": "StopIteration",
          "evalue": "",
          "output_type": "error",
          "traceback": [
            "\u001b[1;31m---------------------------------------------------------------------------\u001b[0m",
            "\u001b[1;31mStopIteration\u001b[0m                             Traceback (most recent call last)",
            "Cell \u001b[1;32mIn[108], line 14\u001b[0m\n\u001b[0;32m     11\u001b[0m \u001b[38;5;28mprint\u001b[39m(color)\n\u001b[0;32m     13\u001b[0m \u001b[38;5;66;03m# cause an excpetion\u001b[39;00m\n\u001b[1;32m---> 14\u001b[0m color \u001b[38;5;241m=\u001b[39m \u001b[38;5;28;43mnext\u001b[39;49m\u001b[43m(\u001b[49m\u001b[43mcolors_iter\u001b[49m\u001b[43m)\u001b[49m\n\u001b[0;32m     15\u001b[0m \u001b[38;5;28mprint\u001b[39m(color)\n",
            "\u001b[1;31mStopIteration\u001b[0m: "
          ]
        }
      ],
      "source": [
        "colors = ['red', 'green', 'blue']\n",
        "colors_iter = iter(colors)\n",
        "\n",
        "color = next(colors_iter)\n",
        "print(color)\n",
        "\n",
        "color = next(colors_iter)\n",
        "print(color)\n",
        "\n",
        "color = next(colors_iter)\n",
        "print(color)\n",
        "\n",
        "# cause an excpetion\n",
        "color = next(colors_iter)\n",
        "print(color)\n"
      ]
    },
    {
      "cell_type": "code",
      "execution_count": 109,
      "metadata": {},
      "outputs": [
        {
          "name": "stdout",
          "output_type": "stream",
          "text": [
            "red\n",
            "green\n",
            "blue\n"
          ]
        }
      ],
      "source": [
        "colors = ['red', 'green', 'blue']\n",
        "iterator = iter(colors)\n",
        "\n",
        "for color in iterator:\n",
        "    print(color)\n"
      ]
    },
    {
      "cell_type": "markdown",
      "metadata": {
        "id": "KiGgNI6UosLC"
      },
      "source": [
        "## Transform, Filter and Reduce List elements"
      ]
    },
    {
      "cell_type": "code",
      "execution_count": 127,
      "metadata": {},
      "outputs": [
        {
          "name": "stdout",
          "output_type": "stream",
          "text": [
            "[200, 400, 600]\n"
          ]
        }
      ],
      "source": [
        "bonuses = [100, 200, 300]\n",
        "\n",
        "new_bonuses = []\n",
        "\n",
        "for bonus in bonuses:\n",
        "    new_bonuses.append(bonus*2)\n",
        "\n",
        "print(new_bonuses)\n"
      ]
    },
    {
      "cell_type": "markdown",
      "metadata": {
        "id": "qdVGNvsRozC4"
      },
      "source": [
        "#### 1)Using the Python map() function for a list of strings"
      ]
    },
    {
      "cell_type": "code",
      "execution_count": 128,
      "metadata": {
        "id": "TzUz45vlo7el"
      },
      "outputs": [
        {
          "name": "stdout",
          "output_type": "stream",
          "text": [
            "['David', 'Peter', 'Jenifer']\n"
          ]
        }
      ],
      "source": [
        "names = ['david', 'peter', 'jenifer']\n",
        "new_names = map(lambda name: name.capitalize(), names)\n",
        "print(list(new_names))\n"
      ]
    },
    {
      "cell_type": "markdown",
      "metadata": {},
      "source": [
        "#### 2) Using the Python map() function to a list of tuples\n"
      ]
    },
    {
      "cell_type": "code",
      "execution_count": 129,
      "metadata": {},
      "outputs": [
        {
          "name": "stdout",
          "output_type": "stream",
          "text": [
            "[['SmartPhone', 400, 40.0], ['Tablet', 450, 45.0], ['Laptop', 700, 70.0]]\n"
          ]
        }
      ],
      "source": [
        "carts = [['SmartPhone', 400],\n",
        "         ['Tablet', 450],\n",
        "         ['Laptop', 700]]\n",
        "\n",
        "TAX = 0.1\n",
        "carts = map(lambda item: [item[0], item[1], item[1] * TAX], carts)\n",
        "\n",
        "print(list(carts))"
      ]
    },
    {
      "cell_type": "markdown",
      "metadata": {},
      "source": [
        "## How to Filter List Elements in Python\n"
      ]
    },
    {
      "cell_type": "code",
      "execution_count": 130,
      "metadata": {},
      "outputs": [
        {
          "name": "stdout",
          "output_type": "stream",
          "text": [
            "[70, 80, 90]\n"
          ]
        }
      ],
      "source": [
        "scores = [70, 60, 80, 90, 50]\n",
        "\n",
        "filtered = []\n",
        "\n",
        "for score in scores:\n",
        "    if score >= 70:\n",
        "        filtered.append(score)\n",
        "\n",
        "print(filtered)"
      ]
    },
    {
      "cell_type": "markdown",
      "metadata": {
        "id": "Mv30a17hpJAU"
      },
      "source": [
        "### Python filter() function to filter a list of tuples"
      ]
    },
    {
      "cell_type": "code",
      "execution_count": 131,
      "metadata": {
        "id": "MeRjGNappKCi"
      },
      "outputs": [
        {
          "name": "stdout",
          "output_type": "stream",
          "text": [
            "[['China', 1394015977], ['United States', 329877505], ['India', 1326093247]]\n"
          ]
        }
      ],
      "source": [
        "countries = [\n",
        "    ['China', 1394015977],\n",
        "    ['United States', 329877505],\n",
        "    ['India', 1326093247],\n",
        "    ['Indonesia', 267026366],\n",
        "    ['Bangladesh', 162650853],\n",
        "    ['Pakistan', 233500636],\n",
        "    ['Nigeria', 214028302],\n",
        "    ['Brazil', 21171597],\n",
        "    ['Russia', 141722205],\n",
        "    ['Mexico', 128649565]\n",
        "]\n",
        "\n",
        "populated = filter(lambda c: c[1] > 300000000, countries)\n",
        "\n",
        "print(list(populated))\n"
      ]
    },
    {
      "cell_type": "markdown",
      "metadata": {
        "id": "8bw0TdCrpeob"
      },
      "source": [
        "## How to Use the Python Reduce() function to Reduce a List into a Single Value\n"
      ]
    },
    {
      "cell_type": "code",
      "execution_count": 132,
      "metadata": {},
      "outputs": [
        {
          "name": "stdout",
          "output_type": "stream",
          "text": [
            "365\n"
          ]
        }
      ],
      "source": [
        "scores = [75, 65, 80, 95, 50]\n",
        "\n",
        "total = 0\n",
        "\n",
        "for score in scores:\n",
        "    total += score\n",
        "\n",
        "print(total)\n"
      ]
    },
    {
      "cell_type": "code",
      "execution_count": 133,
      "metadata": {
        "id": "m2v-dSKTpf9D"
      },
      "outputs": [
        {
          "name": "stdout",
          "output_type": "stream",
          "text": [
            "a=75, b=65, 75 + 65 =140\n",
            "a=140, b=80, 140 + 80 =220\n",
            "a=220, b=95, 220 + 95 =315\n",
            "a=315, b=50, 315 + 50 =365\n",
            "365\n"
          ]
        }
      ],
      "source": [
        "from functools import reduce\n",
        "\n",
        "def sum(a, b):\n",
        "    print(f\"a={a}, b={b}, {a} + {b} ={a+b}\")\n",
        "    return a + b\n",
        "\n",
        "\n",
        "scores = [75, 65, 80, 95, 50]\n",
        "total = reduce(sum, scores)\n",
        "print(total)\n"
      ]
    },
    {
      "cell_type": "code",
      "execution_count": 134,
      "metadata": {},
      "outputs": [
        {
          "name": "stdout",
          "output_type": "stream",
          "text": [
            "365\n"
          ]
        }
      ],
      "source": [
        "from functools import reduce\n",
        "\n",
        "scores = [75, 65, 80, 95, 50]\n",
        "\n",
        "total = reduce(lambda a, b: a + b, scores)\n",
        "\n",
        "print(total)"
      ]
    },
    {
      "cell_type": "markdown",
      "metadata": {
        "id": "X5q2hQ8AprIy"
      },
      "source": [
        "## Python List Comprehensions\n"
      ]
    },
    {
      "cell_type": "code",
      "execution_count": 135,
      "metadata": {},
      "outputs": [
        {
          "name": "stdout",
          "output_type": "stream",
          "text": [
            "[1, 4, 9, 16, 25]\n"
          ]
        }
      ],
      "source": [
        "numbers = [1, 2, 3, 4, 5]\n",
        "\n",
        "squares = []\n",
        "for number in numbers:\n",
        "    squares.append(number**2)\n",
        "\n",
        "print(squares)\n"
      ]
    },
    {
      "cell_type": "markdown",
      "metadata": {
        "id": "M_vpNNYsp1BD"
      },
      "source": [
        "### Python list comprehension with if condition"
      ]
    },
    {
      "cell_type": "code",
      "execution_count": 137,
      "metadata": {
        "id": "Os7goil3p3Kw"
      },
      "outputs": [
        {
          "name": "stdout",
          "output_type": "stream",
          "text": [
            "[['K2', 8611], ['Everest', 8848]]\n"
          ]
        }
      ],
      "source": [
        "mountains = [\n",
        "    ['Makalu', 8485],\n",
        "    ['Lhotse', 8516],\n",
        "    ['Kanchendzonga', 8586],\n",
        "    ['K2', 8611],\n",
        "    ['Everest', 8848]\n",
        "]\n",
        "\n",
        "\n",
        "highest_mountains = list(filter(lambda m: m[1] > 8600, mountains))\n",
        "\n",
        "print(highest_mountains)"
      ]
    },
    {
      "cell_type": "markdown",
      "metadata": {
        "id": "48D9YGmMs4MK"
      },
      "source": [
        "# SECTION 6 : DICTIONARIES"
      ]
    },
    {
      "cell_type": "code",
      "execution_count": 140,
      "metadata": {},
      "outputs": [
        {
          "name": "stdout",
          "output_type": "stream",
          "text": [
            "{'first_name': 'John', 'last_name': 'Doe', 'age': 25, 'favorite_colors': ['blue', 'green'], 'active': True}\n"
          ]
        }
      ],
      "source": [
        "person = {\n",
        "    'first_name': 'John',\n",
        "    'last_name': 'Doe',\n",
        "    'age': 25,\n",
        "    'favorite_colors': ['blue', 'green'],\n",
        "    'active': True\n",
        "}\n",
        "print(person)"
      ]
    },
    {
      "cell_type": "markdown",
      "metadata": {
        "id": "H93XY_J0tHhx"
      },
      "source": [
        "### Accessing values in a Dictionary"
      ]
    },
    {
      "cell_type": "markdown",
      "metadata": {},
      "source": [
        "#### 1) Using square bracket notation\n"
      ]
    },
    {
      "cell_type": "code",
      "execution_count": 141,
      "metadata": {
        "id": "RvFX3xlFtKm0"
      },
      "outputs": [
        {
          "name": "stdout",
          "output_type": "stream",
          "text": [
            "John\n",
            "Doe\n"
          ]
        }
      ],
      "source": [
        "person = {\n",
        "    'first_name': 'John',\n",
        "    'last_name': 'Doe',\n",
        "    'age': 25,\n",
        "    'favorite_colors': ['blue', 'green'],\n",
        "    'active': True\n",
        "}\n",
        "print(person['first_name'])\n",
        "print(person['last_name'])"
      ]
    },
    {
      "cell_type": "markdown",
      "metadata": {},
      "source": [
        "### 2) Using the get() method\n"
      ]
    },
    {
      "cell_type": "code",
      "execution_count": 144,
      "metadata": {},
      "outputs": [
        {
          "name": "stdout",
          "output_type": "stream",
          "text": [
            "000-00-0000\n"
          ]
        }
      ],
      "source": [
        "person = {\n",
        "    'first_name': 'John',\n",
        "    'last_name': 'Doe',\n",
        "    'age': 25,\n",
        "    'favorite_colors': ['blue', 'green'],\n",
        "    'active': True\n",
        "}\n",
        "\n",
        "ssn = person.get('ssn', '000-00-0000')\n",
        "print(ssn)"
      ]
    },
    {
      "cell_type": "markdown",
      "metadata": {},
      "source": [
        "#### Modifying values in a key-value pair\n"
      ]
    },
    {
      "cell_type": "code",
      "execution_count": 145,
      "metadata": {},
      "outputs": [
        {
          "name": "stdout",
          "output_type": "stream",
          "text": [
            "{'first_name': 'John', 'last_name': 'Doe', 'age': 26, 'favorite_colors': ['blue', 'green'], 'active': True}\n"
          ]
        }
      ],
      "source": [
        "person = {\n",
        "    'first_name': 'John',\n",
        "    'last_name': 'Doe',\n",
        "    'age': 25,\n",
        "    'favorite_colors': ['blue', 'green'],\n",
        "    'active': True\n",
        "}\n",
        "\n",
        "person['age'] = 26\n",
        "\n",
        "print(person)"
      ]
    },
    {
      "cell_type": "markdown",
      "metadata": {},
      "source": [
        "#### Removing key-value pairs\n"
      ]
    },
    {
      "cell_type": "code",
      "execution_count": 146,
      "metadata": {},
      "outputs": [
        {
          "name": "stdout",
          "output_type": "stream",
          "text": [
            "{'first_name': 'John', 'last_name': 'Doe', 'age': 25, 'favorite_colors': ['blue', 'green']}\n"
          ]
        }
      ],
      "source": [
        "person = {\n",
        "    'first_name': 'John',\n",
        "    'last_name': 'Doe',\n",
        "    'age': 25,\n",
        "    'favorite_colors': ['blue', 'green'],\n",
        "    'active': True\n",
        "}\n",
        "\n",
        "del person['active']\n",
        "print(person)"
      ]
    },
    {
      "cell_type": "markdown",
      "metadata": {
        "id": "-xQoeIfdtWVt"
      },
      "source": [
        "### 1)Looping through a dictionary"
      ]
    },
    {
      "cell_type": "code",
      "execution_count": 110,
      "metadata": {},
      "outputs": [
        {
          "name": "stdout",
          "output_type": "stream",
          "text": [
            "dict_items([('first_name', 'John'), ('last_name', 'Doe'), ('age', 25), ('favorite_colors', ['blue', 'green']), ('active', True)])\n"
          ]
        }
      ],
      "source": [
        "person = {\n",
        "    'first_name': 'John',\n",
        "    'last_name': 'Doe',\n",
        "    'age': 25,\n",
        "    'favorite_colors': ['blue', 'green'],\n",
        "    'active': True\n",
        "}\n",
        "\n",
        "print(person.items())"
      ]
    },
    {
      "cell_type": "code",
      "execution_count": 147,
      "metadata": {
        "id": "LQ8kWgYEtagD"
      },
      "outputs": [
        {
          "name": "stdout",
          "output_type": "stream",
          "text": [
            "first_name\n",
            "last_name\n",
            "age\n",
            "favorite_colors\n",
            "active\n"
          ]
        }
      ],
      "source": [
        "\n",
        "person = {\n",
        "    'first_name': 'John',\n",
        "    'last_name': 'Doe',\n",
        "    'age': 25,\n",
        "    'favorite_colors': ['blue', 'green'],\n",
        "    'active': True\n",
        "}\n",
        "\n",
        "for key in person.keys():\n",
        "    print(key)"
      ]
    },
    {
      "cell_type": "code",
      "execution_count": 111,
      "metadata": {},
      "outputs": [
        {
          "name": "stdout",
          "output_type": "stream",
          "text": [
            "first_name: John\n",
            "last_name: Doe\n",
            "age: 25\n",
            "favorite_colors: ['blue', 'green']\n",
            "active: True\n"
          ]
        }
      ],
      "source": [
        "person = {\n",
        "    'first_name': 'John',\n",
        "    'last_name': 'Doe',\n",
        "    'age': 25,\n",
        "    'favorite_colors': ['blue', 'green'],\n",
        "    'active': True\n",
        "}\n",
        "\n",
        "for key, value in person.items():\n",
        "    print(f\"{key}: {value}\")"
      ]
    },
    {
      "cell_type": "code",
      "execution_count": 149,
      "metadata": {
        "id": "esKj7r3Kte7b"
      },
      "outputs": [
        {
          "name": "stdout",
          "output_type": "stream",
          "text": [
            "first_name: John\n",
            "last_name: Doe\n",
            "age: 25\n",
            "favorite_colors: ['blue', 'green']\n",
            "active: True\n"
          ]
        }
      ],
      "source": [
        "person = {\n",
        "    'first_name': 'John',\n",
        "    'last_name': 'Doe',\n",
        "    'age': 25,\n",
        "    'favorite_colors': ['blue', 'green'],\n",
        "    'active': True\n",
        "}\n",
        "\n",
        "for key, value in person.items():\n",
        "    print(f\"{key}: {value}\")"
      ]
    },
    {
      "cell_type": "markdown",
      "metadata": {},
      "source": [
        "### 2) Looping through all the keys in a dictionary\n"
      ]
    },
    {
      "cell_type": "code",
      "execution_count": 150,
      "metadata": {},
      "outputs": [
        {
          "name": "stdout",
          "output_type": "stream",
          "text": [
            "first_name\n",
            "last_name\n",
            "age\n",
            "favorite_colors\n",
            "active\n"
          ]
        }
      ],
      "source": [
        "person = {\n",
        "    'first_name': 'John',\n",
        "    'last_name': 'Doe',\n",
        "    'age': 25,\n",
        "    'favorite_colors': ['blue', 'green'],\n",
        "    'active': True\n",
        "}\n",
        "\n",
        "for key in person:\n",
        "    print(key)"
      ]
    },
    {
      "cell_type": "markdown",
      "metadata": {},
      "source": [
        "### 3) Looping through all the values in a dictionary\n"
      ]
    },
    {
      "cell_type": "code",
      "execution_count": 151,
      "metadata": {},
      "outputs": [
        {
          "name": "stdout",
          "output_type": "stream",
          "text": [
            "John\n",
            "Doe\n",
            "25\n",
            "['blue', 'green']\n",
            "True\n"
          ]
        }
      ],
      "source": [
        "person = {\n",
        "    'first_name': 'John',\n",
        "    'last_name': 'Doe',\n",
        "    'age': 25,\n",
        "    'favorite_colors': ['blue', 'green'],\n",
        "    'active': True\n",
        "}\n",
        "\n",
        "for value in person.values():\n",
        "    print(value)\n"
      ]
    },
    {
      "cell_type": "markdown",
      "metadata": {},
      "source": [
        "## Python Dictionary Comprehension\n"
      ]
    },
    {
      "cell_type": "markdown",
      "metadata": {
        "id": "9Ytyp-pttpyz"
      },
      "source": [
        "#### 1)Using Python dictionary comprehension to transform a dictionary"
      ]
    },
    {
      "cell_type": "code",
      "execution_count": 152,
      "metadata": {
        "id": "-1CB418wtq2n"
      },
      "outputs": [
        {
          "name": "stdout",
          "output_type": "stream",
          "text": [
            "{'AAPL': 123.42, 'AMZN': 3447.6, 'MSFT': 223.38, 'BIIB': 285.6, 'QDEL': 271.32, 'LVGO': 146.88}\n"
          ]
        }
      ],
      "source": [
        "stocks = {\n",
        "    'AAPL': 121,\n",
        "    'AMZN': 3380,\n",
        "    'MSFT': 219,\n",
        "    'BIIB': 280,\n",
        "    'QDEL': 266,\n",
        "    'LVGO': 144\n",
        "}\n",
        "\n",
        "new_stocks = {}\n",
        "for symbol, price in stocks.items():\n",
        "    new_stocks[symbol] = price*1.02\n",
        "\n",
        "print(new_stocks)\n"
      ]
    },
    {
      "cell_type": "markdown",
      "metadata": {
        "id": "ipha_wohtxib"
      },
      "source": [
        "#### 2)Using Python dictionary comprehension to filter a dictionary\n"
      ]
    },
    {
      "cell_type": "code",
      "execution_count": 153,
      "metadata": {
        "id": "bfaaDmeAtytQ"
      },
      "outputs": [
        {
          "name": "stdout",
          "output_type": "stream",
          "text": [
            "{'AMZN': 3380, 'MSFT': 219, 'BIIB': 280, 'QDEL': 266}\n"
          ]
        }
      ],
      "source": [
        "stocks = {\n",
        "    'AAPL': 121,\n",
        "    'AMZN': 3380,\n",
        "    'MSFT': 219,\n",
        "    'BIIB': 280,\n",
        "    'QDEL': 266,\n",
        "    'LVGO': 144\n",
        "}\n",
        "\n",
        "selected_stocks = {}\n",
        "for symbol, price in stocks.items():\n",
        "    if price > 200:\n",
        "        selected_stocks[symbol] = price\n",
        "\n",
        "print(selected_stocks)\n"
      ]
    },
    {
      "cell_type": "markdown",
      "metadata": {
        "id": "LOnM_ZM2t5J8"
      },
      "source": [
        "# SECTION 7 : SETS"
      ]
    },
    {
      "cell_type": "code",
      "execution_count": 112,
      "metadata": {},
      "outputs": [
        {
          "name": "stdout",
          "output_type": "stream",
          "text": [
            "Empty sets are falsy\n"
          ]
        }
      ],
      "source": [
        "skills = set()\n",
        "\n",
        "if not skills:\n",
        "    print('Empty sets are falsy')\n"
      ]
    },
    {
      "cell_type": "code",
      "execution_count": 113,
      "metadata": {},
      "outputs": [
        {
          "name": "stdout",
          "output_type": "stream",
          "text": [
            "{'Problem solving', 'Critical Thinking'}\n"
          ]
        }
      ],
      "source": [
        "skills = set(['Problem solving','Critical Thinking'])\n",
        "print(skills)"
      ]
    },
    {
      "cell_type": "code",
      "execution_count": 154,
      "metadata": {},
      "outputs": [
        {
          "name": "stdout",
          "output_type": "stream",
          "text": [
            "{'e', 'r', 't', 'l'}\n"
          ]
        }
      ],
      "source": [
        "characters = set('letter')\n",
        "print(characters)"
      ]
    },
    {
      "cell_type": "markdown",
      "metadata": {},
      "source": [
        "#### Getting sizes of a set\n"
      ]
    },
    {
      "cell_type": "code",
      "execution_count": 155,
      "metadata": {},
      "outputs": [
        {
          "name": "stdout",
          "output_type": "stream",
          "text": [
            "5\n"
          ]
        }
      ],
      "source": [
        "ratings = {1, 2, 3, 4, 5}\n",
        "size = len(ratings)\n",
        "\n",
        "print(size)    "
      ]
    },
    {
      "cell_type": "markdown",
      "metadata": {},
      "source": [
        "#### Checking if an element is in a set\n"
      ]
    },
    {
      "cell_type": "code",
      "execution_count": 116,
      "metadata": {},
      "outputs": [
        {
          "name": "stdout",
          "output_type": "stream",
          "text": [
            "The set contain 2\n"
          ]
        }
      ],
      "source": [
        "ratings = {1, 2, 3, 4, 5}\n",
        "rating = 2\n",
        "\n",
        "if rating  in ratings:\n",
        "    print(f'The set contain {rating}')\n"
      ]
    },
    {
      "cell_type": "code",
      "execution_count": 117,
      "metadata": {},
      "outputs": [
        {
          "name": "stdout",
          "output_type": "stream",
          "text": [
            "The set does not contain 6\n"
          ]
        }
      ],
      "source": [
        "ratings = {1, 2, 3, 4, 5}\n",
        "rating = 6\n",
        "\n",
        "if rating not in ratings:\n",
        "    print(f'The set does not contain {rating}')\n"
      ]
    },
    {
      "cell_type": "markdown",
      "metadata": {},
      "source": [
        "### Adding elements to a set\n"
      ]
    },
    {
      "cell_type": "code",
      "execution_count": 157,
      "metadata": {},
      "outputs": [
        {
          "name": "stdout",
          "output_type": "stream",
          "text": [
            "{'Python programming', 'Software design', 'Problem solving'}\n"
          ]
        }
      ],
      "source": [
        "skills = {'Python programming', 'Software design'}\n",
        "skills.add('Problem solving')\n",
        "\n",
        "print(skills)\n"
      ]
    },
    {
      "cell_type": "markdown",
      "metadata": {},
      "source": [
        "### Removing an element from a set\n"
      ]
    },
    {
      "cell_type": "code",
      "execution_count": 119,
      "metadata": {},
      "outputs": [
        {
          "name": "stdout",
          "output_type": "stream",
          "text": [
            "{'Problem solving', 'Python programming'}\n"
          ]
        }
      ],
      "source": [
        "skills = {'Problem solving', 'Software design', 'Python programming'}\n",
        "skills.remove('Software design')\n",
        "\n",
        "print(skills)"
      ]
    },
    {
      "cell_type": "markdown",
      "metadata": {},
      "source": [
        "### Returning an element from a set\n"
      ]
    },
    {
      "cell_type": "code",
      "execution_count": 159,
      "metadata": {},
      "outputs": [
        {
          "name": "stdout",
          "output_type": "stream",
          "text": [
            "Python programming\n",
            "set()\n"
          ]
        }
      ],
      "source": [
        "skills = {'Problem solving', 'Software design', 'Python programming'}\n",
        "skill = skills.pop()\n",
        "\n",
        "print(skill)\n",
        "\n",
        "skills = {'Problem solving', 'Software design', 'Python programming'}\n",
        "skills.clear()\n",
        "\n",
        "print(skills)\n",
        "\n"
      ]
    },
    {
      "cell_type": "markdown",
      "metadata": {},
      "source": [
        "### Frozen a set\n"
      ]
    },
    {
      "cell_type": "code",
      "execution_count": 160,
      "metadata": {},
      "outputs": [],
      "source": [
        "skills = {'Problem solving', 'Software design', 'Python programming'}\n",
        "skills = frozenset(skills)\n"
      ]
    },
    {
      "cell_type": "markdown",
      "metadata": {},
      "source": [
        "### Looping through set elements\n"
      ]
    },
    {
      "cell_type": "code",
      "execution_count": 163,
      "metadata": {},
      "outputs": [
        {
          "name": "stdout",
          "output_type": "stream",
          "text": [
            "Python programming\n",
            "Software design\n",
            "Problem solving\n",
            "0.Python programming\n",
            "1.Software design\n",
            "2.Problem solving\n",
            "1.Python programming\n",
            "2.Software design\n",
            "3.Problem solving\n"
          ]
        }
      ],
      "source": [
        "skills = {'Problem solving', 'Software design', 'Python programming'}\n",
        "\n",
        "for skill in skills:\n",
        "    print(skill)\n",
        "\n",
        "skills = {'Problem solving', 'Software design', 'Python programming'}\n",
        "\n",
        "for index, skill in enumerate(skills):\n",
        "    print(f\"{index}.{skill}\")\n",
        "\n",
        "skills = {'Problem solving', 'Software design', 'Python programming'}\n",
        "\n",
        "for index, skill in enumerate(skills, 1):\n",
        "    print(f\"{index}.{skill}\")"
      ]
    },
    {
      "cell_type": "markdown",
      "metadata": {
        "id": "AEOtEGxyuA-i"
      },
      "source": [
        "## SET AND SET COMPREHENSION"
      ]
    },
    {
      "cell_type": "markdown",
      "metadata": {},
      "source": [
        "#### Python Set Comprehension\n"
      ]
    },
    {
      "cell_type": "code",
      "execution_count": 164,
      "metadata": {},
      "outputs": [
        {
          "name": "stdout",
          "output_type": "stream",
          "text": [
            "{'django', 'pandas', 'numpy'}\n"
          ]
        }
      ],
      "source": [
        "tags = {'Django', 'Pandas', 'Numpy'}\n",
        "\n",
        "lowercase_tags = set()\n",
        "for tag in tags:\n",
        "    lowercase_tags.add(tag.lower())\n",
        "\n",
        "print(lowercase_tags)\n"
      ]
    },
    {
      "cell_type": "code",
      "execution_count": 165,
      "metadata": {},
      "outputs": [
        {
          "name": "stdout",
          "output_type": "stream",
          "text": [
            "{'django', 'pandas'}\n"
          ]
        }
      ],
      "source": [
        "tags = {'Django', 'Pandas', 'Numpy'}\n",
        "new_tags = {tag.lower() for tag in tags if tag != 'Numpy'}\n",
        "\n",
        "print(new_tags)\n"
      ]
    },
    {
      "cell_type": "markdown",
      "metadata": {},
      "source": [
        "## Python Set Union\n"
      ]
    },
    {
      "cell_type": "code",
      "execution_count": 166,
      "metadata": {},
      "outputs": [
        {
          "name": "stdout",
          "output_type": "stream",
          "text": [
            "{'C#', 'Java', 'Python'}\n"
          ]
        }
      ],
      "source": [
        "s1 = {'Python', 'Java'}\n",
        "s2 = {'C#', 'Java'}\n",
        "\n",
        "s = s1.union(s2)\n",
        "\n",
        "print(s)"
      ]
    },
    {
      "cell_type": "markdown",
      "metadata": {},
      "source": [
        "#### Union sets using the | operator\n"
      ]
    },
    {
      "cell_type": "code",
      "execution_count": 167,
      "metadata": {},
      "outputs": [
        {
          "name": "stdout",
          "output_type": "stream",
          "text": [
            "{'C#', 'Java', 'Python'}\n"
          ]
        }
      ],
      "source": [
        "s1 = {'Python', 'Java'}\n",
        "s2 = {'C#', 'Java'}\n",
        "\n",
        "s = s1 | s2\n",
        "\n",
        "print(s)"
      ]
    },
    {
      "cell_type": "markdown",
      "metadata": {},
      "source": [
        "#### The union() method vs. set union operator\n"
      ]
    },
    {
      "cell_type": "code",
      "execution_count": 2,
      "metadata": {},
      "outputs": [
        {
          "name": "stdout",
          "output_type": "stream",
          "text": [
            "{1, 2, 3, 4}\n"
          ]
        }
      ],
      "source": [
        "rates = {1, 2, 3}\n",
        "ranks = [2, 3, 4]\n",
        "\n",
        "ratings = rates.union(ranks)\n",
        "\n",
        "print(ratings)"
      ]
    },
    {
      "cell_type": "markdown",
      "metadata": {},
      "source": [
        "## Python Set Intersection\n"
      ]
    },
    {
      "cell_type": "markdown",
      "metadata": {},
      "source": [
        "#### 1) Using Python set intersection() method to intersect two or more sets\n",
        "\n"
      ]
    },
    {
      "cell_type": "code",
      "execution_count": 121,
      "metadata": {},
      "outputs": [
        {
          "name": "stdout",
          "output_type": "stream",
          "text": [
            "{'C++', 'Java'}\n"
          ]
        }
      ],
      "source": [
        "s1 = {'Python', 'Java', 'C++'}\n",
        "s2 = {'C#', 'Java', 'C++'}\n",
        "\n",
        "s = s1.intersection(s2)\n",
        "\n",
        "print(s)\n"
      ]
    },
    {
      "cell_type": "markdown",
      "metadata": {},
      "source": [
        "#### 2) Using Python set intersection (&) operator to intersect two or more sets\n"
      ]
    },
    {
      "cell_type": "code",
      "execution_count": 120,
      "metadata": {},
      "outputs": [
        {
          "name": "stdout",
          "output_type": "stream",
          "text": [
            "{'C++', 'Java'}\n"
          ]
        }
      ],
      "source": [
        "s1 = {'Python', 'Java', 'C++'}\n",
        "s2 = {'C#', 'Java', 'C++'}\n",
        "\n",
        "s = s1 & s2\n",
        "\n",
        "print(s)"
      ]
    },
    {
      "cell_type": "code",
      "execution_count": 122,
      "metadata": {},
      "outputs": [
        {
          "name": "stdout",
          "output_type": "stream",
          "text": [
            "{2, 3}\n"
          ]
        }
      ],
      "source": [
        "numbers = {1, 2, 3}\n",
        "scores = [2, 3, 4]\n",
        "\n",
        "numbers = numbers.intersection(scores)\n",
        "\n",
        "print(numbers)"
      ]
    },
    {
      "cell_type": "code",
      "execution_count": 123,
      "metadata": {},
      "outputs": [
        {
          "ename": "TypeError",
          "evalue": "unsupported operand type(s) for &: 'set' and 'list'",
          "output_type": "error",
          "traceback": [
            "\u001b[1;31m---------------------------------------------------------------------------\u001b[0m",
            "\u001b[1;31mTypeError\u001b[0m                                 Traceback (most recent call last)",
            "Cell \u001b[1;32mIn[123], line 4\u001b[0m\n\u001b[0;32m      1\u001b[0m numbers \u001b[38;5;241m=\u001b[39m {\u001b[38;5;241m1\u001b[39m, \u001b[38;5;241m2\u001b[39m, \u001b[38;5;241m3\u001b[39m}\n\u001b[0;32m      2\u001b[0m scores \u001b[38;5;241m=\u001b[39m [\u001b[38;5;241m2\u001b[39m, \u001b[38;5;241m3\u001b[39m, \u001b[38;5;241m4\u001b[39m]\n\u001b[1;32m----> 4\u001b[0m numbers \u001b[38;5;241m=\u001b[39m \u001b[43mnumbers\u001b[49m\u001b[43m \u001b[49m\u001b[38;5;241;43m&\u001b[39;49m\u001b[43m \u001b[49m\u001b[43mscores\u001b[49m\n\u001b[0;32m      6\u001b[0m \u001b[38;5;28mprint\u001b[39m(numbers)\n",
            "\u001b[1;31mTypeError\u001b[0m: unsupported operand type(s) for &: 'set' and 'list'"
          ]
        }
      ],
      "source": [
        "numbers = {1, 2, 3}\n",
        "scores = [2, 3, 4]\n",
        "\n",
        "numbers = numbers & scores\n",
        "\n",
        "print(numbers)"
      ]
    },
    {
      "cell_type": "markdown",
      "metadata": {},
      "source": [
        "## Python Set Difference\n"
      ]
    },
    {
      "cell_type": "markdown",
      "metadata": {},
      "source": [
        "#### 1) Using Python Set difference() method to find the difference between sets\n"
      ]
    },
    {
      "cell_type": "code",
      "execution_count": 171,
      "metadata": {},
      "outputs": [
        {
          "name": "stdout",
          "output_type": "stream",
          "text": [
            "{'Python'}\n"
          ]
        }
      ],
      "source": [
        "s1 = {'Python', 'Java', 'C++'}\n",
        "s2 = {'C#', 'Java', 'C++'}\n",
        "s = s1.difference(s2)\n",
        "\n",
        "print(s)"
      ]
    },
    {
      "cell_type": "code",
      "execution_count": 124,
      "metadata": {},
      "outputs": [
        {
          "name": "stdout",
          "output_type": "stream",
          "text": [
            "{'C#'}\n"
          ]
        }
      ],
      "source": [
        "s1 = {'Python', 'Java', 'C++'}\n",
        "s2 = {'C#', 'Java', 'C++'}\n",
        "s = s2.difference(s1)\n",
        "\n",
        "print(s)"
      ]
    },
    {
      "cell_type": "markdown",
      "metadata": {},
      "source": [
        "#### 2) Using Python set difference operator (-) to find the difference between sets\n"
      ]
    },
    {
      "cell_type": "code",
      "execution_count": 174,
      "metadata": {
        "id": "-Ce9zNwDvvJK"
      },
      "outputs": [
        {
          "name": "stdout",
          "output_type": "stream",
          "text": [
            "{'C#'}\n"
          ]
        }
      ],
      "source": [
        "s1 = {'Python', 'Java', 'C++'}\n",
        "s2 = {'C#', 'Java', 'C++'}\n",
        "s = s2 - s1\n",
        "\n",
        "print(s)\n"
      ]
    },
    {
      "cell_type": "markdown",
      "metadata": {
        "id": "Or64ElXHv1VT"
      },
      "source": [
        "## Python Symmetric Difference\n"
      ]
    },
    {
      "cell_type": "markdown",
      "metadata": {},
      "source": [
        "#### 1) Using the symmetric_difference() method to find the symmetric difference of sets\n"
      ]
    },
    {
      "cell_type": "code",
      "execution_count": 176,
      "metadata": {
        "id": "DSrk4YRxv6j6"
      },
      "outputs": [
        {
          "name": "stdout",
          "output_type": "stream",
          "text": [
            "{'C#', 'Python'}\n"
          ]
        }
      ],
      "source": [
        "s1 = {'Python', 'Java', 'C++'}\n",
        "s2 = {'C#', 'Java', 'C++'}\n",
        "\n",
        "s = s1.symmetric_difference(s2)\n",
        "\n",
        "print(s)\n"
      ]
    },
    {
      "cell_type": "markdown",
      "metadata": {},
      "source": [
        "#### 2) Using the symmetric difference operator(^) to find the symmetric difference of sets\n"
      ]
    },
    {
      "cell_type": "code",
      "execution_count": 177,
      "metadata": {},
      "outputs": [
        {
          "name": "stdout",
          "output_type": "stream",
          "text": [
            "{10, 7}\n"
          ]
        }
      ],
      "source": [
        "scores = {7, 8, 9}\n",
        "ratings = [8, 9, 10]\n",
        "new_set = scores.symmetric_difference(ratings)\n",
        "\n",
        "print(new_set)"
      ]
    },
    {
      "cell_type": "markdown",
      "metadata": {},
      "source": [
        "## Python issubset\n"
      ]
    },
    {
      "cell_type": "code",
      "execution_count": 178,
      "metadata": {},
      "outputs": [
        {
          "name": "stdout",
          "output_type": "stream",
          "text": [
            "True\n"
          ]
        }
      ],
      "source": [
        "numbers = {1, 2, 3, 4, 5}\n",
        "scores = {1, 2, 3}\n",
        "\n",
        "print(scores.issubset(numbers))"
      ]
    },
    {
      "cell_type": "code",
      "execution_count": 125,
      "metadata": {},
      "outputs": [
        {
          "name": "stdout",
          "output_type": "stream",
          "text": [
            "True\n"
          ]
        }
      ],
      "source": [
        "numbers = {1, 2, 3, 4, 5}\n",
        "\n",
        "print(numbers.issubset(numbers))"
      ]
    },
    {
      "cell_type": "code",
      "execution_count": 126,
      "metadata": {},
      "outputs": [
        {
          "name": "stdout",
          "output_type": "stream",
          "text": [
            "False\n"
          ]
        }
      ],
      "source": [
        "numbers = {1, 2, 3, 4, 5}\n",
        "scores = {1, 2, 3}\n",
        "\n",
        "print(numbers.issubset(scores))"
      ]
    },
    {
      "cell_type": "markdown",
      "metadata": {
        "id": "PeHk19ESwPIE"
      },
      "source": [
        "#### Using subset operators\n"
      ]
    },
    {
      "cell_type": "code",
      "execution_count": 127,
      "metadata": {
        "id": "IMOMTGcpwQ_r"
      },
      "outputs": [
        {
          "name": "stdout",
          "output_type": "stream",
          "text": [
            "True\n",
            "True\n"
          ]
        }
      ],
      "source": [
        "numbers = {1, 2, 3, 4, 5}\n",
        "scores = {1, 2, 3}\n",
        "\n",
        "result = scores <= numbers\n",
        "print(result) \n",
        "\n",
        "result = numbers <= numbers\n",
        "print(result)  "
      ]
    },
    {
      "cell_type": "code",
      "execution_count": 128,
      "metadata": {},
      "outputs": [
        {
          "name": "stdout",
          "output_type": "stream",
          "text": [
            "True\n",
            "False\n"
          ]
        }
      ],
      "source": [
        "numbers = {1, 2, 3, 4, 5}\n",
        "scores = {1, 2, 3}\n",
        "\n",
        "result = scores < numbers\n",
        "print(result)  # True\n",
        "\n",
        "result = numbers < numbers\n",
        "print(result)  # False"
      ]
    },
    {
      "cell_type": "markdown",
      "metadata": {},
      "source": [
        "## Python issuperset\n"
      ]
    },
    {
      "cell_type": "code",
      "execution_count": 130,
      "metadata": {},
      "outputs": [
        {
          "name": "stdout",
          "output_type": "stream",
          "text": [
            "True\n"
          ]
        }
      ],
      "source": [
        "numbers = {1, 2, 3, 4, 5}\n",
        "scores = {1, 2, 3}\n",
        "\n",
        "result = scores.issuperset(scores)\n",
        "\n",
        "print(result)"
      ]
    },
    {
      "cell_type": "code",
      "execution_count": 131,
      "metadata": {},
      "outputs": [
        {
          "name": "stdout",
          "output_type": "stream",
          "text": [
            "True\n"
          ]
        }
      ],
      "source": [
        "numbers = {1, 2, 3, 4, 5}\n",
        "result = numbers.issuperset(numbers)\n",
        "\n",
        "print(result)"
      ]
    },
    {
      "cell_type": "code",
      "execution_count": 132,
      "metadata": {},
      "outputs": [
        {
          "name": "stdout",
          "output_type": "stream",
          "text": [
            "False\n"
          ]
        }
      ],
      "source": [
        "numbers = {1, 2, 3, 4, 5}\n",
        "scores = {1, 2, 3}\n",
        "\n",
        "result = scores.issuperset(numbers)\n",
        "\n",
        "print(result)"
      ]
    },
    {
      "cell_type": "markdown",
      "metadata": {},
      "source": [
        "### Using superset operators\n"
      ]
    },
    {
      "cell_type": "code",
      "execution_count": 133,
      "metadata": {},
      "outputs": [
        {
          "name": "stdout",
          "output_type": "stream",
          "text": [
            "True\n",
            "True\n"
          ]
        }
      ],
      "source": [
        "numbers = {1, 2, 3, 4, 5}\n",
        "scores = {1, 2, 3}\n",
        "\n",
        "result = numbers >= scores\n",
        "print(result) \n",
        "\n",
        "result = numbers >= numbers\n",
        "print(result)  "
      ]
    },
    {
      "cell_type": "code",
      "execution_count": 134,
      "metadata": {},
      "outputs": [
        {
          "name": "stdout",
          "output_type": "stream",
          "text": [
            "True\n",
            "False\n"
          ]
        }
      ],
      "source": [
        "numbers = {1, 2, 3, 4, 5}\n",
        "scores = {1, 2, 3}\n",
        "\n",
        "result = numbers > scores\n",
        "print(result)  # True\n",
        "\n",
        "result = numbers > numbers\n",
        "print(result)  # True"
      ]
    },
    {
      "cell_type": "markdown",
      "metadata": {
        "id": "Ootk-o1iwUXh"
      },
      "source": [
        "## Python Disjoint Sets\n"
      ]
    },
    {
      "cell_type": "code",
      "execution_count": 135,
      "metadata": {},
      "outputs": [
        {
          "name": "stdout",
          "output_type": "stream",
          "text": [
            "True\n"
          ]
        }
      ],
      "source": [
        "odd_numbers = {1, 3, 5}\n",
        "even_numbers = {2, 4, 6}\n",
        "\n",
        "result = odd_numbers.isdisjoint(even_numbers)\n",
        "\n",
        "print(result)\n"
      ]
    },
    {
      "cell_type": "code",
      "execution_count": 182,
      "metadata": {
        "id": "EYVWo-96wWQq"
      },
      "outputs": [
        {
          "name": "stdout",
          "output_type": "stream",
          "text": [
            "False\n"
          ]
        }
      ],
      "source": [
        "letters = {'A', 'B', 'C'}\n",
        "alphanumerics = {'A', 1, 2}\n",
        "\n",
        "result = letters.isdisjoint(alphanumerics)\n",
        "\n",
        "print(result)"
      ]
    },
    {
      "cell_type": "code",
      "execution_count": 136,
      "metadata": {},
      "outputs": [
        {
          "name": "stdout",
          "output_type": "stream",
          "text": [
            "True\n"
          ]
        }
      ],
      "source": [
        "letters = {'A', 'B', 'C'}\n",
        "result = letters.isdisjoint([1, 2, 3])\n",
        "\n",
        "print(result)"
      ]
    },
    {
      "cell_type": "markdown",
      "metadata": {},
      "source": [
        "#### Python for else\n"
      ]
    },
    {
      "cell_type": "code",
      "execution_count": 138,
      "metadata": {},
      "outputs": [
        {
          "name": "stdout",
          "output_type": "stream",
          "text": [
            "age not found!\n"
          ]
        }
      ],
      "source": [
        "people = [{'name': 'John', 'age': 25},\n",
        "        {'name': 'Jane', 'age': 22},\n",
        "        {'name': 'Peter', 'age': 30},\n",
        "        {'name': 'Jenifer', 'age': 28}]\n",
        "\n",
        "name = input('Enter a name:')\n",
        "\n",
        "found = False\n",
        "for person in people:\n",
        "    if person['name'] == name:\n",
        "        found = True\n",
        "        print(person)\n",
        "        break\n",
        "\n",
        "if not found:\n",
        "    print(f'{name} not found!')\n"
      ]
    },
    {
      "cell_type": "markdown",
      "metadata": {},
      "source": [
        "#### Python while else"
      ]
    },
    {
      "cell_type": "code",
      "execution_count": 139,
      "metadata": {},
      "outputs": [
        {
          "name": "stdout",
          "output_type": "stream",
          "text": [
            "The basket has 10 orange(s)\n"
          ]
        }
      ],
      "source": [
        "basket = [\n",
        "    {'fruit': 'apple', 'qty': 20},\n",
        "    {'fruit': 'banana', 'qty': 30},\n",
        "    {'fruit': 'orange', 'qty': 10}\n",
        "]\n",
        "\n",
        "fruit = input('Enter a fruit:')\n",
        "\n",
        "index = 0\n",
        "found_it = False\n",
        "\n",
        "while index < len(basket):\n",
        "    item = basket[index]\n",
        "    # check the fruit name\n",
        "    if item['fruit'] == fruit:\n",
        "        found_it = True\n",
        "        print(f\"The basket has {item['qty']} {item['fruit']}(s)\")\n",
        "        break\n",
        "\n",
        "    index += 1\n",
        "\n",
        "if not found_it:\n",
        "    qty = int(input(f'Enter the qty for {fruit}:'))\n",
        "    basket.append({'fruit': fruit, 'qty': qty})\n",
        "    print(basket)"
      ]
    },
    {
      "cell_type": "markdown",
      "metadata": {},
      "source": [
        "#### Unpacking a tuple"
      ]
    },
    {
      "cell_type": "code",
      "execution_count": 142,
      "metadata": {},
      "outputs": [
        {
          "name": "stdout",
          "output_type": "stream",
          "text": [
            "<class 'tuple'>\n"
          ]
        }
      ],
      "source": [
        "numbers = 10, 20, 30\n",
        "print(type(numbers))"
      ]
    },
    {
      "cell_type": "code",
      "execution_count": 143,
      "metadata": {},
      "outputs": [
        {
          "name": "stdout",
          "output_type": "stream",
          "text": [
            "x=10, y=20\n",
            "x=20, y=10\n"
          ]
        }
      ],
      "source": [
        "x = 10\n",
        "y = 20\n",
        "\n",
        "print(f'x={x}, y={y}')\n",
        "\n",
        "tmp = x\n",
        "x = y\n",
        "y = tmp\n",
        "\n",
        "print(f'x={x}, y={y}')"
      ]
    },
    {
      "cell_type": "code",
      "execution_count": 144,
      "metadata": {},
      "outputs": [
        {
          "name": "stdout",
          "output_type": "stream",
          "text": [
            "x=10, y=20\n",
            "x=20, y=10\n"
          ]
        }
      ],
      "source": [
        "x = 10\n",
        "y = 20\n",
        "\n",
        "print(f'x={x}, y={y}')\n",
        "\n",
        "x, y = y, x\n",
        "\n",
        "print(f'x={x}, y={y}')"
      ]
    },
    {
      "cell_type": "code",
      "execution_count": 146,
      "metadata": {},
      "outputs": [
        {
          "name": "stdout",
          "output_type": "stream",
          "text": [
            "(1, 3, 5, 2, 4, 6)\n"
          ]
        }
      ],
      "source": [
        "odd_numbers = (1, 3, 5)\n",
        "even_numbers = (2, 4, 6)\n",
        "numbers = (*odd_numbers, *even_numbers)\n",
        "print(numbers)"
      ]
    },
    {
      "cell_type": "markdown",
      "metadata": {
        "id": "OBC98UkLwZ0y"
      },
      "source": [
        "# SECTION 8 : EXECEPTION HANDLING"
      ]
    },
    {
      "cell_type": "markdown",
      "metadata": {
        "id": "HXzFxJbxwiaa"
      },
      "source": [
        "#### Exception handling try_except, try_except_finally , try_except_else"
      ]
    },
    {
      "cell_type": "markdown",
      "metadata": {
        "id": "oMfposs7w_iS"
      },
      "source": [
        "#### Exceptions\n"
      ]
    },
    {
      "cell_type": "code",
      "execution_count": 185,
      "metadata": {
        "id": "Guw7CD9uxB0K"
      },
      "outputs": [
        {
          "name": "stdout",
          "output_type": "stream",
          "text": [
            "Enter the net sales for\n",
            "Sales increase 260.0%\n"
          ]
        }
      ],
      "source": [
        "# get input net sales\n",
        "print('Enter the net sales for')\n",
        "\n",
        "previous = float(input('- Prior period:'))\n",
        "current = float(input('- Current period:'))\n",
        "\n",
        "# calculate the change in percentage\n",
        "change = (current - previous) * 100 / previous\n",
        "\n",
        "# show the result\n",
        "if change > 0:\n",
        "    result = f'Sales increase {abs(change)}%'\n",
        "else:\n",
        "    result = f'Sales decrease {abs(change)}%'\n",
        "\n",
        "print(result)"
      ]
    },
    {
      "cell_type": "markdown",
      "metadata": {},
      "source": [
        "### Handling exceptions\n"
      ]
    },
    {
      "cell_type": "code",
      "execution_count": 186,
      "metadata": {},
      "outputs": [
        {
          "name": "stdout",
          "output_type": "stream",
          "text": [
            "Enter the net sales for\n",
            "Sales increase 1500.0%\n"
          ]
        }
      ],
      "source": [
        "try:\n",
        "    # get input net sales\n",
        "    print('Enter the net sales for')\n",
        "\n",
        "    previous = float(input('- Prior period:'))\n",
        "    current = float(input('- Current period:'))\n",
        "\n",
        "    # calculate the change in percentage\n",
        "    change = (current - previous) * 100 / previous\n",
        "\n",
        "    # show the result\n",
        "    if change > 0:\n",
        "        result = f'Sales increase {abs(change)}%'\n",
        "    else:\n",
        "        result = f'Sales decrease {abs(change)}%'\n",
        "\n",
        "    print(result)\n",
        "except:\n",
        "    print('Error! Please enter a number for net sales.')\n"
      ]
    },
    {
      "cell_type": "markdown",
      "metadata": {},
      "source": [
        "### Catching specific exceptions\n"
      ]
    },
    {
      "cell_type": "code",
      "execution_count": 187,
      "metadata": {},
      "outputs": [
        {
          "name": "stdout",
          "output_type": "stream",
          "text": [
            "Enter the net sales for\n",
            "Sales increase 12.5%\n"
          ]
        }
      ],
      "source": [
        "try:\n",
        "    # get input net sales\n",
        "    print('Enter the net sales for')\n",
        "\n",
        "    previous = float(input('- Prior period:'))\n",
        "    current = float(input('- Current period:'))\n",
        "\n",
        "    # calculate the change in percentage\n",
        "    change = (current - previous) * 100 / previous\n",
        "\n",
        "    # show the result\n",
        "    if change > 0:\n",
        "        result = f'Sales increase {abs(change)}%'\n",
        "    else:\n",
        "        result = f'Sales decrease {abs(change)}%'\n",
        "\n",
        "    print(result)\n",
        "except ValueError:\n",
        "    print('Error! Please enter a number for net sales.')\n"
      ]
    },
    {
      "cell_type": "markdown",
      "metadata": {},
      "source": [
        "### Handling multiple exceptions\n"
      ]
    },
    {
      "cell_type": "code",
      "execution_count": 188,
      "metadata": {},
      "outputs": [
        {
          "name": "stdout",
          "output_type": "stream",
          "text": [
            "Enter the net sales for\n",
            "Sales increase 80.0%\n"
          ]
        }
      ],
      "source": [
        "try:\n",
        "    # get input net sales\n",
        "    print('Enter the net sales for')\n",
        "\n",
        "    previous = float(input('- Prior period:'))\n",
        "    current = float(input('- Current period:'))\n",
        "\n",
        "    # calculate the change in percentage\n",
        "    change = (current - previous) * 100 / previous\n",
        "\n",
        "    # show the result\n",
        "    if change > 0:\n",
        "        result = f'Sales increase {abs(change)}%'\n",
        "    else:\n",
        "        result = f'Sales decrease {abs(change)}%'\n",
        "\n",
        "    print(result)\n",
        "except ValueError:\n",
        "    print('Error! Please enter a number for net sales.')\n",
        "except ZeroDivisionError:\n",
        "    print('Error! The prior net sales cannot be zero.')\n",
        "except Exception as error:\n",
        "    print(error)"
      ]
    },
    {
      "cell_type": "markdown",
      "metadata": {
        "id": "YUaHzhgmxJS6"
      },
      "source": [
        "## Python try_except_finally"
      ]
    },
    {
      "cell_type": "markdown",
      "metadata": {
        "id": "-xNn6XEZxS9f"
      },
      "source": [
        "### Python try…catch…finally statement examples\n"
      ]
    },
    {
      "cell_type": "code",
      "execution_count": 147,
      "metadata": {},
      "outputs": [
        {
          "name": "stdout",
          "output_type": "stream",
          "text": [
            "division by zero\n",
            "Finishing up.\n"
          ]
        }
      ],
      "source": [
        "a = 10\n",
        "b = 0\n",
        "\n",
        "try:\n",
        "    c = a / b\n",
        "    print(c)\n",
        "except ZeroDivisionError as error:\n",
        "    print(error)\n",
        "finally:\n",
        "    print('Finishing up.')\n"
      ]
    },
    {
      "cell_type": "code",
      "execution_count": 148,
      "metadata": {},
      "outputs": [
        {
          "name": "stdout",
          "output_type": "stream",
          "text": [
            "5.0\n",
            "Finishing up.\n"
          ]
        }
      ],
      "source": [
        "a = 10\n",
        "b = 2\n",
        "\n",
        "try:\n",
        "    c = a / b\n",
        "    print(c)\n",
        "except ZeroDivisionError as error:\n",
        "    print(error)\n",
        "finally:\n",
        "    print('Finishing up.')\n"
      ]
    },
    {
      "cell_type": "markdown",
      "metadata": {},
      "source": [
        "## Python try…except…else\n"
      ]
    },
    {
      "cell_type": "markdown",
      "metadata": {},
      "source": [
        "#### 1) Using try…except…else statement for control flow\n"
      ]
    },
    {
      "cell_type": "code",
      "execution_count": 191,
      "metadata": {
        "id": "SSkzmlvYxbgd"
      },
      "outputs": [
        {
          "name": "stdout",
          "output_type": "stream",
          "text": [
            "Your body mass index is 0.1\n",
            "This is considered underweight!\n"
          ]
        }
      ],
      "source": [
        "def calculate_bmi(height, weight):\n",
        "    \"\"\" calculate body mass index (BMI) \"\"\"\n",
        "    return weight / height**2\n",
        "\n",
        "\n",
        "def evaluate_bmi(bmi):\n",
        "    \"\"\" evaluate the bmi \"\"\"\n",
        "    if 18.5 <= bmi <= 24.9:\n",
        "        return 'healthy'\n",
        "\n",
        "    if bmi >= 25:\n",
        "        return 'overweight'\n",
        "\n",
        "    return 'underweight'\n",
        "\n",
        "\n",
        "def main():\n",
        "    try:\n",
        "        height = float(input('Enter your height (meters):'))\n",
        "        weight = float(input('Enter your weight (kilograms):'))\n",
        "\n",
        "    except ValueError as error:\n",
        "        print(error)\n",
        "    else:\n",
        "        bmi = round(calculate_bmi(height, weight), 1)\n",
        "        evaluation = evaluate_bmi(bmi)\n",
        "\n",
        "        print(f'Your body mass index is {bmi}')\n",
        "        print(f'This is considered {evaluation}!')\n",
        "\n",
        "main()"
      ]
    },
    {
      "cell_type": "markdown",
      "metadata": {},
      "source": [
        "#### 2) Using Python try…except…else and finally example\n"
      ]
    },
    {
      "cell_type": "code",
      "execution_count": 193,
      "metadata": {},
      "outputs": [
        {
          "name": "stdout",
          "output_type": "stream",
          "text": [
            "Error!  does not exist.\n",
            "Type \"quit\" to exit.\n",
            "Type \"quit\" to exit.\n"
          ]
        }
      ],
      "source": [
        "fruits = {\n",
        "    'apple': 10,\n",
        "    'orange': 20,\n",
        "    'banana': 30\n",
        "}\n",
        "\n",
        "key = None\n",
        "while True:\n",
        "    try:\n",
        "        key = input('Enter a key to lookup (or type \"quit\" to exit):')\n",
        "        if key.lower() == 'quit':\n",
        "            break\n",
        "        fruit = fruits[key.lower()]\n",
        "    except KeyError:\n",
        "        print(f'Error! {key} does not exist.')\n",
        "    else:\n",
        "        print(fruit)\n",
        "    finally:\n",
        "        print('Type \"quit\" to exit.')\n"
      ]
    },
    {
      "cell_type": "markdown",
      "metadata": {
        "id": "veQf5Vl6xcck"
      },
      "source": [
        "# SECTION 9 : MORE ON LOOPS"
      ]
    },
    {
      "cell_type": "markdown",
      "metadata": {
        "id": "BGH1xDKbxoOM"
      },
      "source": [
        "## FOR_ELSE"
      ]
    },
    {
      "cell_type": "code",
      "execution_count": 198,
      "metadata": {
        "id": "AHggV1Zext1j"
      },
      "outputs": [
        {
          "name": "stdout",
          "output_type": "stream",
          "text": [
            "{'name': 'Peter', 'age': 30}\n"
          ]
        }
      ],
      "source": [
        "people = [{'name': 'John', 'age': 25},\n",
        "        {'name': 'Jane', 'age': 22},\n",
        "        {'name': 'Peter', 'age': 30},\n",
        "        {'name': 'Jenifer', 'age': 28}]\n",
        "\n",
        "name = input('Enter a name:')\n",
        "\n",
        "found = False\n",
        "for person in people:\n",
        "    if person['name'] == name:\n",
        "        found = True\n",
        "        print(person)\n",
        "        break\n",
        "\n",
        "if not found:\n",
        "    print(f'{name} not found!')\n"
      ]
    },
    {
      "cell_type": "code",
      "execution_count": 199,
      "metadata": {},
      "outputs": [
        {
          "name": "stdout",
          "output_type": "stream",
          "text": [
            "{'name': 'Peter', 'age': 30}\n"
          ]
        }
      ],
      "source": [
        "people = [{'name': 'John', 'age': 25},\n",
        "        {'name': 'Jane', 'age': 22},\n",
        "        {'name': 'Peter', 'age': 30},\n",
        "        {'name': 'Jenifer', 'age': 28}]\n",
        "\n",
        "name = input('Enter a name:')\n",
        "\n",
        "for person in people:\n",
        "    if person['name'] == name:\n",
        "        print(person)\n",
        "        break\n",
        "else:\n",
        "    print(f'{name} not found!')"
      ]
    },
    {
      "cell_type": "markdown",
      "metadata": {
        "id": "hxVYR0ZuxzFl"
      },
      "source": [
        "#### WHILE ELSE"
      ]
    },
    {
      "cell_type": "code",
      "execution_count": 200,
      "metadata": {},
      "outputs": [
        {
          "name": "stdout",
          "output_type": "stream",
          "text": [
            "The basket has 20 apple(s)\n"
          ]
        }
      ],
      "source": [
        "basket = [\n",
        "    {'fruit': 'apple', 'qty': 20},\n",
        "    {'fruit': 'banana', 'qty': 30},\n",
        "    {'fruit': 'orange', 'qty': 10}\n",
        "]\n",
        "\n",
        "fruit = input('Enter a fruit:')\n",
        "\n",
        "index = 0\n",
        "found_it = False\n",
        "\n",
        "while index < len(basket):\n",
        "    item = basket[index]\n",
        "    # check the fruit name\n",
        "    if item['fruit'] == fruit:\n",
        "        found_it = True\n",
        "        print(f\"The basket has {item['qty']} {item['fruit']}(s)\")\n",
        "        break\n",
        "\n",
        "    index += 1\n",
        "\n",
        "if not found_it:\n",
        "    qty = int(input(f'Enter the qty for {fruit}:'))\n",
        "    basket.append({'fruit': fruit, 'qty': qty})\n",
        "    print(basket)"
      ]
    },
    {
      "cell_type": "code",
      "execution_count": 201,
      "metadata": {
        "id": "HpEobKtpx35B"
      },
      "outputs": [
        {
          "name": "stdout",
          "output_type": "stream",
          "text": [
            "The basket has 10 orange(s)\n"
          ]
        }
      ],
      "source": [
        "basket = [\n",
        "    {'fruit': 'apple', 'qty': 20},\n",
        "    {'fruit': 'banana', 'qty': 30},\n",
        "    {'fruit': 'orange', 'qty': 10}\n",
        "]\n",
        "\n",
        "fruit = input('Enter a fruit:')\n",
        "\n",
        "index = 0\n",
        "\n",
        "while index < len(basket):\n",
        "    item = basket[index]\n",
        "\n",
        "    if item['fruit'] == fruit:\n",
        "        print(f\"The basket has {item['qty']} {item['fruit']}(s)\")\n",
        "        found_it = True\n",
        "        break\n",
        "\n",
        "    index += 1\n",
        "else:\n",
        "    qty = int(input(f'Enter the qty for {fruit}:'))\n",
        "    basket.append({'fruit': fruit, 'qty': qty})\n",
        "    print(basket)\n"
      ]
    },
    {
      "cell_type": "markdown",
      "metadata": {
        "id": "QR15tud9x884"
      },
      "source": [
        "#### DO WHILE LOOP"
      ]
    },
    {
      "cell_type": "code",
      "execution_count": 202,
      "metadata": {
        "id": "mgB3URNUyIRF"
      },
      "outputs": [
        {
          "name": "stdout",
          "output_type": "stream",
          "text": [
            "Bingo! 1 attempt(s)\n"
          ]
        }
      ],
      "source": [
        "from random import randint\n",
        "\n",
        "\n",
        "MIN = 0\n",
        "MAX = 20\n",
        "\n",
        "\n",
        "secret_number = randint(MIN, MAX)\n",
        "\n",
        "attempt = 0\n",
        "\n",
        "while True:\n",
        "    attempt += 1\n",
        "\n",
        "    input_number = int(input(f'Enter a number between {MIN} and {MAX}:'))\n",
        "\n",
        "    if input_number > secret_number:\n",
        "        print('It should be smaller.')\n",
        "    elif input_number < secret_number:\n",
        "        print('It should be bigger.')\n",
        "    else:\n",
        "        print(f'Bingo! {attempt} attempt(s)')\n",
        "        break\n"
      ]
    },
    {
      "cell_type": "code",
      "execution_count": 204,
      "metadata": {},
      "outputs": [
        {
          "name": "stdout",
          "output_type": "stream",
          "text": [
            "It should be smaller.\n",
            "It should be bigger.\n",
            "It should be bigger.\n",
            "Bingo! 4 attempt(s)\n"
          ]
        }
      ],
      "source": [
        "from random import randint\n",
        "\n",
        "MIN = 0\n",
        "MAX = 10\n",
        "\n",
        "secret_number = randint(MIN, MAX)\n",
        "\n",
        "attempt = 0\n",
        "\n",
        "while True:\n",
        "    attempt += 1\n",
        "\n",
        "    input_number = int(input(f'Enter a number between {MIN} and {MAX}:'))\n",
        "\n",
        "    if input_number > secret_number:\n",
        "        print('It should be smaller.')\n",
        "    elif input_number < secret_number:\n",
        "        print('It should be bigger.')\n",
        "    else:\n",
        "        print(f'Bingo! {attempt} attempt(s)')\n",
        "        break\n"
      ]
    },
    {
      "cell_type": "markdown",
      "metadata": {
        "id": "5lBGheMuyZGc"
      },
      "source": [
        "# SECTION 10 : MORE ON FUNCTIONS"
      ]
    },
    {
      "cell_type": "markdown",
      "metadata": {
        "id": "m1vLZyr4yecm"
      },
      "source": [
        "## Unpacking Tuple"
      ]
    },
    {
      "cell_type": "code",
      "execution_count": 205,
      "metadata": {
        "id": "12M3qp4Kygm9"
      },
      "outputs": [
        {
          "name": "stdout",
          "output_type": "stream",
          "text": [
            "x=10, y=20\n",
            "x=20, y=10\n"
          ]
        }
      ],
      "source": [
        "x = 10\n",
        "y = 20\n",
        "\n",
        "print(f'x={x}, y={y}')\n",
        "\n",
        "x, y = y, x\n",
        "\n",
        "print(f'x={x}, y={y}')"
      ]
    },
    {
      "cell_type": "code",
      "execution_count": 206,
      "metadata": {
        "id": "584RoU8MywLK"
      },
      "outputs": [
        {
          "name": "stdout",
          "output_type": "stream",
          "text": [
            "(1, 3, 5, 2, 4, 6)\n"
          ]
        }
      ],
      "source": [
        "odd_numbers = (1, 3, 5)\n",
        "even_numbers = (2, 4, 6)\n",
        "numbers = (*odd_numbers, *even_numbers)\n",
        "print(numbers)"
      ]
    },
    {
      "cell_type": "markdown",
      "metadata": {},
      "source": [
        "#### Extended unpacking using the * operator"
      ]
    },
    {
      "cell_type": "code",
      "execution_count": 158,
      "metadata": {},
      "outputs": [],
      "source": [
        "r, g, *other = (192, 210, 100, 0.5)"
      ]
    },
    {
      "cell_type": "markdown",
      "metadata": {
        "id": "lylPUREEyyuF"
      },
      "source": [
        "### *ARGS"
      ]
    },
    {
      "cell_type": "code",
      "execution_count": 208,
      "metadata": {},
      "outputs": [
        {
          "name": "stdout",
          "output_type": "stream",
          "text": [
            "100\n"
          ]
        }
      ],
      "source": [
        "\n",
        "def add(x, y, *args):\n",
        "    total = x + y\n",
        "    for arg in args:\n",
        "        total += arg\n",
        "\n",
        "    return total\n",
        "\n",
        "\n",
        "result = add(10, 20, 30, 40)\n",
        "print(result)"
      ]
    },
    {
      "cell_type": "code",
      "execution_count": 159,
      "metadata": {},
      "outputs": [
        {
          "name": "stdout",
          "output_type": "stream",
          "text": [
            "()\n"
          ]
        }
      ],
      "source": [
        "def add(*args):\n",
        "    print(args)\n",
        "\n",
        "\n",
        "add()"
      ]
    },
    {
      "cell_type": "code",
      "execution_count": 160,
      "metadata": {},
      "outputs": [
        {
          "name": "stdout",
          "output_type": "stream",
          "text": [
            "(1, 2, 3)\n"
          ]
        }
      ],
      "source": [
        "def add(*args):\n",
        "    print(args)\n",
        "\n",
        "\n",
        "add(1,2,3)"
      ]
    },
    {
      "cell_type": "code",
      "execution_count": 161,
      "metadata": {},
      "outputs": [
        {
          "name": "stdout",
          "output_type": "stream",
          "text": [
            "6\n"
          ]
        }
      ],
      "source": [
        "def add(*args):\n",
        "    total = 0\n",
        "    for arg in args:\n",
        "        total += arg\n",
        "    return total\n",
        "\n",
        "\n",
        "total = add(1, 2, 3)\n",
        "print(total)"
      ]
    },
    {
      "cell_type": "code",
      "execution_count": 207,
      "metadata": {
        "id": "lhqjMuEby871"
      },
      "outputs": [
        {
          "name": "stdout",
          "output_type": "stream",
          "text": [
            "(0,0)\n"
          ]
        }
      ],
      "source": [
        "def point(x, y):\n",
        "    return f'({x},{y})'\n",
        "\n",
        "\n",
        "a = (0, 0)\n",
        "origin = point(*a)\n",
        "print(origin)\n"
      ]
    },
    {
      "cell_type": "markdown",
      "metadata": {
        "id": "one2fD71y-M7"
      },
      "source": [
        "### **KWARGS"
      ]
    },
    {
      "cell_type": "code",
      "execution_count": 211,
      "metadata": {
        "id": "GNiR1e6jzCw1"
      },
      "outputs": [
        {
          "name": "stdout",
          "output_type": "stream",
          "text": [
            "{'server': 'localhost', 'port': 3306, 'user': 'root', 'password': 'Py1thon!Xt12'}\n"
          ]
        }
      ],
      "source": [
        "def connect(**kwargs):\n",
        "    print(kwargs)\n",
        "\n",
        "\n",
        "config = {'server': 'localhost',\n",
        "        'port': 3306,\n",
        "        'user': 'root',\n",
        "        'password': 'Py1thon!Xt12'}\n",
        "\n",
        "connect(**config)\n",
        "def connect(fn, **kwargs):\n",
        "    print(kwargs)\n"
      ]
    },
    {
      "cell_type": "markdown",
      "metadata": {},
      "source": [
        "### Using both *args and **kwargs arguments\n"
      ]
    },
    {
      "cell_type": "code",
      "execution_count": 213,
      "metadata": {
        "id": "6Ooxf33OzSTE"
      },
      "outputs": [
        {
          "name": "stdout",
          "output_type": "stream",
          "text": [
            "(1, 2)\n",
            "{'x': 10, 'y': 20}\n"
          ]
        }
      ],
      "source": [
        "def fn(*args, **kwargs):\n",
        "    print(args)\n",
        "    print(kwargs)\n",
        "   \n",
        "fn(1, 2, x=10, y=20)"
      ]
    },
    {
      "cell_type": "code",
      "execution_count": 162,
      "metadata": {},
      "outputs": [
        {
          "name": "stdout",
          "output_type": "stream",
          "text": [
            "20\n"
          ]
        }
      ],
      "source": [
        "from functools import partial\n",
        "\n",
        "def multiply(a, b):\n",
        "    return a*b\n",
        "\n",
        "\n",
        "double = partial(multiply, b=2)\n",
        "\n",
        "result = double(10)\n",
        "print(result)\n"
      ]
    },
    {
      "cell_type": "markdown",
      "metadata": {
        "id": "Jak9HDo4zVnl"
      },
      "source": [
        "## Partial Functions"
      ]
    },
    {
      "cell_type": "code",
      "execution_count": 214,
      "metadata": {
        "id": "Gk_c4WP8zYP4"
      },
      "outputs": [
        {
          "name": "stdout",
          "output_type": "stream",
          "text": [
            "20\n"
          ]
        }
      ],
      "source": [
        "def multiply(a, b):\n",
        "    return a*b\n",
        "\n",
        "\n",
        "def double(a):\n",
        "    return multiply(a, 2)\n",
        "\n",
        "\n",
        "result = double(10)\n",
        "print(result)  "
      ]
    },
    {
      "cell_type": "markdown",
      "metadata": {},
      "source": [
        "### Python partial function from functools module\n"
      ]
    },
    {
      "cell_type": "code",
      "execution_count": 215,
      "metadata": {},
      "outputs": [
        {
          "name": "stdout",
          "output_type": "stream",
          "text": [
            "20\n"
          ]
        }
      ],
      "source": [
        "from functools import partial\n",
        "\n",
        "def multiply(a, b):\n",
        "    return a*b\n",
        "\n",
        "\n",
        "double = partial(multiply, b=2)\n",
        "\n",
        "result = double(10)\n",
        "print(result)\n"
      ]
    },
    {
      "cell_type": "markdown",
      "metadata": {},
      "source": [
        "### Python partial functions and variables\n"
      ]
    },
    {
      "cell_type": "code",
      "execution_count": 216,
      "metadata": {
        "id": "ZVsaztMXzdLS"
      },
      "outputs": [
        {
          "name": "stdout",
          "output_type": "stream",
          "text": [
            "20\n",
            "20\n"
          ]
        }
      ],
      "source": [
        "from functools import partial\n",
        "\n",
        "\n",
        "def multiply(a, b):\n",
        "    return a*b\n",
        "\n",
        "\n",
        "x = 2\n",
        "f = partial(multiply, x)\n",
        "\n",
        "result = f(10)  \n",
        "print(result)\n",
        "\n",
        "x = 3\n",
        "result = f(10)  \n",
        "print(result)"
      ]
    },
    {
      "cell_type": "code",
      "execution_count": 163,
      "metadata": {},
      "outputs": [
        {
          "name": "stdout",
          "output_type": "stream",
          "text": [
            "Hi John\n"
          ]
        }
      ],
      "source": [
        "def say_hi(name: str) -> str:\n",
        "    return f'Hi {name}'\n",
        "\n",
        "\n",
        "greeting = say_hi('John')\n",
        "print(greeting)"
      ]
    },
    {
      "cell_type": "code",
      "execution_count": 164,
      "metadata": {},
      "outputs": [
        {
          "name": "stdout",
          "output_type": "stream",
          "text": [
            "Hi 123\n"
          ]
        }
      ],
      "source": [
        "def say_hi(name: str) -> str:\n",
        "    return f'Hi {name}'\n",
        "\n",
        "\n",
        "greeting = say_hi(123)\n",
        "print(greeting)"
      ]
    },
    {
      "cell_type": "markdown",
      "metadata": {
        "id": "kICCfwqszho_"
      },
      "source": [
        "## TYPE HINTS"
      ]
    },
    {
      "cell_type": "markdown",
      "metadata": {
        "id": "hi4o4I1rzpBL"
      },
      "source": [
        "### Using a static type checker tool: mypy"
      ]
    },
    {
      "cell_type": "code",
      "execution_count": 218,
      "metadata": {},
      "outputs": [
        {
          "name": "stdout",
          "output_type": "stream",
          "text": [
            "Hi John\n"
          ]
        }
      ],
      "source": [
        "def say_hi(name):\n",
        "    return f'Hi {name}'\n",
        "\n",
        "\n",
        "greeting = say_hi('John')\n",
        "print(greeting)"
      ]
    },
    {
      "cell_type": "markdown",
      "metadata": {},
      "source": [
        "### Using a static type checker tool: mypy\n"
      ]
    },
    {
      "cell_type": "markdown",
      "metadata": {
        "id": "3KX2hKOJUHSK"
      },
      "source": [
        "### Type aliases"
      ]
    },
    {
      "cell_type": "code",
      "execution_count": null,
      "metadata": {
        "id": "JMJkGJoDUKQL"
      },
      "outputs": [],
      "source": [
        "from typing import Union\n",
        "\n",
        "number = Union[int, float]\n",
        "\n",
        "\n",
        "def add(x: number, y: number) -> number:\n",
        "    return x + y"
      ]
    },
    {
      "cell_type": "markdown",
      "metadata": {
        "id": "JvpA62oDUQ1O"
      },
      "source": [
        "### Adding type hints for lists, dictionaries, and sets"
      ]
    },
    {
      "cell_type": "code",
      "execution_count": 222,
      "metadata": {
        "id": "HdXI89I1UR8n"
      },
      "outputs": [],
      "source": [
        "from typing import List\n",
        "\n",
        "ratings: List[int] = [1, 2, 3]"
      ]
    }
  ],
  "metadata": {
    "colab": {
      "name": "Welcome To Colaboratory",
      "provenance": [],
      "toc_visible": true
    },
    "kernelspec": {
      "display_name": "Python 3",
      "name": "python3"
    },
    "language_info": {
      "codemirror_mode": {
        "name": "ipython",
        "version": 3
      },
      "file_extension": ".py",
      "mimetype": "text/x-python",
      "name": "python",
      "nbconvert_exporter": "python",
      "pygments_lexer": "ipython3",
      "version": "3.10.14"
    }
  },
  "nbformat": 4,
  "nbformat_minor": 0
}
